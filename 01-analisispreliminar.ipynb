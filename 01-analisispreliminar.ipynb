{
  "cells": [
    {
      "metadata": {
        "_uuid": "dbbd81a4fc6aceb58eb92b12bf970b729ceae538"
      },
      "cell_type": "markdown",
      "source": "# 3 - Analisis Preliminar\n---\n\n En el siguiente notebook se revisaran las caracteristicas del Dataset a analizar."
    },
    {
      "metadata": {
        "trusted": true,
        "_uuid": "8dd6a0410c54ac7a3ed83a48d98a9908c1088edc"
      },
      "cell_type": "code",
      "source": "import numpy as np\nimport pandas as pd\nimport matplotlib.pyplot as plt\n%matplotlib inline\nimport seaborn as sns\nimport pickle\nimport folium\nfrom folium.plugins import HeatMap\nfrom folium.features import CustomIcon\n#from bokeh.plotting import figure, show, output_file\n#from bokeh.tile_providers import CARTODBPOSITRON",
      "execution_count": null,
      "outputs": []
    },
    {
      "metadata": {
        "trusted": true,
        "_uuid": "a03dcdf9eb3c5bf7178a8d7c5c23e0e62f6f6a8d"
      },
      "cell_type": "code",
      "source": "#Para evitar algunas advertencias\npd.options.mode.chained_assignment = None\n# Seteamos los datos para Seaborn\nsns.set(font_scale=1.5, rc={'figure.figsize':(14,10)})",
      "execution_count": null,
      "outputs": []
    },
    {
      "metadata": {
        "trusted": true,
        "_uuid": "7b0850aeb705fea97dffe4deb6eea5ada21decf1"
      },
      "cell_type": "code",
      "source": "df_events = pd.read_csv('../input/eventos/events.csv', low_memory=False)",
      "execution_count": null,
      "outputs": []
    },
    {
      "metadata": {
        "_uuid": "40537531f682837d02cedc57c25c1d34cf8294d7"
      },
      "cell_type": "markdown",
      "source": "## 3a- Detalle del datasets"
    },
    {
      "metadata": {
        "trusted": true,
        "_uuid": "36a39338c67b1ec734fd086e579984900b7a50b8"
      },
      "cell_type": "code",
      "source": "#En primer lugar vemos por arriba la información del dataset.\ndf_events.info()",
      "execution_count": null,
      "outputs": []
    },
    {
      "metadata": {
        "trusted": true,
        "_uuid": "d002d67ee801f1a2445aa4a3d394d15e2d19ad1f"
      },
      "cell_type": "code",
      "source": "df_events.shape",
      "execution_count": null,
      "outputs": []
    },
    {
      "metadata": {
        "_uuid": "436b961d86f6fb0ecfc6a19d528f94b07740f8ce"
      },
      "cell_type": "markdown",
      "source": "El dataset cuenta con 1.011.288 registros y dispone de 23 columnas.\n\nLo primero que se ve en el Dataset es que las tres columnas que tienen siempre contienen un valor no nulo son:\n\n* **timestamp**\n* **event**\n* **person**\n\nTeniendo en cuenta que son eventos la relación de igualdad numérica entre distintas columnas nos indica que son campos relacionados, o que se completan cuando se genera un evento particular.\n\n\nEn las otras columnas se puede notar una relación por ejemplo:\n\n* *channel*&nbsp;&nbsp;&nbsp;&nbsp;&nbsp;&nbsp;87378 \n* *new_vs_returning*&nbsp;&nbsp;&nbsp;&nbsp;&nbsp;&nbsp;87378 \n* *city*&nbsp;&nbsp;&nbsp;&nbsp;&nbsp;&nbsp;87378 \n* *region*&nbsp;&nbsp;&nbsp;&nbsp;&nbsp;&nbsp;87378 \n* *country*&nbsp;&nbsp;&nbsp;&nbsp;&nbsp;&nbsp;87378 \n* *device_type*&nbsp;&nbsp;&nbsp;&nbsp;&nbsp;&nbsp;87378 \n* *screen_resolution*&nbsp;&nbsp;&nbsp;&nbsp;&nbsp;&nbsp;87378 \n* *operating_system_version*&nbsp;&nbsp;&nbsp;&nbsp;&nbsp;&nbsp;87378 \n* *browser_version*&nbsp;&nbsp;&nbsp;&nbsp;&nbsp;&nbsp;87378\n\nTodas estan completas en el mismo cantidad de veces. Del mismo mo podemos encontrar la siguiente relación.\n\n* *sku*&nbsp;&nbsp;&nbsp;&nbsp;&nbsp;&nbsp;563838\n* *model*&nbsp;&nbsp;&nbsp;&nbsp;&nbsp;&nbsp;564284\n* *condition*&nbsp;&nbsp;&nbsp;&nbsp;&nbsp;&nbsp;563836\n* *storage*&nbsp;&nbsp;&nbsp;&nbsp;&nbsp;&nbsp;563836\n* *color*&nbsp;&nbsp;&nbsp;&nbsp;&nbsp;&nbsp;563836\n"
    },
    {
      "metadata": {
        "_uuid": "b0a7b32dc1d1b9d0d994375f9096aedeb47ab105"
      },
      "cell_type": "markdown",
      "source": "## 3b- Columna Events\n---\n\nAnalizaremos los eventos\n"
    },
    {
      "metadata": {
        "trusted": true,
        "_uuid": "e49ea4f5bb2116c4ec3021e018418b0f233b97ff"
      },
      "cell_type": "code",
      "source": "df_events['event'].value_counts()",
      "execution_count": null,
      "outputs": []
    },
    {
      "metadata": {
        "trusted": true,
        "_uuid": "b0791ff39d3e42b61bc86e09da99acb693e0ce8c"
      },
      "cell_type": "code",
      "source": "# Graficamos para ver rapidamente los eventos generados.\neventos = df_events['event'].value_counts()\ngrafico1 = sns.barplot(eventos.index, eventos.values)\ngrafico1.grid(True)\ngrafico1.set_title(\"Eventos generados\")\ngrafico1.set_ylabel(\"Cantidad de Eventos Generados\")\ngrafico1.set_xlabel(\"Eventos Generados\")\ngrafico1.set_xticklabels(grafico1.get_xticklabels(), rotation=90)\nfor i, v in enumerate(eventos.items()):        \n    grafico1.text(i ,v[1], v[1], color='black', va ='bottom',  size=18)\nplt.tight_layout()\n#plt.savefig(\"./graficos/grafico1.png\", bbox_inches='tight')\nplt.show()",
      "execution_count": null,
      "outputs": []
    },
    {
      "metadata": {
        "_uuid": "e292e252e1fc896a87eeefc1a666b98cf7d2d0e0"
      },
      "cell_type": "markdown",
      "source": "### 3bb - Evento 'visited site'\n---\n\nVeremos el detalle de lo que ocurre con Visited Site."
    },
    {
      "metadata": {
        "trusted": true,
        "_uuid": "1795a4d776d672a6c22144d272331e4d67f7a8a0"
      },
      "cell_type": "code",
      "source": "df_events.loc[df_events['event'] == 'visited site', 'timestamp'].count()",
      "execution_count": null,
      "outputs": []
    },
    {
      "metadata": {
        "_uuid": "327470b823b234874e5f3e0be0d6474b199c09ff"
      },
      "cell_type": "markdown",
      "source": "Coincide el numero de eventos 'visite page' 87378 con el grupo de campos: channel, new_vs_returning, city, region, country, device_type, screen_resolution, operating_system_version, browser_version. Listamos algunos registros para ver si vemos alguna particularidad\n"
    },
    {
      "metadata": {
        "trusted": true,
        "_uuid": "9d73de628711bf272fda0d1f44bb1ec36341ea33"
      },
      "cell_type": "code",
      "source": "df_events.loc[df_events['event'] == 'visited site'].head(8)",
      "execution_count": null,
      "outputs": []
    },
    {
      "metadata": {
        "_uuid": "b0870f48f59e3a043c5abb5416238c23a00d8051"
      },
      "cell_type": "markdown",
      "source": "La información que nos da es:\n\nGeografica:\n* **País** (country)\n* **Región** (region)\n* **Ciudad** (City)\n\nDispositivo: \n\n* **Tipo** (device_type)\n* **Resolución de pantalla** (screen_resolution)\n* **Sistema Operativo** (operating_system_version)\n* **Navegador** (browser_version)\n\nUsuario:  \n\n* **Canal de conexión** (channels)\n* **Si es usuario recurrente** (new_vs_returning)\n\nLa presunción es que evento 'visited site' se genera cada vez que el usuario ingresa a la página. Para validar esta suposición los eventos generado por usuario debería ser el primero. por cada vez que ingrese, para hacer este filtro vamos a considerar las siguientes condiciones:\n\n* La agrupacion debe ser por usuario.\n* Tomaremos un campo que es la concatenacion de: mes - día. Lo llamaremos 'periodo'\n* Contabilizaremos la cantidad de eventos generado en el día gracias a la columna 'periodo'.\n* Luego contamos los eventos que se hayan generado en cada periodo que haya aparecido el evento 'visited site', pero\nsolo contaremos la aparición, no la cantidad de veces que se haya generado el evento.\n* compararemos cuando no aparece 'visited site'.\n\nSi es resultado fuese positivo debería aparecer el evento visited site en igual o mayor proporcion que el resto de los eventos.\n"
    },
    {
      "metadata": {
        "trusted": true,
        "_uuid": "7af892e891c9a1f3db04bf0feec74e51ffb08e9c"
      },
      "cell_type": "code",
      "source": "#Asignamos el tipo datetime a la columna timestamp.\ndf_events['timestamp'] = pd.to_datetime(df_events['timestamp'])\n#filtramos los campos con los que queremos trabajar para hacer la comprobaciones.\ndf_work_group = df_events.filter(items=['timestamp', 'person', 'event', 'new_vs_returning'])\n#creamos la columna periodo y le asinamos una clave unica para diferenciar los días...\ndf_work_group['periodo'] = df_events['timestamp'].apply(lambda x: str(x.month) + str(x.day))",
      "execution_count": null,
      "outputs": []
    },
    {
      "metadata": {
        "trusted": true,
        "_uuid": "94ddef94c9d1ba9fb833be24bbb008697339922e"
      },
      "cell_type": "code",
      "source": "#Hacemos la agrupación \ndf_work_group = df_work_group.groupby(['person', 'periodo','event'])\nusers, rows = df_events['person'].nunique(), df_work_group.ngroups\nprint(\"La cantidad de usuarios son: {} y la cantidad de registros generados {}, El promedio de actividad por persona es: {:.2f}\".format(users, rows, (rows/users)))",
      "execution_count": null,
      "outputs": []
    },
    {
      "metadata": {
        "trusted": true,
        "_uuid": "8dad26301568edd567edd4ee41f57ad8102ee8f6"
      },
      "cell_type": "code",
      "source": "# Hacemos apply y un unstack para acomodar los valores que deseamos chequear.\ndf_work_group = df_work_group.agg({'event':'count'}).unstack()",
      "execution_count": null,
      "outputs": []
    },
    {
      "metadata": {
        "trusted": true,
        "_uuid": "ff26c12ccc8b24e7d8d08aff0528aab5cefba8f4"
      },
      "cell_type": "code",
      "source": "#cambiamos los nombres de las columnas para luego poder acceder sin problemas con los graficos.\nlevel1 = df_work_group.columns.get_level_values(1).tolist()\ni = 0\nfor e in level1:\n    level1[i] = e.replace(\" \", \"_\")\n    i += 1\ndf_work_group.columns = level1\ndf_work_group",
      "execution_count": null,
      "outputs": []
    },
    {
      "metadata": {
        "trusted": true,
        "_uuid": "0d6ee1982146a359184482dc5ace69da573ac8a0"
      },
      "cell_type": "code",
      "source": "eventos_all = df_work_group.count()\ngrafico2 = sns.barplot(eventos_all.index, eventos_all.values)\ngrafico2.set_title(\"Contabilización de Eventos agrupados por usuario y día. Periodo: 01-01-18 / 15-06-18\")\ngrafico2.grid(True)\ngrafico2.set_ylabel(\"Cantidad de apariciones de Eventos\")\ngrafico2.set_xlabel(\"Eventos\")\ngrafico2.set_xticklabels(grafico2.get_xticklabels(), rotation=90)\nfor i, v in enumerate(eventos_all.items()):        \n    grafico2.text(i ,v[1], v[1], color='black', va ='bottom',  size=18)\nplt.tight_layout()\n#plt.savefig(\"./graficos/grafico2.png\", bbox_inches='tight')\nplt.show()",
      "execution_count": null,
      "outputs": []
    },
    {
      "metadata": {
        "trusted": true,
        "_uuid": "56593593d67e65f9bf0f52dd8882ceb83c4bd6ff"
      },
      "cell_type": "code",
      "source": "eventos_nan = df_work_group.query('visited_site==\"NaN\"').count()\ngrafico3 = sns.barplot(eventos_nan.index, eventos_nan.values)\ngrafico3.set_title(\"Contabilización de Eventos agrupados por usuario y día y que no aparezca el evento: 'visited site'. Periodo: 01-01-18 / 15-06-18\")\ngrafico3.grid(True)\ngrafico3.set_ylabel(\"Cantidad de apariciones de Eventos\")\ngrafico3.set_xlabel(\"Eventos\")\ngrafico3.set_xticklabels(grafico3.get_xticklabels(), rotation=90)\nfor i, v in enumerate(eventos_nan.items()):        \n    grafico3.text(i ,v[1], v[1], color='black', va ='bottom',  size=18)\n#plt.savefig(\"./graficos/grafico3.png\", bbox_inches='tight')\nplt.show()",
      "execution_count": null,
      "outputs": []
    },
    {
      "metadata": {
        "trusted": true,
        "_uuid": "75d135dabcb2e3d6d88cf0ef929a801b041c0fd5"
      },
      "cell_type": "code",
      "source": "eventos_vs_not_nan =  df_work_group.query('visited_site!=\"NaN\"').count()\ngrafico4 = sns.barplot(eventos_vs_not_nan.index, eventos_vs_not_nan.values)\ngrafico4.set_title(\"Contabilización de Eventos agrupados por usuario y día y siempre que aparezca el evento: 'visited site'. Periodo: 01-01-18 / 15-06-18\")\ngrafico4.grid(True)\ngrafico4.set_ylabel(\"Cantidad de apariciones de Eventos\")\ngrafico4.set_xlabel(\"Eventos\")\ngrafico4.set_xticklabels(grafico4.get_xticklabels(), rotation=90)\nfor i, v in enumerate(eventos_vs_not_nan.items()):        \n    grafico4.text(i ,v[1], v[1], color='black', va ='bottom',  size=18)\n#plt.savefig(\"./graficos/grafico4.png\", bbox_inches='tight')\nplt.show()",
      "execution_count": null,
      "outputs": []
    },
    {
      "metadata": {
        "_uuid": "10794f819a14ea6c846a372e598e5ea68a7a7123"
      },
      "cell_type": "markdown",
      "source": "#### 3bc - ¿Cómo se relaciona los inicio de sesión y las conversiones?\n"
    },
    {
      "metadata": {
        "trusted": true,
        "_uuid": "7a9a668bd3f9b2ae57a77c6875debf3dfef4febc"
      },
      "cell_type": "code",
      "source": "df_filter_sesion1 =  df_work_group.filter(items=['visited_site', 'checkout', 'conversion'])\nconversion_with_vs = df_filter_sesion1.query('visited_site!=\"NaN\"').sum().drop(['visited_site'], axis=0)\nconversion_without_vs = df_filter_sesion1.query('visited_site==\"NaN\"').sum().drop(['visited_site'], axis=0)",
      "execution_count": null,
      "outputs": []
    },
    {
      "metadata": {
        "trusted": true,
        "_uuid": "a1761c3ad5f1ac0fb397cb179d28e63e032346fa"
      },
      "cell_type": "code",
      "source": "grafico5 = sns.barplot(conversion_with_vs.index, conversion_with_vs.values)\ngrafico5.set_title(\"Cantidad de Checkout y conversiones con sesiones iniciadas con Visite Site.\")\ngrafico5.grid(True)\ngrafico5.set_ylabel(\"Suma de los eventos generados\")\ngrafico5.set_xlabel(\"Eventos\")\ngrafico5.set_xticklabels(grafico5.get_xticklabels(), rotation=90)\nfor i, v in enumerate(conversion_with_vs.items()):        \n    grafico5.text(i ,v[1], v[1], color='black', va ='bottom',  size=18)\n#plt.savefig(\"./graficos/grafico5.png\", bbox_inches='tight')\nplt.show()",
      "execution_count": null,
      "outputs": []
    },
    {
      "metadata": {
        "trusted": true,
        "_uuid": "2ba0d69558930c49cc6e32022f0edf04b42e6563"
      },
      "cell_type": "code",
      "source": "grafico6 = sns.barplot(conversion_without_vs.index, conversion_without_vs.values)\ngrafico6.set_title(\"Cantidad de Checkout y conversiones con sesiones iniciadas directamente sin Visited Site.\")\ngrafico6.grid(True)\ngrafico6.set_ylabel(\"Suma de los eventos generados\")\ngrafico6.set_xlabel(\"Eventos\")\ngrafico6.set_xticklabels(grafico6.get_xticklabels(), rotation=90)\nfor i, v in enumerate(conversion_without_vs.items()):\n    grafico6.text(i ,v[1], v[1], color='black', va ='bottom',  size=18)\n#plt.savefig(\"./graficos/grafico6.png\", bbox_inches='tight')\nplt.show()",
      "execution_count": null,
      "outputs": []
    },
    {
      "metadata": {
        "_uuid": "c5ee3bfaaeac854dd318f1dd4891678f6b9d7614"
      },
      "cell_type": "markdown",
      "source": "#### 3bd - ¿Los usuarios que ingresaron directamente tuvieron actividad anterior en la página o es el único registro que existe de ellos?."
    },
    {
      "metadata": {
        "trusted": true,
        "_uuid": "4498628782493c2fd14a653309de6884c6e01329"
      },
      "cell_type": "code",
      "source": "#Obtenemos los usuarios que hayan realizado conversiones directamente sin haber iniciado sesión.\nusers_conversion_list = df_work_group.loc[(df_work_group['conversion']>0) & (df_work_group['visited_site'].isnull()==True)]\nusers_conversion_list = users_conversion_list.index.droplevel(1).tolist()\nusers_conversion_list = df_work_group.loc[users_conversion_list]\n#Controlamos cuantos de esos usuarios han iniciado sesion\nusers_conversion_list = users_conversion_list.loc[users_conversion_list['visited_site']>0]\nusuarios_ = len(users_conversion_list.groupby(['person']).count())\nprint(\"Cantidad de usuarios que han iniciado sesión {}\".format(usuarios_))",
      "execution_count": null,
      "outputs": []
    },
    {
      "metadata": {
        "_uuid": "42bbcf1c794101101707ae7cd2feaf95d34aeef0"
      },
      "cell_type": "markdown",
      "source": "### 3be - Comprobar Eventos por usuarios.\n---\n\nAnalizaremos la relacion de cantidad de usuarios con los eventos generados."
    },
    {
      "metadata": {
        "trusted": true,
        "_uuid": "b187594f794c6e4c66bc82af39a99f515319aa42"
      },
      "cell_type": "code",
      "source": "def compEvent_User(listaEventos):\n    comp_checkout = []\n    for i in listaEventos:\n        otro = df_events.loc[df_events['event'] == i ].groupby(['person', 'event'])[['event']].count()\n        comp_checkout.append(int(otro.size))\n    return comp_checkout\nlistaEventos = df_events['event'].value_counts().index.tolist()\ncantidadUsuarios = compEvent_User(listaEventos)",
      "execution_count": null,
      "outputs": []
    },
    {
      "metadata": {
        "trusted": true,
        "_uuid": "6bf6a35ccdaf39fd43b7beb76f5f3372a022520a"
      },
      "cell_type": "code",
      "source": "grafico7 = sns.barplot(listaEventos, cantidadUsuarios)\ngrafico7.set_title(\"Cantidad de usuarios que han realizado cada evento al menos una vez.\")\ngrafico7.grid(True)\ngrafico7.set_ylabel(\"Cantidad de Usuarios\")\ngrafico7.set_xlabel(\"Eventos\")\ngrafico7.set_xticklabels(grafico7.get_xticklabels(), rotation=90)\nfor i in range(len(listaEventos)):\n    grafico7.text(i, cantidadUsuarios[i], cantidadUsuarios[i], color='black', va ='bottom',  size=18)\n#plt.savefig(\"./graficos/grafico7.png\", bbox_inches='tight')\nplt.show()",
      "execution_count": null,
      "outputs": []
    },
    {
      "metadata": {
        "_uuid": "a962803754c226447e63bb86979cad3391560a22"
      },
      "cell_type": "markdown",
      "source": "### 3c - Analisis de datos en el tiempo.\n---"
    },
    {
      "metadata": {
        "trusted": true,
        "_uuid": "544841f6d0e6b0285345b62e47596b12cb0ea922"
      },
      "cell_type": "code",
      "source": "ini = df_events.nsmallest(1, 'timestamp')['timestamp']\nfin = df_events.nlargest(1, 'timestamp')['timestamp']\nprint(\"El primer evento registrado es en la fecha: {} y el ultimo registro es en la fecha: {}\".format(str(ini.values)[2:12],\n                                                                                                     str(ini.values)[2:12]))",
      "execution_count": null,
      "outputs": []
    },
    {
      "metadata": {
        "trusted": true,
        "_uuid": "1f061ab7e8a4124f5cf7b3746e9d8247554e2a04"
      },
      "cell_type": "code",
      "source": "#Generamos campos con los datos que necesitamos para trabajar comodamente\ndf_events['hora'] = df_events['timestamp'].apply(lambda x: x.hour)\ndf_events['dia'] = df_events['timestamp'].apply(lambda x: x.day)\ndf_events['mes'] = df_events['timestamp'].apply(lambda x: x.month)",
      "execution_count": null,
      "outputs": []
    },
    {
      "metadata": {
        "trusted": true,
        "_uuid": "d6beab3d252868c798178cdbbc7c2e6786a4d9de"
      },
      "cell_type": "code",
      "source": "listaMeses = ['Enero', 'Febrero', 'Marzo', 'Abril', 'Mayo', 'Junio']\ndf_events['mes'] = df_events['mes'].apply(lambda x: listaMeses[x-1])\ndf_events['mes'] = df_events['mes'].astype('category')\ndf_events['mes'] = pd.Categorical(df_events['mes'], listaMeses)",
      "execution_count": null,
      "outputs": []
    },
    {
      "metadata": {
        "trusted": true,
        "_uuid": "2a0d9777e3873c065ef571760561bac662af38b6"
      },
      "cell_type": "code",
      "source": "df_events['mes'].value_counts()",
      "execution_count": null,
      "outputs": []
    },
    {
      "metadata": {
        "_uuid": "b44a2425f51f6edfcf2ab7bc5456770491bf51b0"
      },
      "cell_type": "markdown",
      "source": "### [](http://)3ca - ¿Cómo se distribuye la generación de eventos a lo largo del día?\n---\nVamos a comenzar a ver el comportamiento en la generación de eventos primero a partir de la hora del día.\n"
    },
    {
      "metadata": {
        "trusted": true,
        "_uuid": "c904e4cb5522c26503601a1e3d27f90dac1c6dd7"
      },
      "cell_type": "code",
      "source": "#Analisis de cantidad de Eventos según Hora.\ngrafico8 = sns.distplot(df_events['hora'],  kde=False )\ngrafico8.set_title(\"Cantidad de eventos generado según el horario.\")\ngrafico8.grid(True)\ngrafico8.set_ylabel(\"Cantidad de Eventos\")\ngrafico8.set_xlabel(\"Hora del día\")\nplt.xlim(0,23)\n#plt.savefig(\"./graficos/grafico8.png\", bbox_inches='tight')\nplt.show()",
      "execution_count": null,
      "outputs": []
    },
    {
      "metadata": {
        "_uuid": "53fd7369078daf27d4ea40efbeb957001602f4b3"
      },
      "cell_type": "markdown",
      "source": "### 3cb - ¿Cómo se distribuye la generación de eventos a lo largo del mes?\n---"
    },
    {
      "metadata": {
        "trusted": true,
        "_uuid": "4a67e13f99977a1ef5a0d7a09b0abd4c9e20fccf"
      },
      "cell_type": "code",
      "source": "#Ahora veremos la cantidad de eventos generados según el día del mes para ver si se encuentra una relación\n#Para esto sacaremos Junio para que no incremente los valores de los primeros 15 días.\nsinJunio = df_events.loc[df_events['mes'] != 'Junio']\ngrafico9 = sns.distplot(sinJunio['dia'], bins='auto', kde=False )\ngrafico9.set_title(\"Cantidad de eventos generados según el día del mes. Periodo: 01-01-2018 al 31-05-2018.\")\ngrafico9.grid(True)\ngrafico9.set_ylabel(\"Cantidad de Evnetos\")\ngrafico9.set_xlabel(\"Día del Mes\")\nplt.xlim(1,31)\n#plt.savefig(\"./graficos/grafico9.png\", bbox_inches='tight')\nplt.show()",
      "execution_count": null,
      "outputs": []
    },
    {
      "metadata": {
        "_uuid": "b020b7466903863722ca4a8059240375b1f04936"
      },
      "cell_type": "markdown",
      "source": "### 3cc - ¿Cómo se distribuye la generación de eventos por mes?\n---"
    },
    {
      "metadata": {
        "trusted": true,
        "_uuid": "cc5a1b0132c7f686fd2b28412a4448d20eaae5fc"
      },
      "cell_type": "code",
      "source": "#Seguimos trabajando sin junio.\neventos_mensuales = sinJunio['mes'].value_counts()\neventos_mensuales.index = pd.Categorical(eventos_mensuales.index, listaMeses[:-1])\ngrafico10 = sns.barplot(eventos_mensuales.index, eventos_mensuales.values)\ngrafico10.set_title(\".\")\ngrafico10.grid(True)\ngrafico10.set_ylabel(\"Eventos\")\ngrafico10.set_xlabel(\"Mes\")\ngrafico10.set_xticklabels(grafico10.get_xticklabels(), rotation=45)\n#plt.savefig(\"./graficos/grafico10.png\", bbox_inches='tight')\nplt.show()",
      "execution_count": null,
      "outputs": []
    },
    {
      "metadata": {
        "_uuid": "8b5259a4720e6e8b9274e2b10b69b0be8cc5a9b7"
      },
      "cell_type": "markdown",
      "source": "### 3cd - ¿Cómo se distribuyen la generación de eventos a los largo del día?\nEstimación de Densidad de Kernel por evento a los largo de las horas de día."
    },
    {
      "metadata": {
        "trusted": true,
        "_uuid": "d7529a05654a437fb34b65cfc6e5682d5c40abc6"
      },
      "cell_type": "code",
      "source": "### Analisis Particulares de Eventos según en el tiempo.\n# Compararemos el KDE de los distintos eventos por horario.\nplt.subplot(4,3,1)\ngraf_eventos_hora = sns.distplot(df_events['hora'], bins='auto', kde=True, label=\"small\" )\nplt.ylabel(\"KDE Eventos\")\nplt.xlabel(\"Hora\")\nplt.title(\"Eventos generados por hora.\")\nplt.xlim(0,23)\n\n\nnumber_graph = 2\n#Recorremos la variable listaEventos que fue creada anteriormente.\nfor i in listaEventos:\n    plt.subplot(4,3,number_graph)\n    sns.distplot(df_events.loc[df_events['event'] == i, 'hora'], bins='auto', kde=True , label=\"small\")\n    plt.ylabel(\"KDE Eventos\")\n    plt.xlabel(\"Hora\")\n    plt.title(\"KDE del evento \" + i)\n    plt.xlim(0,23)\n    number_graph += 1\n    \nplt.tight_layout()\n#plt.savefig(\"./graficos/grafico11.png\", bbox_inches='tight')\nplt.show()",
      "execution_count": null,
      "outputs": []
    },
    {
      "metadata": {
        "_uuid": "51f504096e24f32ac3ccc3b2f3298d1fe645b8bc"
      },
      "cell_type": "markdown",
      "source": "### ¿Cómo se distribuyen los eventos a los largo de los meses?\n---"
    },
    {
      "metadata": {
        "trusted": true,
        "_uuid": "2bbc00adc4f39fbdadc5ebc781423376e3e8dda8"
      },
      "cell_type": "code",
      "source": "### Analisis Particulares de Eventos según en el tiempo.\n\nplt.subplot(4,3,1)\nsns.barplot(eventos_mensuales.index, eventos_mensuales.values)\nplt.grid(True)\nplt.title(\"Apareciones de Eventos\")\nplt.xlabel(\"Mes\")\nplt.ylabel(\"Apariciones\")\nplt.xticks(rotation=45)\nnumber_graph = 2\n\nfor i in listaEventos:\n    plt.subplot(4,3,number_graph)\n    eventos_men = sinJunio.loc[sinJunio['event'] == i, 'mes'].value_counts()\n    eventos_men.index = pd.Categorical(eventos_men.index, listaMeses[:-1])\n    sns.barplot(eventos_men.index, eventos_men.values) \n    plt.title(\"Apariciones evento: \" + i)\n    plt.xlabel(\"Mes\")\n    plt.ylabel(\"Apariciones\")\n    plt.xticks(rotation=45)\n    plt.grid(True)\n    number_graph += 1\n\nplt.tight_layout()\n#plt.savefig(\"./graficos/grafico12.png\", bbox_inches='tight')\nplt.show()",
      "execution_count": null,
      "outputs": []
    },
    {
      "metadata": {
        "_uuid": "e3116ababf01220c1d2eb867e294b1a54f6cd2b1"
      },
      "cell_type": "markdown",
      "source": "### 3cf - ¿Cómo se distribuyen los eventos a los largo de los meses?\n---"
    },
    {
      "metadata": {
        "trusted": true,
        "_uuid": "fd812711c588cac4c1b9c2430807ca7c38c8d3af"
      },
      "cell_type": "code",
      "source": "# Compararemos el KDE de los distintos eventos por  día del mes.\nplt.subplot(4,3,1)\ngraf_eventos_dia = sns.distplot(sinJunio['dia'], bins='auto', kde=True, label=\"small\" )\nplt.ylabel(\"KDE Eventos\")\nplt.xlabel(\"dia\")\nplt.title(\"Eventos generados por día.\")\nplt.xlim(0,23)\n\n\nnumber_graph = 2\n#Recorremos la variable listaEventos que fue creada anteriormente.\nfor i in listaEventos:\n    plt.subplot(4,3,number_graph)\n    sns.distplot(sinJunio.loc[sinJunio['event'] == i, 'dia'], bins='auto', kde=True , label=\"small\")\n    plt.ylabel(\"KDE Eventos\")\n    plt.xlabel(\"día\")\n    plt.title(\"KDE del evento \" + i)\n    plt.xlim(1,31)\n    number_graph += 1\n    \nplt.tight_layout()\n#plt.savefig(\"./graficos/grafico13.png\", bbox_inches='tight')\nplt.show()",
      "execution_count": null,
      "outputs": []
    },
    {
      "metadata": {
        "_uuid": "0aab3b34a9539ce46a64a135dcab8ba6139351d7"
      },
      "cell_type": "markdown",
      "source": "### Eventos por día de semana"
    },
    {
      "metadata": {
        "trusted": true,
        "_uuid": "5449f87098133fa2449c088261d8b521c30cd63b"
      },
      "cell_type": "code",
      "source": "#generamos los días de la semana\ndf_events['diaSem']=df_events['timestamp'].dt.weekday",
      "execution_count": null,
      "outputs": []
    },
    {
      "metadata": {
        "trusted": true,
        "_uuid": "c6e439c1a1ec92a988b061806c4d8541f8173118"
      },
      "cell_type": "code",
      "source": "eventos_by_day = df_events['diaSem'].value_counts(sort=False)\nnew_index = ['Lunes','Martes','Miércoles','Jueves','Viernes','Sábado','Domingo']\neventos_by_day.index = new_index\ngrafico14 = sns.barplot(eventos_by_day.index, eventos_by_day.values)\ngrafico14.set_title(\"Eventos por día de la semana. Periodo: 01-01-18 / 15-06-18\")\ngrafico14.grid(True)\ngrafico14.set_ylabel(\"Cantidad de eventos\")\ngrafico14.set_xlabel(\"Días\")\ngrafico14.set_xticklabels(grafico14.get_xticklabels(), rotation=90)\nfor i, v in enumerate(eventos_by_day.items()):        \n    grafico14.text(i ,v[1], v[1], color='black', va ='bottom',  size=18)\nplt.tight_layout()\n#plt.savefig(\"./graficos/grafico14.png\", bbox_inches='tight')\nplt.show()",
      "execution_count": null,
      "outputs": []
    },
    {
      "metadata": {
        "_uuid": "255da5491cc334458e6daa0c71859958ce498dbf"
      },
      "cell_type": "markdown",
      "source": " ### 3ch - ¿Y los eventos 'conversiones'?"
    },
    {
      "metadata": {
        "trusted": true,
        "_uuid": "8a3b742d04dfc7bb26c48911e78d16df722bbc0c"
      },
      "cell_type": "code",
      "source": "df_Conversions = df_events['diaSem'][df_events['event'].str.strip()=='conversion']",
      "execution_count": null,
      "outputs": []
    },
    {
      "metadata": {
        "trusted": true,
        "_uuid": "ab4aeca7dea6232742fcc46807b37baa764d686d"
      },
      "cell_type": "code",
      "source": "conversions_by_day = df_Conversions.value_counts(sort=False)\nconversions_by_day.index = new_index\ngrafico15 = sns.barplot(conversions_by_day.index, conversions_by_day.values)\ngrafico15.set_title(\"Conversiones agrupadas por día. Periodo: 01-01-18 / 15-06-18\")\ngrafico15.grid(True)\ngrafico15.set_ylabel(\"Cantidad de conversiones\")\ngrafico15.set_xlabel(\"Días\")\ngrafico15.set_xticklabels(grafico15.get_xticklabels(), rotation=90)\nfor i, v in enumerate(conversions_by_day.items()):        \n    grafico15.text(i ,v[1], v[1], color='black', va ='bottom',  size=18)\nplt.tight_layout()\n#plt.savefig(\"./graficos/grafico15.png\", bbox_inches='tight')\nplt.show()",
      "execution_count": null,
      "outputs": []
    },
    {
      "metadata": {
        "_uuid": "fe507236dad9473b1c1ff5bb0c15a36c52042215"
      },
      "cell_type": "markdown",
      "source": "### 3ci - Eventos según horario y día de la semana.\n---"
    },
    {
      "metadata": {
        "trusted": true,
        "_uuid": "e9359b476873725f0555efff2bf2c980cacf9bea"
      },
      "cell_type": "code",
      "source": "#new_index = ['Lunes','Martes','Miércoles','Jueves','Viernes','Sábado','Domingo']\n#Generamos los indices y creamos una columna nueva con los nombres de la semana para agruparlos.\ndf_events['diaSem2'] = df_events['diaSem'].apply(lambda x: new_index[x])\ndf_events['diaSem2'] = df_events['diaSem2'].astype('category')\ndf_events['diaSem2'] = pd.Categorical(df_events['diaSem2'], new_index)",
      "execution_count": null,
      "outputs": []
    },
    {
      "metadata": {
        "trusted": true,
        "_uuid": "838bddf63cd596a29ae2aed5f7dd91f982ee153f"
      },
      "cell_type": "code",
      "source": "df_new = df_events.groupby(['diaSem2', 'hora'])['event'].count()\ndf_new = df_new.reset_index(name=\"event\")\ngrafico16 = sns.heatmap(df_new.pivot(\"hora\", \"diaSem2\", \"event\"), annot=False, cmap=\"viridis\")\ngrafico16.set_xlabel('Día de la semana')\ngrafico16.set_ylabel('Hora')\ngrafico16.set_title(\"Eventos por día de la semana y hora. Periodo: 01-01-18 / 15-06-18\")\n#plt.savefig(\"./graficos/grafico16.png\", bbox_inches='tight')\nplt.show()",
      "execution_count": null,
      "outputs": []
    },
    {
      "metadata": {
        "_uuid": "17718f0ea55162a56dd3634a01a337d4a2814d4c"
      },
      "cell_type": "markdown",
      "source": "### 3cj - Conversiones según horario y día de la semana."
    },
    {
      "metadata": {
        "trusted": true,
        "_uuid": "94783f5c3fcebe432714f4bc2e13e9b6a132c0a4"
      },
      "cell_type": "code",
      "source": "#Realizamos un groupby y el apply contabilizando los eventos.\ndf_new = df_events[df_events['event'].str.strip()=='conversion'].groupby(['diaSem2', 'hora'])['event'].count()\ndf_new = df_new.reset_index(name=\"event\")\n# Pivot the dataframe to create a [hour x date] matrix containing counts\ngrafico16 = sns.heatmap(df_new.pivot(\"hora\", \"diaSem2\", \"event\"), annot=False, cmap=\"viridis\")\ngrafico16.set_xlabel('Día de la semana')\ngrafico16.set_ylabel('Hora')\ngrafico16.set_title(\"Eventos por día de la semana y hora. Periodo: 01-01-18 / 15-06-18\")\n#plt.savefig(\"./graficos/grafico16.png\", bbox_inches='tight')\nplt.show()",
      "execution_count": null,
      "outputs": []
    },
    {
      "metadata": {
        "_uuid": "007f31100877d3e7e0a015e55d3f5dd700aaf19c"
      },
      "cell_type": "markdown",
      "source": "### ."
    },
    {
      "metadata": {
        "_uuid": "42e8dc30442e623ac2b4dd76ae84e1d2b8aa03f7"
      },
      "cell_type": "markdown",
      "source": "## 3c- Analisis Geográfico\n---\n### I - Analisis por País.\nAnalizaremos la cuestiones geograficas desde donde se realizaron los eventos. Y controlaremos que los datos sean consistentes.\n\nPrimero analizaremos por paises."
    },
    {
      "metadata": {
        "trusted": true,
        "_uuid": "065bb9ebba409ec531bf63c4060615d251f7a8f0"
      },
      "cell_type": "code",
      "source": "#Veremos cuantos valores distintos y que cantidad de ocurrencias tiene en el Dataset.\ndf_events['country'].value_counts()",
      "execution_count": null,
      "outputs": []
    },
    {
      "metadata": {
        "trusted": true,
        "_uuid": "a07eb18597bdbc673a97d1306592860287dfb718"
      },
      "cell_type": "code",
      "source": "# Predomina Brasil. Vamos a controlar que tipo de eventos se generan desde otros \n# paises, para controlar que no afecte nuestros resultados.\n# Filtramos los que no son Brazil y también eliminamos los que tiene el campo vacio.\next_visit = df_events.loc[(df_events['country'] != \"Brazil\") & (df_events['country'].isnull() == False), 'timestamp'].count()",
      "execution_count": null,
      "outputs": []
    },
    {
      "metadata": {
        "trusted": true,
        "_uuid": "b8768e291f076f115eeb902e96dda29b92bb6604"
      },
      "cell_type": "code",
      "source": "# Controlamos las veces que se genero el evento 'visited site'. Y lo medimos con timestamp que es un\n# campo que nunca es nulo.\ntotal_visit = df_events.loc[(df_events['event'] == 'visited site'), 'timestamp'].count()",
      "execution_count": null,
      "outputs": []
    },
    {
      "metadata": {
        "trusted": true,
        "_uuid": "9fdbda136af03a8fd08b2280b12d27070bc22bd3"
      },
      "cell_type": "code",
      "source": "#Imprimimos los resultados.\nprint(\"Ingresos totales: {} | Ingresos Brazil {}  | Otros Ingresos {}\".format(total_visit, \n                                                                              (total_visit-ext_visit),\n                                                                             ext_visit))",
      "execution_count": null,
      "outputs": []
    },
    {
      "metadata": {
        "_uuid": "e1994d26c9a90f3a0f96d95953f270495123788e"
      },
      "cell_type": "markdown",
      "source": "## Primeras anotaciones. (primera limpieza)\n---\n\n1) La cantidad de eventos 'visited site' son 87378. Es consistente con la cantidad de usuarios que se conectaron desde Brasil u otro lugar. En una primera comparación se ve que es el ingreso de los usuarios a la pagina por lo que nos daría el inicio de una sesión.\n\n2) La decisión es tomar todos los usuarios que sean de Brasil ya que es la población que se desea analizar. Por lo que se puede realizar es lo siguiente:\n\n* **a) Tomar todos los usuarios que hayan iniciado sesión desde fuera de Brasil (la mayoría en 'Unknown')**\n* **b) Tomar los usuarios que no se hayan conectado nunca desde Brasil. **\n* **c) Se debe descartar los usuarios que hayan realizado conversiones ya que se suponen que son de Brasil **\n* **d) El grupo que queda restante se debe eliminar, todos los campos ya que es actividad externa. O no identificada.**"
    },
    {
      "metadata": {
        "trusted": true,
        "_uuid": "2711cd7476bdcbcadc2fc261ac69560c03fc5877"
      },
      "cell_type": "code",
      "source": "df_events.reset_index(inplace =True)\n# Creamos una lista con los usuarios que se conectaron desde otro lugar que no sea Brasil y controlamos que la cantidad sea \n# consistente con los resultados obtenidos anteriormente.\nlist_person = df_events.loc[(df_events['country'] != 'Brazil') & (df_events['event'] == 'visited site'), 'person'].tolist()\nlen(list_person)",
      "execution_count": null,
      "outputs": []
    },
    {
      "metadata": {
        "trusted": true,
        "_uuid": "6b89ad4f407abe4c6fe1d07317ab2330d639641a"
      },
      "cell_type": "code",
      "source": "# Cambiamos el indice para filtrar los usuarios que necesitamos.\ndf_events.set_index('person', inplace=True)\n# Filtramos en un nuevo dataFrame los usuarios que se conectaron desde afuera.\ndf_person = df_events.loc[list_person]\n# Agrupamos filtrando solo los inicio de Sesion que no hayan sido desde Brasil.\n# Esto nos da por resultado usuarios que ingresaron solo desde afuera u origen desconocido.\nperson_ext = df_person.loc[(df_person['event'] == 'visited site') & (df_person['country'] != 'Brazil')].groupby(['person', 'country'])['country'].count().unstack()\n# Rellanamos con cero, solo por cuestion visual.\nperson_ext.fillna(0, inplace=True)\n# Revisarmos rapidamente los resultados.\nperson_ext.head(10)",
      "execution_count": null,
      "outputs": []
    },
    {
      "metadata": {
        "trusted": true,
        "_uuid": "5a4ccef2a0e601033c591be8c1f618b6b189539f"
      },
      "cell_type": "code",
      "source": "#Tomamos un registro para realizar un control.\ncontrol = df_events.loc['00204059']\ncontrol.loc[control['event'] == 'visited site']",
      "execution_count": null,
      "outputs": []
    },
    {
      "metadata": {
        "trusted": true,
        "_uuid": "ba8a64b9c3750b8b0d303f5458bcb0b6895547e3"
      },
      "cell_type": "code",
      "source": "#Obtenemos los usuarios que hay realizados conversiones.\nuser_conversion = df_events.loc[df_events['event'] == 'conversion', :].groupby('person')['event'].count().index.tolist()\n# Eliminamos de la lista de usuarios a eliminar los que hayan realizado conversiones.\nlist_person = person_ext.index.tolist()\nfor user in user_conversion:\n    if user in list_person:\n        list_person.remove(user)\nprint(\"Cantidad de usuarios que se conectaron desde otro lugar o desconocido: {}\".format(len(list_person)))",
      "execution_count": null,
      "outputs": []
    },
    {
      "metadata": {
        "trusted": true,
        "_uuid": "6ce2ab6dc6ec43f080bb0e17db6f7b8abe661bef"
      },
      "cell_type": "code",
      "source": "df_user_drop = df_events.loc[list_person]\nsesion_count =df_user_drop.loc[df_user_drop['event'] == 'visited site', 'timestamp'].count()\nreg_count = len(df_user_drop)\nprint(\"La cantidad de inicios de sesión a eliminar: {} | registros a eliminar: {}.\".format(sesion_count, reg_count))",
      "execution_count": null,
      "outputs": []
    },
    {
      "metadata": {
        "trusted": true,
        "_uuid": "d52643089f2cd20bc704b3bca0b085a3b28a24f5"
      },
      "cell_type": "code",
      "source": "# Eliminamos los registros y controlamos el nuevo tamaño de los registros.\ndf_events = df_events.drop(list_person, axis=0)\ndf_events.shape",
      "execution_count": null,
      "outputs": []
    },
    {
      "metadata": {
        "trusted": true,
        "_uuid": "7af40fd96a4ce9a967bd7f67f61f31c6062dbf43"
      },
      "cell_type": "code",
      "source": "# Vemos ahora los sesiones que se han iniciado desde donde sea...\n# Asignamos las desconocidas a Brasil\ndf_events.loc[df_events['country'] == 'Unknown', 'country'] = 'Brazil'\ndf_events['country'].value_counts()",
      "execution_count": null,
      "outputs": []
    },
    {
      "metadata": {
        "_uuid": "c7363c49da7faf98c31f52c2b0565cb313abeef9"
      },
      "cell_type": "markdown",
      "source": "Los usuarios que quedan en el DataSet se han conectado desde Brasil. Pueden conexiones desde el exterior pero han ingresado tienen al menos un ingreso desde Brasil."
    },
    {
      "metadata": {
        "_uuid": "754e2cf6be061a9c18fdbe1d397f5c570e52df1e"
      },
      "cell_type": "markdown",
      "source": "### II - Analisis por Region y Ciudad"
    },
    {
      "metadata": {
        "trusted": true,
        "_uuid": "edc5d055fd4d0f12258b0c08ee123bbeceff61f1"
      },
      "cell_type": "code",
      "source": "df_events['region'].value_counts()",
      "execution_count": null,
      "outputs": []
    },
    {
      "metadata": {
        "trusted": true,
        "_uuid": "a1ed267d95e2c530818eac8e8e9d495c31332027"
      },
      "cell_type": "code",
      "source": "print(\"Cantidad de Regiones: {}\".format(len(df_events['region'].value_counts())))",
      "execution_count": null,
      "outputs": []
    },
    {
      "metadata": {
        "trusted": true,
        "_uuid": "8c5ee4858355b7c5e50eeb448d9c09a2d74762b1"
      },
      "cell_type": "code",
      "source": "df_events['city'].value_counts()",
      "execution_count": null,
      "outputs": []
    },
    {
      "metadata": {
        "trusted": true,
        "_uuid": "e386b6c23885be9df266c52e5cb40e0940ee304d"
      },
      "cell_type": "code",
      "source": "df_events.reset_index(inplace=True)\ndf_events.loc[(df_events['region'] == 'Unknown'), 'tmpRegion'] = 'Unknown'\nlista = df_events.loc[df_events['tmpRegion'] == 'Unknown', :].groupby('person')['person'].count()\nlista = lista.index.tolist()\ndf_events.set_index('person', inplace=True)\ndf_temp = df_events.loc[lista]\ndf_temp = df_temp.loc[(df_temp['event'] == 'visited site')].groupby(['region', 'device_type']).agg({'region' :  'count'})",
      "execution_count": null,
      "outputs": []
    },
    {
      "metadata": {
        "trusted": true,
        "_uuid": "0abc01e535a206c8274031452dfdb30bff5b48e3"
      },
      "cell_type": "code",
      "source": "df_temp.unstack()",
      "execution_count": null,
      "outputs": []
    },
    {
      "metadata": {
        "trusted": true,
        "_uuid": "05065a2ad1750ff365c3b8062af51e93fe3b520d"
      },
      "cell_type": "code",
      "source": "df_temp2 = df_events.loc[df_events['event']=='visited site'].groupby(['city','device_type']).agg({'city' :  'count'})",
      "execution_count": null,
      "outputs": []
    },
    {
      "metadata": {
        "trusted": true,
        "_uuid": "731b474e48e4c4918bff4172f88693336b4f111b"
      },
      "cell_type": "code",
      "source": "df_temp2.unstack()",
      "execution_count": null,
      "outputs": []
    },
    {
      "metadata": {
        "trusted": true,
        "_uuid": "c6da4f6601fe8668d0988fd5d972d2c8881c79d9"
      },
      "cell_type": "code",
      "source": "def cargar_datos(archivo):\n    try:\n        with open(\"../input/\" + archivo, \"rb\") as f:\n            return pickle.load(f)\n    except (OSError, IOError) as e:\n        return dict()",
      "execution_count": null,
      "outputs": []
    },
    {
      "metadata": {
        "trusted": true,
        "_uuid": "d543de3c2bd6eaabaf92bb6617087da464b09469"
      },
      "cell_type": "code",
      "source": "dicc_lat_long = cargar_datos('dic-final/dic_final.dat')\ndicc_lat_longRegion = cargar_datos('dic-corto/dic2_regiones.dat')",
      "execution_count": null,
      "outputs": []
    },
    {
      "metadata": {
        "trusted": true,
        "_uuid": "cd1627a70c2a7db805a9bef2583d23de09b1eae1"
      },
      "cell_type": "code",
      "source": "df_events['concat_address'] = df_events['city'] + \", \" + df_events['region'] + \", \" + df_events['country']\ndf_events['concat_address_short'] = df_events['region'] + \", \" + df_events['country']\ndf_events.loc[df_events['concat_address'].isnull()==True, 'concat_address'] = \"N\"\ndf_events.loc[df_events['concat_address_short'].isnull()==True, 'concat_address_short'] = \"N\"",
      "execution_count": null,
      "outputs": []
    },
    {
      "metadata": {
        "trusted": true,
        "_uuid": "91226d2c94c015e4ef6fe17562c610b15600a1dd"
      },
      "cell_type": "code",
      "source": "#Agregamos la latitud y la longitud.\ndf_events['lat'] = df_events['concat_address'].apply(lambda x: dicc_lat_long[x]['lat'] if x!=\"N\" else None)\ndf_events['lng'] = df_events['concat_address'].apply(lambda x: dicc_lat_long[x]['lng'] if x!=\"N\" else None)\ndf_events['lat_reg'] = df_events['concat_address_short'].apply(lambda x: dicc_lat_longRegion[x]['lat'] if x!=\"N\" else None)\ndf_events['lng_reg'] = df_events['concat_address_short'].apply(lambda x: dicc_lat_longRegion[x]['lng'] if x!=\"N\" else None)",
      "execution_count": null,
      "outputs": []
    },
    {
      "metadata": {
        "trusted": true,
        "_uuid": "cdf252747d0b500128c183870cf803f1b2b8ac92"
      },
      "cell_type": "code",
      "source": "#Vamos a llevar a los cantidad de ingresos a la mitad, porque en el caso contrario cuando queremos hacer el mapa de calor se traba.\ndf_events_grouped_address = df_events.loc[(df_events['event']=='visited site') & (df_events['region'] != 'Unknown') & (df_events['city'] != 'Unknown')].groupby(['concat_address','lat','lng'])['concat_address'].count()\ndf_events_grouped_address = df_events_grouped_address.apply(lambda x: round(x/2,0))\n#Lo que hacemos es contar la cantidad de veces que se ingreso en determinada region, ese numero se lo divide por 2\n#Luego lo que hacemos es generar una lista donde se repiten la cantidad de apariciones para que puedan ser interpretadas\n# por el plugins de Folium.\notro = []\nfor i, valores in enumerate(df_events_grouped_address.items()):\n    latylng = [valores[0][1], valores[0][2]]\n    for generar in range(int(valores[1])):\n        otro.append(latylng)",
      "execution_count": null,
      "outputs": []
    },
    {
      "metadata": {
        "trusted": true,
        "_uuid": "82e12fe858db169502ea6196bc84be673a5449f3",
        "scrolled": false
      },
      "cell_type": "code",
      "source": "mapF = folium.Map(location=[-13.778429999999958,-55.92864999999995], zoom_start = 4.5)\nmapF.add_child(folium.plugins.HeatMap(otro, radius=15))\nmapF",
      "execution_count": null,
      "outputs": []
    },
    {
      "metadata": {
        "trusted": true,
        "_uuid": "cf7d932f8d9f71933d674caa48b1f341fc9d4e77"
      },
      "cell_type": "code",
      "source": "df_events_grouped_region = df_events \\\n                                       .loc[(df_events['event']=='visited site') & (df_events['region'] != 'Unknown') & (df_events['country'] == 'Brazil')] \\\n                                       .groupby(['concat_address_short', 'device_type'])['device_type'].count()\n\ndf_events_grouped_region = df_events_grouped_region.reset_index(name='total')\ndf_events_grouped_region.loc[df_events_grouped_region['concat_address_short']=='Colorado, United States']",
      "execution_count": null,
      "outputs": []
    },
    {
      "metadata": {
        "trusted": true,
        "_uuid": "ec278d465fb65e791ec3c5d3beaf69c5b3979ca9"
      },
      "cell_type": "code",
      "source": "grafico18 = sns.heatmap(df_events_grouped_region.pivot(\"concat_address_short\", \"device_type\", \"total\"), annot=False, cmap=\"viridis\")\ngrafico18.set_xlabel('Tipo de Dispositivo')\ngrafico18.set_ylabel('Región')\ngrafico18.set_title(\"Sesiones Iniciadas por Tipo de dispositivo por Región\")\n#plt.savefig(\"./graficos/grafico18.png\", bbox_inches='tight')\nplt.show()",
      "execution_count": null,
      "outputs": []
    },
    {
      "metadata": {
        "trusted": true,
        "_uuid": "eb2d039b31a01429e5aee159bf7605a936b269b9"
      },
      "cell_type": "code",
      "source": "df_events_grouped_region = df_events \\\n                                       .loc[(df_events['event']=='visited site') & (df_events['region'] != 'Unknown')] \\\n                                       .groupby(['concat_address_short','lat_reg','lng_reg', 'device_type'])['concat_address_short'].count()\ndf_events_grouped_region.unstack(3)",
      "execution_count": null,
      "outputs": []
    },
    {
      "metadata": {
        "trusted": true,
        "_uuid": "7c5e6a1fd28de55dd532f85047f85ffab737168b"
      },
      "cell_type": "code",
      "source": "#Vamos a ver que direccion vamos a agregar\ntotalValores = df_events_grouped_region.values.sum()\nmapFr = folium.Map(location=[-13.778429999999958,-55.92864999999995], zoom_start = 4.5)\ndef agregarMarcador(valores, mapa):\n    dispositivo = valores[0][3]\n    latitud = valores[0][1]\n    longitud = valores[0][2]\n    size = valores[1]\n    if size < 500:\n        size = 20 + (size/200*2)\n    if size > 500 and size < 5000:\n        size = 30+(size/3/100*2)\n    if size > 10000:\n        size = size/70000*400\n    nombre = valores[0][0]\n    cantidad = valores[1]\n    \n    factor = 0.2\n    if dispositivo == 'Computer':\n        url = 'https://icon-icons.com/icons2/1367/PNG/512/32officeicons-31_89708.png'\n        latitud = latitud - factor\n    if dispositivo == 'Smartphone':\n        url = 'https://diariodeunsysadmin.files.wordpress.com/2014/05/smartphone-android-icon.png?w=600'\n        longitud = longitud + factor\n    if dispositivo == 'Tablet':\n        url = 'https://images.vexels.com/media/users/3/128862/isolated/preview/5b021d17fb3643d144434b4cc6c3a74c-tablet-icono-plana-by-vexels.png'\n        latitud = latitud + factor\n    if dispositivo == 'Unknown':\n        url = 'https://images.vexels.com/media/users/3/143554/isolated/lists/4891b5f6c604304b74f030ce8a13f762-icono-de-signo-de-interrogaci-n-3d-rojo.png'\n        longitud = longitud - factor\n    icon = CustomIcon(\n    url,\n    icon_size=(size, size*2)\n    )\n    marker = folium.Marker(\n    location=[latitud, longitud],\n    icon=icon,\n    popup=nombre + \" Cantidad Eventos:  \" + str(cantidad)\n    )\n    mapa.add_child(marker)\n\n",
      "execution_count": null,
      "outputs": []
    },
    {
      "metadata": {
        "trusted": true,
        "_uuid": "370c230f44254a3928abe115b98f4dd9cdb46e7c"
      },
      "cell_type": "code",
      "source": "totalValores = df_events_grouped_region.values.sum()\nfor i, valores in enumerate(df_events_grouped_region.items()):\n    agregarMarcador(valores, mapFr)\nmapFr",
      "execution_count": null,
      "outputs": []
    },
    {
      "metadata": {
        "trusted": true,
        "_uuid": "b05e86cbadac8b51cd1d09de0a81631ba8e132cb"
      },
      "cell_type": "code",
      "source": "mapFrUn = folium.Map(location=[-13.778429999999958,-55.92864999999995], zoom_start = 4.5)\n\nfor i, valores in enumerate(df_events_grouped_region.items()):        \n    if(valores[0][3] == 'Unknown'):\n        agregarMarcador(valores, mapFrUn)\nmapFrUn",
      "execution_count": null,
      "outputs": []
    },
    {
      "metadata": {
        "trusted": true,
        "_uuid": "999794b0e6385e4d4a80cc7eca8416e1708fcac3"
      },
      "cell_type": "code",
      "source": "mapFrUn = folium.Map(location=[-13.778429999999958,-55.92864999999995], zoom_start = 4.5)\nfor i, valores in enumerate(df_events_grouped_region.items()):\n    if(valores[0][3] == 'Computer'):\n        agregarMarcador(valores, mapFrUn)\nmapFrUn",
      "execution_count": null,
      "outputs": []
    },
    {
      "metadata": {
        "trusted": true,
        "_uuid": "158f3a17c57964cc0fe255c5749ab8ef19d20816"
      },
      "cell_type": "code",
      "source": "mapFrUn = folium.Map(location=[-13.778429999999958,-55.92864999999995], zoom_start = 4.5)\nfor i, valores in enumerate(df_events_grouped_region.items()):        \n    if(valores[0][3] == 'Smartphone'):\n        agregarMarcador(valores, mapFrUn)\nmapFrUn",
      "execution_count": null,
      "outputs": []
    },
    {
      "metadata": {
        "trusted": true,
        "_uuid": "d2369caaf637ef27b992be5a428f74ee5eb3ff3d",
        "scrolled": true
      },
      "cell_type": "code",
      "source": "mapFrUn = folium.Map(location=[-13.778429999999958,-55.92864999999995], zoom_start = 4.5)\nfor i, valores in enumerate(df_events_grouped_region.items()):\n    if(valores[0][3] == 'Tablet'):\n        agregarMarcador(valores, mapFrUn)\nmapFrUn",
      "execution_count": null,
      "outputs": []
    },
    {
      "metadata": {
        "trusted": true,
        "_uuid": "91d0302ca86124f7183911c3499a43cfccdc8e00"
      },
      "cell_type": "code",
      "source": "df_events['contador'] = 1\ndf_porDispositivo = df_events.loc[df_events['event']=='visited site'].groupby(['device_type']).agg({'contador' :  'sum'}).unstack(1)\nreordenar = [0,2,1,3]\nsize = []\nlabels = []\nfor i in reordenar:\n    size.append(df_porDispositivo.values[i])\n    labels.append(df_porDispositivo.index.get_level_values(1)[i])",
      "execution_count": null,
      "outputs": []
    },
    {
      "metadata": {
        "trusted": true,
        "_uuid": "61c288b7a4ac979000ed8a723854e97bd21dc1f2"
      },
      "cell_type": "code",
      "source": "def func(pct, allvals):\n    absolute = int(pct/100.*np.sum(allvals))\n    return \"{:.1f}%\\n({:d} visited site)\".format(pct, absolute)\n\ncolors = ['gold', 'yellowgreen', 'lightcoral', 'lightskyblue']\nfig1, ax1 = plt.subplots(figsize=(8,8))\nplt.figure(figsize=(1,1))\nwedges, texts, autotexts= ax1.pie(size,  colors=colors, labels=labels,  autopct=lambda pct: func(pct, size),\n        shadow=True, startangle=160)\nax1.axis('equal') \n\nax1.legend(wedges,labels,\n          title=\"Tipo Dispotivo\",\n          loc=\"center left\",\n          bbox_to_anchor=(1, 0, 0.5, 1))\nax1.set_title('Participación de conecciones por tipo de Dispositivo', fontsize=16)\nplt.tight_layout()\n#plt.savefig(\"./graficos/grafico13.png\", bbox_inches='tight')\nplt.show()",
      "execution_count": null,
      "outputs": []
    },
    {
      "metadata": {
        "trusted": true,
        "_uuid": "0beeb6c4746b0d755b3e53eeb18d4fb70f0b9fd4"
      },
      "cell_type": "code",
      "source": "df_events.to_csv('events_2.csv', header=False, index=False)",
      "execution_count": null,
      "outputs": []
    },
    {
      "metadata": {
        "trusted": true,
        "_uuid": "b8075d5f7ec6fb52fdec6979cec7e8b223a22900"
      },
      "cell_type": "code",
      "source": "",
      "execution_count": null,
      "outputs": []
    }
  ],
  "metadata": {
    "kernelspec": {
      "display_name": "Python 3",
      "language": "python",
      "name": "python3"
    },
    "language_info": {
      "name": "python",
      "version": "3.6.6",
      "mimetype": "text/x-python",
      "codemirror_mode": {
        "name": "ipython",
        "version": 3
      },
      "pygments_lexer": "ipython3",
      "nbconvert_exporter": "python",
      "file_extension": ".py"
    }
  },
  "nbformat": 4,
  "nbformat_minor": 1
}