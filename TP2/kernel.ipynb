{
 "cells": [
  {
   "cell_type": "code",
   "execution_count": 2,
   "metadata": {
    "_cell_guid": "b1076dfc-b9ad-4769-8c92-a6c4dae69d19",
    "_uuid": "8f2839f25d086af736a60e9eeb907d3b93b6e0e5",
    "collapsed": true
   },
   "outputs": [],
   "source": [
    "import numpy as np # linear algebra\n",
    "import pandas as pd # data processing, CSV file I/O (e.g. pd.read_csv)"
   ]
  },
  {
   "cell_type": "markdown",
   "metadata": {
    "_uuid": "9939222279cf9d72902d603a0ef4c3c5d100122d"
   },
   "source": [
    "# Intenciones:\n",
    "1. Cargar los datos de entrada\n",
    "1. Acondicionar los datos. Separar datos de entrenamiento de validación\n",
    "1. Explorar distintos features.\n",
    "1. Armar un DataFrame de entrenamiento y otro de validación (poner nombre acá)\n",
    "1. Explorar distintos features\n",
    "1. Elegir varios features a mano\n",
    "1. Armar algoritmo para elegir features (random forests?) => ver esto\n",
    "1. Entrenar diferentes modelos y de diferentes formas.\n",
    "1. Iterar sobre los puntos anteriores\n",
    "1. Registrar los cambios y evoluciones\n",
    "1. Sacar conclusiones\n",
    "## Modificar esta lista acorde a lo que se vaya haciendo.\n",
    "### Nota: La intención es dejar comentados varios campos a modo de debug que generan salidas muy verbosas pero pueden resultar útiles en alún momento (ejemplo, .head() )"
   ]
  },
  {
   "cell_type": "markdown",
   "metadata": {
    "_uuid": "4c84618b01400ca479921ee15710d83346cba59f"
   },
   "source": [
    "## 1) Cargar los datos de entrada"
   ]
  },
  {
   "cell_type": "code",
   "execution_count": 3,
   "metadata": {
    "_uuid": "04fcf126bfc64e3c97971d60fbf3a0b018c93b78",
    "collapsed": true
   },
   "outputs": [],
   "source": [
    "#_PATH_DATASET = '../input/all/' # No borrar esto, por compatibilidad para correrlo con datasets en otros directorios\n",
    "_PATH_DATASET = '/home/diego/Cursos/FIUBA/git/fiuba-trocafone-tp2-final-set/' # No borrar esto, por compatibilidad para correrlo con datasets en otros directorios"
   ]
  },
  {
   "cell_type": "code",
   "execution_count": 4,
   "metadata": {
    "_uuid": "6e1487993997897002a9fea07db35b6af3a47997"
   },
   "outputs": [
    {
     "name": "stderr",
     "output_type": "stream",
     "text": [
      "/home/diego/.local/anaconda3/envs/tfdeeplearning/lib/python3.5/site-packages/IPython/core/interactiveshell.py:2698: DtypeWarning: Columns (3,5,6,7,8,9,10,11,12,13,14,15,16,17,18,19,20,21,22) have mixed types. Specify dtype option on import or set low_memory=False.\n",
      "  interactivity=interactivity, compiler=compiler, result=result)\n"
     ]
    },
    {
     "data": {
      "text/html": [
       "<div>\n",
       "<style scoped>\n",
       "    .dataframe tbody tr th:only-of-type {\n",
       "        vertical-align: middle;\n",
       "    }\n",
       "\n",
       "    .dataframe tbody tr th {\n",
       "        vertical-align: top;\n",
       "    }\n",
       "\n",
       "    .dataframe thead th {\n",
       "        text-align: right;\n",
       "    }\n",
       "</style>\n",
       "<table border=\"1\" class=\"dataframe\">\n",
       "  <thead>\n",
       "    <tr style=\"text-align: right;\">\n",
       "      <th></th>\n",
       "      <th>timestamp</th>\n",
       "      <th>event</th>\n",
       "      <th>person</th>\n",
       "      <th>url</th>\n",
       "      <th>sku</th>\n",
       "      <th>model</th>\n",
       "      <th>condition</th>\n",
       "      <th>storage</th>\n",
       "      <th>color</th>\n",
       "      <th>skus</th>\n",
       "      <th>...</th>\n",
       "      <th>search_engine</th>\n",
       "      <th>channel</th>\n",
       "      <th>new_vs_returning</th>\n",
       "      <th>city</th>\n",
       "      <th>region</th>\n",
       "      <th>country</th>\n",
       "      <th>device_type</th>\n",
       "      <th>screen_resolution</th>\n",
       "      <th>operating_system_version</th>\n",
       "      <th>browser_version</th>\n",
       "    </tr>\n",
       "  </thead>\n",
       "  <tbody>\n",
       "    <tr>\n",
       "      <th>0</th>\n",
       "      <td>2018-05-18 00:11:59</td>\n",
       "      <td>viewed product</td>\n",
       "      <td>4886f805</td>\n",
       "      <td>NaN</td>\n",
       "      <td>9288.0</td>\n",
       "      <td>Samsung Galaxy J7 Prime</td>\n",
       "      <td>Excelente</td>\n",
       "      <td>32GB</td>\n",
       "      <td>Dourado</td>\n",
       "      <td>NaN</td>\n",
       "      <td>...</td>\n",
       "      <td>NaN</td>\n",
       "      <td>NaN</td>\n",
       "      <td>NaN</td>\n",
       "      <td>NaN</td>\n",
       "      <td>NaN</td>\n",
       "      <td>NaN</td>\n",
       "      <td>NaN</td>\n",
       "      <td>NaN</td>\n",
       "      <td>NaN</td>\n",
       "      <td>NaN</td>\n",
       "    </tr>\n",
       "    <tr>\n",
       "      <th>1</th>\n",
       "      <td>2018-05-18 00:11:27</td>\n",
       "      <td>viewed product</td>\n",
       "      <td>ad93850f</td>\n",
       "      <td>NaN</td>\n",
       "      <td>304.0</td>\n",
       "      <td>iPhone 5s</td>\n",
       "      <td>Muito Bom</td>\n",
       "      <td>32GB</td>\n",
       "      <td>Cinza espacial</td>\n",
       "      <td>NaN</td>\n",
       "      <td>...</td>\n",
       "      <td>NaN</td>\n",
       "      <td>NaN</td>\n",
       "      <td>NaN</td>\n",
       "      <td>NaN</td>\n",
       "      <td>NaN</td>\n",
       "      <td>NaN</td>\n",
       "      <td>NaN</td>\n",
       "      <td>NaN</td>\n",
       "      <td>NaN</td>\n",
       "      <td>NaN</td>\n",
       "    </tr>\n",
       "    <tr>\n",
       "      <th>2</th>\n",
       "      <td>2018-05-18 00:11:16</td>\n",
       "      <td>viewed product</td>\n",
       "      <td>0297fc1e</td>\n",
       "      <td>NaN</td>\n",
       "      <td>6888.0</td>\n",
       "      <td>iPhone 6S</td>\n",
       "      <td>Muito Bom</td>\n",
       "      <td>64GB</td>\n",
       "      <td>Prateado</td>\n",
       "      <td>NaN</td>\n",
       "      <td>...</td>\n",
       "      <td>NaN</td>\n",
       "      <td>NaN</td>\n",
       "      <td>NaN</td>\n",
       "      <td>NaN</td>\n",
       "      <td>NaN</td>\n",
       "      <td>NaN</td>\n",
       "      <td>NaN</td>\n",
       "      <td>NaN</td>\n",
       "      <td>NaN</td>\n",
       "      <td>NaN</td>\n",
       "    </tr>\n",
       "    <tr>\n",
       "      <th>3</th>\n",
       "      <td>2018-05-18 00:11:14</td>\n",
       "      <td>viewed product</td>\n",
       "      <td>2d681dd8</td>\n",
       "      <td>NaN</td>\n",
       "      <td>11890.0</td>\n",
       "      <td>iPhone 7</td>\n",
       "      <td>Bom</td>\n",
       "      <td>128GB</td>\n",
       "      <td>Vermelho</td>\n",
       "      <td>NaN</td>\n",
       "      <td>...</td>\n",
       "      <td>NaN</td>\n",
       "      <td>NaN</td>\n",
       "      <td>NaN</td>\n",
       "      <td>NaN</td>\n",
       "      <td>NaN</td>\n",
       "      <td>NaN</td>\n",
       "      <td>NaN</td>\n",
       "      <td>NaN</td>\n",
       "      <td>NaN</td>\n",
       "      <td>NaN</td>\n",
       "    </tr>\n",
       "    <tr>\n",
       "      <th>4</th>\n",
       "      <td>2018-05-18 00:11:09</td>\n",
       "      <td>viewed product</td>\n",
       "      <td>cccea85e</td>\n",
       "      <td>NaN</td>\n",
       "      <td>7517.0</td>\n",
       "      <td>LG G4 H818P</td>\n",
       "      <td>Excelente</td>\n",
       "      <td>32GB</td>\n",
       "      <td>Branco</td>\n",
       "      <td>NaN</td>\n",
       "      <td>...</td>\n",
       "      <td>NaN</td>\n",
       "      <td>NaN</td>\n",
       "      <td>NaN</td>\n",
       "      <td>NaN</td>\n",
       "      <td>NaN</td>\n",
       "      <td>NaN</td>\n",
       "      <td>NaN</td>\n",
       "      <td>NaN</td>\n",
       "      <td>NaN</td>\n",
       "      <td>NaN</td>\n",
       "    </tr>\n",
       "  </tbody>\n",
       "</table>\n",
       "<p>5 rows × 23 columns</p>\n",
       "</div>"
      ],
      "text/plain": [
       "             timestamp           event    person  url      sku  \\\n",
       "0  2018-05-18 00:11:59  viewed product  4886f805  NaN   9288.0   \n",
       "1  2018-05-18 00:11:27  viewed product  ad93850f  NaN    304.0   \n",
       "2  2018-05-18 00:11:16  viewed product  0297fc1e  NaN   6888.0   \n",
       "3  2018-05-18 00:11:14  viewed product  2d681dd8  NaN  11890.0   \n",
       "4  2018-05-18 00:11:09  viewed product  cccea85e  NaN   7517.0   \n",
       "\n",
       "                     model  condition storage           color skus  \\\n",
       "0  Samsung Galaxy J7 Prime  Excelente    32GB         Dourado  NaN   \n",
       "1                iPhone 5s  Muito Bom    32GB  Cinza espacial  NaN   \n",
       "2                iPhone 6S  Muito Bom    64GB        Prateado  NaN   \n",
       "3                 iPhone 7        Bom   128GB        Vermelho  NaN   \n",
       "4              LG G4 H818P  Excelente    32GB          Branco  NaN   \n",
       "\n",
       "        ...       search_engine channel new_vs_returning city region country  \\\n",
       "0       ...                 NaN     NaN              NaN  NaN    NaN     NaN   \n",
       "1       ...                 NaN     NaN              NaN  NaN    NaN     NaN   \n",
       "2       ...                 NaN     NaN              NaN  NaN    NaN     NaN   \n",
       "3       ...                 NaN     NaN              NaN  NaN    NaN     NaN   \n",
       "4       ...                 NaN     NaN              NaN  NaN    NaN     NaN   \n",
       "\n",
       "  device_type screen_resolution operating_system_version browser_version  \n",
       "0         NaN               NaN                      NaN             NaN  \n",
       "1         NaN               NaN                      NaN             NaN  \n",
       "2         NaN               NaN                      NaN             NaN  \n",
       "3         NaN               NaN                      NaN             NaN  \n",
       "4         NaN               NaN                      NaN             NaN  \n",
       "\n",
       "[5 rows x 23 columns]"
      ]
     },
     "execution_count": 4,
     "metadata": {},
     "output_type": "execute_result"
    }
   ],
   "source": [
    "input_data_raw = pd.read_csv(_PATH_DATASET + 'events_up_to_01062018.csv')\n",
    "input_data_raw.head()"
   ]
  },
  {
   "cell_type": "code",
   "execution_count": 149,
   "metadata": {},
   "outputs": [
    {
     "data": {
      "text/html": [
       "<div>\n",
       "<style scoped>\n",
       "    .dataframe tbody tr th:only-of-type {\n",
       "        vertical-align: middle;\n",
       "    }\n",
       "\n",
       "    .dataframe tbody tr th {\n",
       "        vertical-align: top;\n",
       "    }\n",
       "\n",
       "    .dataframe thead th {\n",
       "        text-align: right;\n",
       "    }\n",
       "</style>\n",
       "<table border=\"1\" class=\"dataframe\">\n",
       "  <thead>\n",
       "    <tr style=\"text-align: right;\">\n",
       "      <th></th>\n",
       "      <th>0</th>\n",
       "    </tr>\n",
       "  </thead>\n",
       "  <tbody>\n",
       "    <tr>\n",
       "      <th>0</th>\n",
       "      <td>timestamp</td>\n",
       "    </tr>\n",
       "    <tr>\n",
       "      <th>1</th>\n",
       "      <td>event</td>\n",
       "    </tr>\n",
       "    <tr>\n",
       "      <th>2</th>\n",
       "      <td>person</td>\n",
       "    </tr>\n",
       "    <tr>\n",
       "      <th>3</th>\n",
       "      <td>url</td>\n",
       "    </tr>\n",
       "    <tr>\n",
       "      <th>4</th>\n",
       "      <td>sku</td>\n",
       "    </tr>\n",
       "    <tr>\n",
       "      <th>5</th>\n",
       "      <td>model</td>\n",
       "    </tr>\n",
       "    <tr>\n",
       "      <th>6</th>\n",
       "      <td>condition</td>\n",
       "    </tr>\n",
       "    <tr>\n",
       "      <th>7</th>\n",
       "      <td>storage</td>\n",
       "    </tr>\n",
       "    <tr>\n",
       "      <th>8</th>\n",
       "      <td>color</td>\n",
       "    </tr>\n",
       "    <tr>\n",
       "      <th>9</th>\n",
       "      <td>skus</td>\n",
       "    </tr>\n",
       "    <tr>\n",
       "      <th>10</th>\n",
       "      <td>search_term</td>\n",
       "    </tr>\n",
       "    <tr>\n",
       "      <th>11</th>\n",
       "      <td>staticpage</td>\n",
       "    </tr>\n",
       "    <tr>\n",
       "      <th>12</th>\n",
       "      <td>campaign_source</td>\n",
       "    </tr>\n",
       "    <tr>\n",
       "      <th>13</th>\n",
       "      <td>search_engine</td>\n",
       "    </tr>\n",
       "    <tr>\n",
       "      <th>14</th>\n",
       "      <td>channel</td>\n",
       "    </tr>\n",
       "    <tr>\n",
       "      <th>15</th>\n",
       "      <td>new_vs_returning</td>\n",
       "    </tr>\n",
       "    <tr>\n",
       "      <th>16</th>\n",
       "      <td>city</td>\n",
       "    </tr>\n",
       "    <tr>\n",
       "      <th>17</th>\n",
       "      <td>region</td>\n",
       "    </tr>\n",
       "    <tr>\n",
       "      <th>18</th>\n",
       "      <td>country</td>\n",
       "    </tr>\n",
       "    <tr>\n",
       "      <th>19</th>\n",
       "      <td>device_type</td>\n",
       "    </tr>\n",
       "    <tr>\n",
       "      <th>20</th>\n",
       "      <td>screen_resolution</td>\n",
       "    </tr>\n",
       "    <tr>\n",
       "      <th>21</th>\n",
       "      <td>operating_system_version</td>\n",
       "    </tr>\n",
       "    <tr>\n",
       "      <th>22</th>\n",
       "      <td>browser_version</td>\n",
       "    </tr>\n",
       "  </tbody>\n",
       "</table>\n",
       "</div>"
      ],
      "text/plain": [
       "                           0\n",
       "0                  timestamp\n",
       "1                      event\n",
       "2                     person\n",
       "3                        url\n",
       "4                        sku\n",
       "5                      model\n",
       "6                  condition\n",
       "7                    storage\n",
       "8                      color\n",
       "9                       skus\n",
       "10               search_term\n",
       "11                staticpage\n",
       "12           campaign_source\n",
       "13             search_engine\n",
       "14                   channel\n",
       "15          new_vs_returning\n",
       "16                      city\n",
       "17                    region\n",
       "18                   country\n",
       "19               device_type\n",
       "20         screen_resolution\n",
       "21  operating_system_version\n",
       "22           browser_version"
      ]
     },
     "execution_count": 149,
     "metadata": {},
     "output_type": "execute_result"
    }
   ],
   "source": [
    "pd.DataFrame(input_data_raw.columns)"
   ]
  },
  {
   "cell_type": "code",
   "execution_count": 5,
   "metadata": {
    "_uuid": "78e6859287be10f1542d864c971accb02192b0fa"
   },
   "outputs": [
    {
     "data": {
      "text/html": [
       "<div>\n",
       "<style scoped>\n",
       "    .dataframe tbody tr th:only-of-type {\n",
       "        vertical-align: middle;\n",
       "    }\n",
       "\n",
       "    .dataframe tbody tr th {\n",
       "        vertical-align: top;\n",
       "    }\n",
       "\n",
       "    .dataframe thead th {\n",
       "        text-align: right;\n",
       "    }\n",
       "</style>\n",
       "<table border=\"1\" class=\"dataframe\">\n",
       "  <thead>\n",
       "    <tr style=\"text-align: right;\">\n",
       "      <th></th>\n",
       "      <th>person</th>\n",
       "      <th>label</th>\n",
       "      <th>resultKnown</th>\n",
       "    </tr>\n",
       "  </thead>\n",
       "  <tbody>\n",
       "    <tr>\n",
       "      <th>0</th>\n",
       "      <td>0566e9c1</td>\n",
       "      <td>0</td>\n",
       "      <td>1</td>\n",
       "    </tr>\n",
       "    <tr>\n",
       "      <th>1</th>\n",
       "      <td>6ec7ee77</td>\n",
       "      <td>0</td>\n",
       "      <td>1</td>\n",
       "    </tr>\n",
       "    <tr>\n",
       "      <th>2</th>\n",
       "      <td>abe7a2fb</td>\n",
       "      <td>0</td>\n",
       "      <td>1</td>\n",
       "    </tr>\n",
       "    <tr>\n",
       "      <th>3</th>\n",
       "      <td>34728364</td>\n",
       "      <td>0</td>\n",
       "      <td>1</td>\n",
       "    </tr>\n",
       "    <tr>\n",
       "      <th>4</th>\n",
       "      <td>87ed62de</td>\n",
       "      <td>0</td>\n",
       "      <td>1</td>\n",
       "    </tr>\n",
       "  </tbody>\n",
       "</table>\n",
       "</div>"
      ],
      "text/plain": [
       "     person  label  resultKnown\n",
       "0  0566e9c1      0            1\n",
       "1  6ec7ee77      0            1\n",
       "2  abe7a2fb      0            1\n",
       "3  34728364      0            1\n",
       "4  87ed62de      0            1"
      ]
     },
     "execution_count": 5,
     "metadata": {},
     "output_type": "execute_result"
    }
   ],
   "source": [
    "# Se cargan los labels\n",
    "knownLabels = pd.read_csv(_PATH_DATASET + 'labels_training_set.csv')\n",
    "knownLabels['resultKnown'] = 1\n",
    "knownLabels.head()"
   ]
  },
  {
   "cell_type": "code",
   "execution_count": 6,
   "metadata": {},
   "outputs": [
    {
     "data": {
      "text/plain": [
       "980"
      ]
     },
     "execution_count": 6,
     "metadata": {},
     "output_type": "execute_result"
    }
   ],
   "source": [
    "sum(knownLabels.label)"
   ]
  },
  {
   "cell_type": "markdown",
   "metadata": {
    "_uuid": "e62800b1ad62a5cc0511080f4de83a0283a40279"
   },
   "source": [
    "# 2) Acondicionar los datos (previo al armado del DataFrame final)"
   ]
  },
  {
   "cell_type": "code",
   "execution_count": 7,
   "metadata": {
    "_uuid": "6a272790dcf97ce2f96c01e5e55cf53f37eaad09",
    "collapsed": true
   },
   "outputs": [],
   "source": [
    "# Acondicionar los datos antes de convertirlos\n",
    "input_data_raw['timestamp'] = pd.to_datetime(input_data_raw['timestamp']) # Convierto a timestamp"
   ]
  },
  {
   "cell_type": "code",
   "execution_count": 8,
   "metadata": {},
   "outputs": [
    {
     "data": {
      "text/plain": [
       "1"
      ]
     },
     "execution_count": 8,
     "metadata": {},
     "output_type": "execute_result"
    }
   ],
   "source": [
    "input_data_raw['timestamp'].dt.week.min()"
   ]
  },
  {
   "cell_type": "code",
   "execution_count": 9,
   "metadata": {
    "_uuid": "955305a5e83c9d5ef0f95220c6c8bc62a820b2b4"
   },
   "outputs": [
    {
     "name": "stdout",
     "output_type": "stream",
     "text": [
      "Total de datos: (2341681, 23)\n",
      "Total de labels: (19414, 3)\n"
     ]
    }
   ],
   "source": [
    "print('Total de datos: ' + str(input_data_raw.shape))\n",
    "print('Total de labels: ' + str(knownLabels.shape))"
   ]
  },
  {
   "cell_type": "code",
   "execution_count": 10,
   "metadata": {
    "_uuid": "fa5b4550b2ceea6717a2468eda5e4a5b75058130",
    "collapsed": true
   },
   "outputs": [],
   "source": [
    "# Hubo un cambio grande, a todos los trato por igual y luego en algún momento los separo por label 0 o 1 o\n",
    "# en testing, -1\n",
    "input_train = input_data_raw# [input_data_raw.person.isin(knownLabels.person)] # Datos etiquetados\n",
    "input_to_be_validated = input_data_raw[(~input_data_raw.person.isin(knownLabels.person))] # Datos para predecir"
   ]
  },
  {
   "cell_type": "code",
   "execution_count": 11,
   "metadata": {
    "collapsed": true
   },
   "outputs": [],
   "source": [
    "# Para simplificar el preprocesamiento, hago un array único en donde las labels desconocidas son las -1\n",
    "unknownLabels = pd.DataFrame(input_to_be_validated['person'])"
   ]
  },
  {
   "cell_type": "code",
   "execution_count": 12,
   "metadata": {
    "collapsed": true
   },
   "outputs": [],
   "source": [
    "unknownLabels['label'] = 0"
   ]
  },
  {
   "cell_type": "code",
   "execution_count": 13,
   "metadata": {
    "collapsed": true
   },
   "outputs": [],
   "source": [
    "unknownLabels = unknownLabels.groupby('person')"
   ]
  },
  {
   "cell_type": "code",
   "execution_count": 14,
   "metadata": {
    "_uuid": "79847816b5c54e9eb9fab66c9a003e61baddce54",
    "collapsed": true
   },
   "outputs": [],
   "source": [
    "unknownLabels = unknownLabels.count()\n",
    "unknownLabels['resultKnown'] = 0\n",
    "unknownLabels['label'].values[:] = 0\n",
    "#unknownLabels.label = 0 # Si seteo a 0, no queda como un DataFrame"
   ]
  },
  {
   "cell_type": "code",
   "execution_count": 15,
   "metadata": {},
   "outputs": [
    {
     "data": {
      "text/html": [
       "<div>\n",
       "<style scoped>\n",
       "    .dataframe tbody tr th:only-of-type {\n",
       "        vertical-align: middle;\n",
       "    }\n",
       "\n",
       "    .dataframe tbody tr th {\n",
       "        vertical-align: top;\n",
       "    }\n",
       "\n",
       "    .dataframe thead th {\n",
       "        text-align: right;\n",
       "    }\n",
       "</style>\n",
       "<table border=\"1\" class=\"dataframe\">\n",
       "  <thead>\n",
       "    <tr style=\"text-align: right;\">\n",
       "      <th></th>\n",
       "      <th>label</th>\n",
       "      <th>resultKnown</th>\n",
       "    </tr>\n",
       "    <tr>\n",
       "      <th>person</th>\n",
       "      <th></th>\n",
       "      <th></th>\n",
       "    </tr>\n",
       "  </thead>\n",
       "  <tbody>\n",
       "    <tr>\n",
       "      <th>00091926</th>\n",
       "      <td>0</td>\n",
       "      <td>0</td>\n",
       "    </tr>\n",
       "    <tr>\n",
       "      <th>00091a7a</th>\n",
       "      <td>0</td>\n",
       "      <td>0</td>\n",
       "    </tr>\n",
       "    <tr>\n",
       "      <th>000ba417</th>\n",
       "      <td>0</td>\n",
       "      <td>0</td>\n",
       "    </tr>\n",
       "    <tr>\n",
       "      <th>000e4d9e</th>\n",
       "      <td>0</td>\n",
       "      <td>0</td>\n",
       "    </tr>\n",
       "    <tr>\n",
       "      <th>000e619d</th>\n",
       "      <td>0</td>\n",
       "      <td>0</td>\n",
       "    </tr>\n",
       "  </tbody>\n",
       "</table>\n",
       "</div>"
      ],
      "text/plain": [
       "          label  resultKnown\n",
       "person                      \n",
       "00091926      0            0\n",
       "00091a7a      0            0\n",
       "000ba417      0            0\n",
       "000e4d9e      0            0\n",
       "000e619d      0            0"
      ]
     },
     "execution_count": 15,
     "metadata": {},
     "output_type": "execute_result"
    }
   ],
   "source": [
    "unknownLabels.head()"
   ]
  },
  {
   "cell_type": "code",
   "execution_count": 16,
   "metadata": {},
   "outputs": [
    {
     "name": "stdout",
     "output_type": "stream",
     "text": [
      "Total de labels desconocidas: (19415, 2)\n"
     ]
    }
   ],
   "source": [
    "print('Total de labels desconocidas: ' + str(unknownLabels.shape))"
   ]
  },
  {
   "cell_type": "code",
   "execution_count": 17,
   "metadata": {
    "collapsed": true
   },
   "outputs": [],
   "source": [
    "knownLabels = knownLabels.set_index('person')\n",
    "#unknownLabels = unknownLabels.set_index('person')\n",
    "\n",
    "joinedLabels = [knownLabels, unknownLabels]"
   ]
  },
  {
   "cell_type": "code",
   "execution_count": 18,
   "metadata": {},
   "outputs": [
    {
     "data": {
      "text/html": [
       "<div>\n",
       "<style scoped>\n",
       "    .dataframe tbody tr th:only-of-type {\n",
       "        vertical-align: middle;\n",
       "    }\n",
       "\n",
       "    .dataframe tbody tr th {\n",
       "        vertical-align: top;\n",
       "    }\n",
       "\n",
       "    .dataframe thead th {\n",
       "        text-align: right;\n",
       "    }\n",
       "</style>\n",
       "<table border=\"1\" class=\"dataframe\">\n",
       "  <thead>\n",
       "    <tr style=\"text-align: right;\">\n",
       "      <th></th>\n",
       "      <th>label</th>\n",
       "      <th>resultKnown</th>\n",
       "    </tr>\n",
       "    <tr>\n",
       "      <th>person</th>\n",
       "      <th></th>\n",
       "      <th></th>\n",
       "    </tr>\n",
       "  </thead>\n",
       "  <tbody>\n",
       "    <tr>\n",
       "      <th>0566e9c1</th>\n",
       "      <td>0</td>\n",
       "      <td>1</td>\n",
       "    </tr>\n",
       "    <tr>\n",
       "      <th>6ec7ee77</th>\n",
       "      <td>0</td>\n",
       "      <td>1</td>\n",
       "    </tr>\n",
       "    <tr>\n",
       "      <th>abe7a2fb</th>\n",
       "      <td>0</td>\n",
       "      <td>1</td>\n",
       "    </tr>\n",
       "    <tr>\n",
       "      <th>34728364</th>\n",
       "      <td>0</td>\n",
       "      <td>1</td>\n",
       "    </tr>\n",
       "    <tr>\n",
       "      <th>87ed62de</th>\n",
       "      <td>0</td>\n",
       "      <td>1</td>\n",
       "    </tr>\n",
       "  </tbody>\n",
       "</table>\n",
       "</div>"
      ],
      "text/plain": [
       "          label  resultKnown\n",
       "person                      \n",
       "0566e9c1      0            1\n",
       "6ec7ee77      0            1\n",
       "abe7a2fb      0            1\n",
       "34728364      0            1\n",
       "87ed62de      0            1"
      ]
     },
     "execution_count": 18,
     "metadata": {},
     "output_type": "execute_result"
    }
   ],
   "source": [
    "joinedLabels = pd.concat(joinedLabels)\n",
    "joinedLabels.head()"
   ]
  },
  {
   "cell_type": "code",
   "execution_count": 19,
   "metadata": {},
   "outputs": [
    {
     "name": "stdout",
     "output_type": "stream",
     "text": [
      "Total de labels: (38829, 2)\n"
     ]
    }
   ],
   "source": [
    "print('Total de labels: ' + str(joinedLabels.shape))"
   ]
  },
  {
   "cell_type": "code",
   "execution_count": 20,
   "metadata": {
    "_uuid": "c8ddbefdfc38322f51a3e1f3164c839a19260195"
   },
   "outputs": [
    {
     "name": "stdout",
     "output_type": "stream",
     "text": [
      "Total de datos con label conocidos: 2341681\n",
      "Total de datos a predecir 1169795\n",
      "Total de datos (debe coincidir) 3511476\n"
     ]
    }
   ],
   "source": [
    "print('Total de datos con label conocidos: ' + str(input_train.shape[0])) # Datos \n",
    "print('Total de datos a predecir ' + str(input_to_be_validated.shape[0]))\n",
    "print('Total de datos (debe coincidir) ' + str(input_train.shape[0] + input_to_be_validated.shape[0]))"
   ]
  },
  {
   "cell_type": "markdown",
   "metadata": {
    "_uuid": "0472eda9951a48674c5334d72ffd97136751a481"
   },
   "source": [
    "# Acondiciono los datos por persona (ahora tengo una entrada por evento y no por persona)"
   ]
  },
  {
   "cell_type": "code",
   "execution_count": 21,
   "metadata": {
    "_uuid": "a8fc4c210b80c9ea43c16c697dff7311b83b0874",
    "collapsed": true
   },
   "outputs": [],
   "source": [
    "# input_train.describe()\n",
    "# input_train.info()"
   ]
  },
  {
   "cell_type": "code",
   "execution_count": null,
   "metadata": {
    "_uuid": "0a3e31701cd4faf2d317abb722a97fe1fcee6ce0",
    "collapsed": true
   },
   "outputs": [],
   "source": []
  },
  {
   "cell_type": "markdown",
   "metadata": {
    "_uuid": "16b07dcda26b30aa5b69096d121992a491054938"
   },
   "source": [
    "### Nota: SKU: Stock-keeping unit o SKU, sin traducción literal al español podría denominarse «código de artículo» o «número de referencia» o incluso un código de barras. Asignado a un elemento para poder identificarlo en el inventario físico y/o financiero."
   ]
  },
  {
   "cell_type": "markdown",
   "metadata": {
    "_uuid": "8f9f93db695bf276d05fbe8720fce6e2476cbbe9"
   },
   "source": [
    "# ACLARACIÓN:\n",
    "## Borrar lo que no necesito de acá luego, en esto hay mucho borrador, lo importante es llegar al DataFrame de features..."
   ]
  },
  {
   "cell_type": "code",
   "execution_count": 22,
   "metadata": {
    "_uuid": "f9f8829531370f571c5167dbc7ad31f705d987d4",
    "collapsed": true
   },
   "outputs": [],
   "source": [
    "input_train = input_train.sort_values(['person']) # ordeno por persona, no es necesario si voy a stackear"
   ]
  },
  {
   "cell_type": "code",
   "execution_count": 23,
   "metadata": {
    "_uuid": "8bbd5e49b314785dca04238195add6f84f7b3a14",
    "collapsed": true
   },
   "outputs": [],
   "source": [
    "# Me aseguro de que todos los eventos tienen el campo persona de 8 caracteres\n",
    "# input_train['person'].apply(lambda x: len(x)).value_counts() # => OK"
   ]
  },
  {
   "cell_type": "code",
   "execution_count": 24,
   "metadata": {
    "collapsed": true
   },
   "outputs": [],
   "source": [
    "runTests = False"
   ]
  },
  {
   "cell_type": "code",
   "execution_count": 25,
   "metadata": {
    "_uuid": "9a702b050a14bd5137bb6864a6abe0a62dd0e9db",
    "collapsed": true
   },
   "outputs": [],
   "source": [
    "# Desprolijo, después aprovechar esto.\n",
    "if runTests == True:\n",
    "    in2 = input_train.set_index('person')\n",
    "    in2.head()"
   ]
  },
  {
   "cell_type": "code",
   "execution_count": 26,
   "metadata": {
    "_uuid": "8207f1c67dd351685e642e8bb56ffd1d70d57638",
    "collapsed": true
   },
   "outputs": [],
   "source": [
    "if runTests == True:\n",
    "    # input_train.sort_values(['person', 'timestamp'])\n",
    "    # input_train.groupby('person').count()\n",
    "    input_train_features = input_train.groupby('person').count() # Este no será el dato final"
   ]
  },
  {
   "cell_type": "code",
   "execution_count": 27,
   "metadata": {
    "_uuid": "8e78a834d3241356ccafe8c25404b502256e1363",
    "collapsed": true
   },
   "outputs": [],
   "source": [
    "#input_train_features.columns"
   ]
  },
  {
   "cell_type": "code",
   "execution_count": 28,
   "metadata": {
    "_uuid": "685be9a4ae506530dfca45515d2b4ae7a37ff8ab",
    "collapsed": true
   },
   "outputs": [],
   "source": [
    "if runTests == True:\n",
    "    total = input_train_features.join(knownLabels, on = 'person', how = 'left')"
   ]
  },
  {
   "cell_type": "code",
   "execution_count": 29,
   "metadata": {
    "_uuid": "2f68c60eeee63c94c72cef3889876ce16e3a961f",
    "collapsed": true
   },
   "outputs": [],
   "source": [
    "# total.shape\n",
    "# total.label.head()"
   ]
  },
  {
   "cell_type": "code",
   "execution_count": 30,
   "metadata": {
    "_uuid": "052eda781eed19e36cba3bd3c77ba634910e3162",
    "collapsed": true
   },
   "outputs": [],
   "source": [
    "if runTests == True:\n",
    "    x_data = total.drop('label', axis = 1)\n",
    "    y_labels = total.label\n",
    "    from sklearn.model_selection import train_test_split\n",
    "    X_train, X_test, y_train, y_test = train_test_split(x_data,y_labels,test_size=0.3,random_state=101)\n",
    "    x_data.columns"
   ]
  },
  {
   "cell_type": "markdown",
   "metadata": {
    "_uuid": "6bee2a585708d4bd46457c312b5fecd803cdd807"
   },
   "source": [
    "## Esto también es una prueba"
   ]
  },
  {
   "cell_type": "code",
   "execution_count": 31,
   "metadata": {
    "_uuid": "42e79e20df3fd7cf4b2395be114aca476b9e1a5d",
    "collapsed": true
   },
   "outputs": [],
   "source": [
    "if runTests == True:\n",
    "    import tensorflow as tf"
   ]
  },
  {
   "cell_type": "code",
   "execution_count": 32,
   "metadata": {
    "_uuid": "cb1a8098ec9e57eda7f769c79fc09f10703ed45a",
    "collapsed": true
   },
   "outputs": [],
   "source": [
    "if runTests == True:\n",
    "    #feat_cols = tf.convert_to_tensor(x_data) # No anda, da errores al momento de entrenar (model.train)\n",
    "    ts = tf.feature_column.numeric_column(\"timestamp\")\n",
    "    event = tf.feature_column.numeric_column(\"event\")\n",
    "    url = tf.feature_column.numeric_column(\"url\")\n",
    "    model = tf.feature_column.numeric_column(\"model\")\n",
    "    condition = tf.feature_column.numeric_column(\"condition\")\n",
    "    storage = tf.feature_column.numeric_column(\"storage\")\n",
    "    color = tf.feature_column.numeric_column(\"color\")\n",
    "    search_term = tf.feature_column.numeric_column(\"search_term\")\n",
    "\n",
    "    feat_cols = [ts, event, url]"
   ]
  },
  {
   "cell_type": "code",
   "execution_count": 33,
   "metadata": {
    "_uuid": "507d15275d78fdf11ebdd6b528e074a28f81eb17",
    "collapsed": true
   },
   "outputs": [],
   "source": [
    "if runTests == True:\n",
    "    type(feat_cols)"
   ]
  },
  {
   "cell_type": "code",
   "execution_count": 34,
   "metadata": {
    "_uuid": "5ff917fcb7c6372466f5f514bdfc8a8fdba1c9b6",
    "collapsed": true
   },
   "outputs": [],
   "source": [
    "if runTests == True:\n",
    "    input_func=tf.estimator.inputs.pandas_input_fn(x=X_train,y=y_train,batch_size=100,num_epochs=None,shuffle=True)"
   ]
  },
  {
   "cell_type": "code",
   "execution_count": 35,
   "metadata": {
    "_uuid": "ab4b25efa74574b81fa4533b31b52617cf97d86e",
    "collapsed": true
   },
   "outputs": [],
   "source": [
    "if runTests == True:\n",
    "    model = tf.estimator.LinearClassifier(feature_columns=feat_cols)"
   ]
  },
  {
   "cell_type": "code",
   "execution_count": 36,
   "metadata": {
    "_uuid": "512e9292a51620f1403e08de185e79952c0cdf18",
    "collapsed": true
   },
   "outputs": [],
   "source": [
    "if runTests == True:\n",
    "    model.train(input_fn=input_func,steps=5000)"
   ]
  },
  {
   "cell_type": "code",
   "execution_count": 37,
   "metadata": {
    "_uuid": "e4145249b211d9d2d8b65204d5d28ff5718a66c7",
    "collapsed": true
   },
   "outputs": [],
   "source": [
    "if runTests == True:\n",
    "    pred_fn = tf.estimator.inputs.pandas_input_fn(x=X_test,batch_size=len(X_test),shuffle=False)"
   ]
  },
  {
   "cell_type": "code",
   "execution_count": 38,
   "metadata": {
    "_uuid": "77f3d99470d3b6d3ce782e75a6eb2d545da8c89f",
    "collapsed": true
   },
   "outputs": [],
   "source": [
    "if runTests == True:\n",
    "    predictions = list(model.predict(input_fn=pred_fn))"
   ]
  },
  {
   "cell_type": "code",
   "execution_count": 39,
   "metadata": {
    "_uuid": "db7f670286f8a6d9d8f3ff1bc80769208b263433",
    "collapsed": true
   },
   "outputs": [],
   "source": [
    "if runTests == True:\n",
    "    final_preds = []\n",
    "    for pred in predictions:\n",
    "        final_preds.append(pred['class_ids'][0])"
   ]
  },
  {
   "cell_type": "code",
   "execution_count": 40,
   "metadata": {
    "_uuid": "0ac773c5336b6636f001150d1e35c4b3bd25c14f",
    "collapsed": true
   },
   "outputs": [],
   "source": [
    "if runTests == True:\n",
    "    from sklearn.metrics import classification_report"
   ]
  },
  {
   "cell_type": "code",
   "execution_count": 41,
   "metadata": {
    "_uuid": "7a7b860e4187ca98d28beacae87d297b77dc0a94",
    "collapsed": true
   },
   "outputs": [],
   "source": [
    "if runTests == True:\n",
    "    print(classification_report(y_test,final_preds))"
   ]
  },
  {
   "cell_type": "code",
   "execution_count": 42,
   "metadata": {
    "_uuid": "318b6c694e70150d41bc75e3c6a7a3fa1f6bc5de",
    "collapsed": true
   },
   "outputs": [],
   "source": [
    "if runTests == True:\n",
    "    input_train[input_train['person'] == '0008ed71'].sort_values(['timestamp'])"
   ]
  },
  {
   "cell_type": "code",
   "execution_count": 43,
   "metadata": {
    "_uuid": "fb8e9eb310ebcad452b7b7ef51db45707baef8da",
    "collapsed": true
   },
   "outputs": [],
   "source": [
    "if runTests == True:\n",
    "    input_train.loc[1505383]['skus']"
   ]
  },
  {
   "cell_type": "code",
   "execution_count": 44,
   "metadata": {
    "_uuid": "2c2cc8aaac60c235c5c57155bfd8490129a066b2",
    "collapsed": true
   },
   "outputs": [],
   "source": [
    "if runTests == True:\n",
    "    input_train[input_train['skus'].isnull()]"
   ]
  },
  {
   "cell_type": "code",
   "execution_count": 45,
   "metadata": {
    "_uuid": "559e1baaecad7e512bb55e06095433aef203cc0d",
    "collapsed": true
   },
   "outputs": [],
   "source": [
    "if runTests == True:\n",
    "    input_train.loc[2122051].skus"
   ]
  },
  {
   "cell_type": "markdown",
   "metadata": {
    "_uuid": "ec58ce541fdb4704fdad803689e765ede0e7a99b"
   },
   "source": [
    "## FIN DE PRUEBAS. Sigo con el espacio de features nuevamente"
   ]
  },
  {
   "cell_type": "markdown",
   "metadata": {
    "_uuid": "c7c041380f1ad09aff5326acfa168fab93645de5"
   },
   "source": [
    "# 3) Explorar distintos features"
   ]
  },
  {
   "cell_type": "markdown",
   "metadata": {
    "_uuid": "c853326e630fca3ca0f1fc28dc504cb93840ff27"
   },
   "source": [
    "## Creo el nuevo vector de features.\n",
    "### El mismo consiste en un DataFrame del que se evaluarán luego cuáles usar"
   ]
  },
  {
   "cell_type": "code",
   "execution_count": 46,
   "metadata": {},
   "outputs": [
    {
     "data": {
      "text/plain": [
       "1507286    0008ed71\n",
       "2336761    0008ed71\n",
       "2122051    0008ed71\n",
       "1505383    0008ed71\n",
       "2336760    0008ed71\n",
       "Name: person, dtype: object"
      ]
     },
     "execution_count": 46,
     "metadata": {},
     "output_type": "execute_result"
    }
   ],
   "source": [
    "input_train.person.head()"
   ]
  },
  {
   "cell_type": "code",
   "execution_count": 47,
   "metadata": {},
   "outputs": [
    {
     "data": {
      "text/html": [
       "<div>\n",
       "<style scoped>\n",
       "    .dataframe tbody tr th:only-of-type {\n",
       "        vertical-align: middle;\n",
       "    }\n",
       "\n",
       "    .dataframe tbody tr th {\n",
       "        vertical-align: top;\n",
       "    }\n",
       "\n",
       "    .dataframe thead th {\n",
       "        text-align: right;\n",
       "    }\n",
       "</style>\n",
       "<table border=\"1\" class=\"dataframe\">\n",
       "  <thead>\n",
       "    <tr style=\"text-align: right;\">\n",
       "      <th></th>\n",
       "      <th>label</th>\n",
       "      <th>resultKnown</th>\n",
       "    </tr>\n",
       "    <tr>\n",
       "      <th>person</th>\n",
       "      <th></th>\n",
       "      <th></th>\n",
       "    </tr>\n",
       "  </thead>\n",
       "  <tbody>\n",
       "    <tr>\n",
       "      <th>0566e9c1</th>\n",
       "      <td>0</td>\n",
       "      <td>1</td>\n",
       "    </tr>\n",
       "    <tr>\n",
       "      <th>6ec7ee77</th>\n",
       "      <td>0</td>\n",
       "      <td>1</td>\n",
       "    </tr>\n",
       "    <tr>\n",
       "      <th>abe7a2fb</th>\n",
       "      <td>0</td>\n",
       "      <td>1</td>\n",
       "    </tr>\n",
       "    <tr>\n",
       "      <th>34728364</th>\n",
       "      <td>0</td>\n",
       "      <td>1</td>\n",
       "    </tr>\n",
       "    <tr>\n",
       "      <th>87ed62de</th>\n",
       "      <td>0</td>\n",
       "      <td>1</td>\n",
       "    </tr>\n",
       "  </tbody>\n",
       "</table>\n",
       "</div>"
      ],
      "text/plain": [
       "          label  resultKnown\n",
       "person                      \n",
       "0566e9c1      0            1\n",
       "6ec7ee77      0            1\n",
       "abe7a2fb      0            1\n",
       "34728364      0            1\n",
       "87ed62de      0            1"
      ]
     },
     "execution_count": 47,
     "metadata": {},
     "output_type": "execute_result"
    }
   ],
   "source": [
    "joinedLabels.head()"
   ]
  },
  {
   "cell_type": "code",
   "execution_count": 48,
   "metadata": {
    "_uuid": "ac5f85ac7b9dd08fc0aaa205685e85db2265aca2",
    "collapsed": true
   },
   "outputs": [],
   "source": [
    "new_vector_features = pd.DataFrame(joinedLabels.index) # Creo un vector con una entrada por persona\n",
    "#new_vector_features['_'] = 0\n",
    "new_vector_features = new_vector_features.set_index('person')\n",
    "# new_vector_features.head()"
   ]
  },
  {
   "cell_type": "code",
   "execution_count": 49,
   "metadata": {
    "_uuid": "cd72dd94dd3f2226afac1f74fd7bda8848cc1a51",
    "collapsed": true
   },
   "outputs": [],
   "source": [
    "# Agrego los labels\n",
    "new_vector_features = new_vector_features.join(joinedLabels, on = 'person', how = 'left')"
   ]
  },
  {
   "cell_type": "code",
   "execution_count": 50,
   "metadata": {},
   "outputs": [
    {
     "data": {
      "text/plain": [
       "(19415, 2)"
      ]
     },
     "execution_count": 50,
     "metadata": {},
     "output_type": "execute_result"
    }
   ],
   "source": [
    "new_vector_features[new_vector_features['resultKnown']!=1].shape"
   ]
  },
  {
   "cell_type": "markdown",
   "metadata": {
    "_uuid": "1b5f3324529fdb123c11e320e402019f46d4a779"
   },
   "source": [
    "## Estudio los features útiles. Crear lista de ideas"
   ]
  },
  {
   "cell_type": "code",
   "execution_count": 51,
   "metadata": {
    "_uuid": "39901f46f54f034c941f5afd506429f67d2ede6f",
    "scrolled": true
   },
   "outputs": [
    {
     "data": {
      "text/plain": [
       "array(['timestamp', 'event', 'person', 'url', 'sku', 'model', 'condition',\n",
       "       'storage', 'color', 'skus', 'search_term', 'staticpage',\n",
       "       'campaign_source', 'search_engine', 'channel', 'new_vs_returning',\n",
       "       'city', 'region', 'country', 'device_type', 'screen_resolution',\n",
       "       'operating_system_version', 'browser_version'], dtype=object)"
      ]
     },
     "execution_count": 51,
     "metadata": {},
     "output_type": "execute_result"
    }
   ],
   "source": [
    "input_train.columns.values # Lista de features crudos disponibles. Desde ellos debo realizar los diferentes"
   ]
  },
  {
   "cell_type": "markdown",
   "metadata": {
    "_uuid": "53a9317305d1941c35c65286b3d3849322c20c90"
   },
   "source": [
    "## Demo de groupby, por alguna duda en particular"
   ]
  },
  {
   "cell_type": "code",
   "execution_count": 52,
   "metadata": {
    "_uuid": "503d5bd19a2fe19f01a8cf4f54d377f6a8f3a3d3"
   },
   "outputs": [
    {
     "data": {
      "text/html": [
       "<div>\n",
       "<style scoped>\n",
       "    .dataframe tbody tr th:only-of-type {\n",
       "        vertical-align: middle;\n",
       "    }\n",
       "\n",
       "    .dataframe tbody tr th {\n",
       "        vertical-align: top;\n",
       "    }\n",
       "\n",
       "    .dataframe thead th {\n",
       "        text-align: right;\n",
       "    }\n",
       "</style>\n",
       "<table border=\"1\" class=\"dataframe\">\n",
       "  <thead>\n",
       "    <tr style=\"text-align: right;\">\n",
       "      <th></th>\n",
       "      <th>A</th>\n",
       "      <th>B</th>\n",
       "      <th>C</th>\n",
       "    </tr>\n",
       "  </thead>\n",
       "  <tbody>\n",
       "    <tr>\n",
       "      <th>0</th>\n",
       "      <td>a</td>\n",
       "      <td>1.0</td>\n",
       "      <td>4</td>\n",
       "    </tr>\n",
       "    <tr>\n",
       "      <th>1</th>\n",
       "      <td>a</td>\n",
       "      <td>2.0</td>\n",
       "      <td>6</td>\n",
       "    </tr>\n",
       "    <tr>\n",
       "      <th>2</th>\n",
       "      <td>b</td>\n",
       "      <td>3.0</td>\n",
       "      <td>5</td>\n",
       "    </tr>\n",
       "    <tr>\n",
       "      <th>3</th>\n",
       "      <td>a</td>\n",
       "      <td>1.5</td>\n",
       "      <td>100</td>\n",
       "    </tr>\n",
       "  </tbody>\n",
       "</table>\n",
       "</div>"
      ],
      "text/plain": [
       "   A    B    C\n",
       "0  a  1.0    4\n",
       "1  a  2.0    6\n",
       "2  b  3.0    5\n",
       "3  a  1.5  100"
      ]
     },
     "execution_count": 52,
     "metadata": {},
     "output_type": "execute_result"
    }
   ],
   "source": [
    "df = pd.DataFrame({'A': 'a a b a'.split(), 'B': [1,2,3,1.5], 'C': [4,6, 5, 100]})\n",
    "g = df.groupby('A')\n",
    "g.head()"
   ]
  },
  {
   "cell_type": "code",
   "execution_count": 53,
   "metadata": {
    "_uuid": "878f84bf3fbca053e842097c5c95b9549b5fee38"
   },
   "outputs": [
    {
     "data": {
      "text/html": [
       "<div>\n",
       "<style scoped>\n",
       "    .dataframe tbody tr th:only-of-type {\n",
       "        vertical-align: middle;\n",
       "    }\n",
       "\n",
       "    .dataframe tbody tr th {\n",
       "        vertical-align: top;\n",
       "    }\n",
       "\n",
       "    .dataframe thead th {\n",
       "        text-align: right;\n",
       "    }\n",
       "</style>\n",
       "<table border=\"1\" class=\"dataframe\">\n",
       "  <thead>\n",
       "    <tr style=\"text-align: right;\">\n",
       "      <th></th>\n",
       "      <th>A</th>\n",
       "      <th>B</th>\n",
       "      <th>C</th>\n",
       "    </tr>\n",
       "    <tr>\n",
       "      <th>A</th>\n",
       "      <th></th>\n",
       "      <th></th>\n",
       "      <th></th>\n",
       "    </tr>\n",
       "  </thead>\n",
       "  <tbody>\n",
       "    <tr>\n",
       "      <th>a</th>\n",
       "      <td>aaa</td>\n",
       "      <td>4.5</td>\n",
       "      <td>110</td>\n",
       "    </tr>\n",
       "    <tr>\n",
       "      <th>b</th>\n",
       "      <td>b</td>\n",
       "      <td>3.0</td>\n",
       "      <td>5</td>\n",
       "    </tr>\n",
       "  </tbody>\n",
       "</table>\n",
       "</div>"
      ],
      "text/plain": [
       "     A    B    C\n",
       "A               \n",
       "a  aaa  4.5  110\n",
       "b    b  3.0    5"
      ]
     },
     "execution_count": 53,
     "metadata": {},
     "output_type": "execute_result"
    }
   ],
   "source": [
    "g.apply(lambda x: x.sum())"
   ]
  },
  {
   "cell_type": "markdown",
   "metadata": {
    "_uuid": "12a6d986d406a21cd472bd51a166617bdfcea0bd"
   },
   "source": [
    "## Features de timestamp"
   ]
  },
  {
   "cell_type": "code",
   "execution_count": 54,
   "metadata": {
    "_uuid": "763e50e113eb888ea87340b797f7dabf51bd3824"
   },
   "outputs": [
    {
     "data": {
      "text/html": [
       "<div>\n",
       "<style scoped>\n",
       "    .dataframe tbody tr th:only-of-type {\n",
       "        vertical-align: middle;\n",
       "    }\n",
       "\n",
       "    .dataframe tbody tr th {\n",
       "        vertical-align: top;\n",
       "    }\n",
       "\n",
       "    .dataframe thead th {\n",
       "        text-align: right;\n",
       "    }\n",
       "</style>\n",
       "<table border=\"1\" class=\"dataframe\">\n",
       "  <thead>\n",
       "    <tr style=\"text-align: right;\">\n",
       "      <th></th>\n",
       "      <th>timestamp</th>\n",
       "      <th>event</th>\n",
       "      <th>person</th>\n",
       "      <th>url</th>\n",
       "      <th>sku</th>\n",
       "      <th>model</th>\n",
       "      <th>condition</th>\n",
       "      <th>storage</th>\n",
       "      <th>color</th>\n",
       "      <th>skus</th>\n",
       "      <th>...</th>\n",
       "      <th>search_engine</th>\n",
       "      <th>channel</th>\n",
       "      <th>new_vs_returning</th>\n",
       "      <th>city</th>\n",
       "      <th>region</th>\n",
       "      <th>country</th>\n",
       "      <th>device_type</th>\n",
       "      <th>screen_resolution</th>\n",
       "      <th>operating_system_version</th>\n",
       "      <th>browser_version</th>\n",
       "    </tr>\n",
       "  </thead>\n",
       "  <tbody>\n",
       "    <tr>\n",
       "      <th>1507286</th>\n",
       "      <td>2018-05-17 12:27:47</td>\n",
       "      <td>checkout</td>\n",
       "      <td>0008ed71</td>\n",
       "      <td>NaN</td>\n",
       "      <td>3372.0</td>\n",
       "      <td>Samsung Galaxy S6 Flat</td>\n",
       "      <td>Muito Bom</td>\n",
       "      <td>32GB</td>\n",
       "      <td>Dourado</td>\n",
       "      <td>NaN</td>\n",
       "      <td>...</td>\n",
       "      <td>NaN</td>\n",
       "      <td>NaN</td>\n",
       "      <td>NaN</td>\n",
       "      <td>NaN</td>\n",
       "      <td>NaN</td>\n",
       "      <td>NaN</td>\n",
       "      <td>NaN</td>\n",
       "      <td>NaN</td>\n",
       "      <td>NaN</td>\n",
       "      <td>NaN</td>\n",
       "    </tr>\n",
       "    <tr>\n",
       "      <th>2336761</th>\n",
       "      <td>2018-05-17 16:21:54</td>\n",
       "      <td>visited site</td>\n",
       "      <td>0008ed71</td>\n",
       "      <td>NaN</td>\n",
       "      <td>NaN</td>\n",
       "      <td>NaN</td>\n",
       "      <td>NaN</td>\n",
       "      <td>NaN</td>\n",
       "      <td>NaN</td>\n",
       "      <td>NaN</td>\n",
       "      <td>...</td>\n",
       "      <td>NaN</td>\n",
       "      <td>Referral</td>\n",
       "      <td>Returning</td>\n",
       "      <td>Unknown</td>\n",
       "      <td>Unknown</td>\n",
       "      <td>Brazil</td>\n",
       "      <td>Computer</td>\n",
       "      <td>1920x1080</td>\n",
       "      <td>Windows 10</td>\n",
       "      <td>Chrome 66.0</td>\n",
       "    </tr>\n",
       "    <tr>\n",
       "      <th>2122051</th>\n",
       "      <td>2018-05-17 16:22:06</td>\n",
       "      <td>generic listing</td>\n",
       "      <td>0008ed71</td>\n",
       "      <td>NaN</td>\n",
       "      <td>NaN</td>\n",
       "      <td>NaN</td>\n",
       "      <td>NaN</td>\n",
       "      <td>NaN</td>\n",
       "      <td>NaN</td>\n",
       "      <td>6594,6651,6664,7253,2820,6706,6721,12606,480,1...</td>\n",
       "      <td>...</td>\n",
       "      <td>NaN</td>\n",
       "      <td>NaN</td>\n",
       "      <td>NaN</td>\n",
       "      <td>NaN</td>\n",
       "      <td>NaN</td>\n",
       "      <td>NaN</td>\n",
       "      <td>NaN</td>\n",
       "      <td>NaN</td>\n",
       "      <td>NaN</td>\n",
       "      <td>NaN</td>\n",
       "    </tr>\n",
       "    <tr>\n",
       "      <th>1505383</th>\n",
       "      <td>2018-05-17 16:28:37</td>\n",
       "      <td>checkout</td>\n",
       "      <td>0008ed71</td>\n",
       "      <td>NaN</td>\n",
       "      <td>7505.0</td>\n",
       "      <td>LG G4 H818P</td>\n",
       "      <td>Bom</td>\n",
       "      <td>32GB</td>\n",
       "      <td>Preto</td>\n",
       "      <td>NaN</td>\n",
       "      <td>...</td>\n",
       "      <td>NaN</td>\n",
       "      <td>NaN</td>\n",
       "      <td>NaN</td>\n",
       "      <td>NaN</td>\n",
       "      <td>NaN</td>\n",
       "      <td>NaN</td>\n",
       "      <td>NaN</td>\n",
       "      <td>NaN</td>\n",
       "      <td>NaN</td>\n",
       "      <td>NaN</td>\n",
       "    </tr>\n",
       "    <tr>\n",
       "      <th>2336760</th>\n",
       "      <td>2018-05-17 13:44:59</td>\n",
       "      <td>visited site</td>\n",
       "      <td>0008ed71</td>\n",
       "      <td>NaN</td>\n",
       "      <td>NaN</td>\n",
       "      <td>NaN</td>\n",
       "      <td>NaN</td>\n",
       "      <td>NaN</td>\n",
       "      <td>NaN</td>\n",
       "      <td>NaN</td>\n",
       "      <td>...</td>\n",
       "      <td>NaN</td>\n",
       "      <td>Referral</td>\n",
       "      <td>New</td>\n",
       "      <td>Unknown</td>\n",
       "      <td>Unknown</td>\n",
       "      <td>Brazil</td>\n",
       "      <td>Computer</td>\n",
       "      <td>1920x1080</td>\n",
       "      <td>Windows 10</td>\n",
       "      <td>Chrome 66.0</td>\n",
       "    </tr>\n",
       "    <tr>\n",
       "      <th>227610</th>\n",
       "      <td>2018-05-23 01:09:18</td>\n",
       "      <td>ad campaign hit</td>\n",
       "      <td>00091926</td>\n",
       "      <td>/comprar/iphone/6s</td>\n",
       "      <td>NaN</td>\n",
       "      <td>NaN</td>\n",
       "      <td>NaN</td>\n",
       "      <td>NaN</td>\n",
       "      <td>NaN</td>\n",
       "      <td>NaN</td>\n",
       "      <td>...</td>\n",
       "      <td>NaN</td>\n",
       "      <td>NaN</td>\n",
       "      <td>NaN</td>\n",
       "      <td>NaN</td>\n",
       "      <td>NaN</td>\n",
       "      <td>NaN</td>\n",
       "      <td>NaN</td>\n",
       "      <td>NaN</td>\n",
       "      <td>NaN</td>\n",
       "      <td>NaN</td>\n",
       "    </tr>\n",
       "    <tr>\n",
       "      <th>244622</th>\n",
       "      <td>2018-05-17 00:56:34</td>\n",
       "      <td>viewed product</td>\n",
       "      <td>00091926</td>\n",
       "      <td>NaN</td>\n",
       "      <td>10309.0</td>\n",
       "      <td>iPhone 7 Plus</td>\n",
       "      <td>Muito Bom</td>\n",
       "      <td>256GB</td>\n",
       "      <td>Ouro Rosa</td>\n",
       "      <td>NaN</td>\n",
       "      <td>...</td>\n",
       "      <td>NaN</td>\n",
       "      <td>NaN</td>\n",
       "      <td>NaN</td>\n",
       "      <td>NaN</td>\n",
       "      <td>NaN</td>\n",
       "      <td>NaN</td>\n",
       "      <td>NaN</td>\n",
       "      <td>NaN</td>\n",
       "      <td>NaN</td>\n",
       "      <td>NaN</td>\n",
       "    </tr>\n",
       "    <tr>\n",
       "      <th>175432</th>\n",
       "      <td>2018-05-31 02:33:58</td>\n",
       "      <td>viewed product</td>\n",
       "      <td>00091926</td>\n",
       "      <td>NaN</td>\n",
       "      <td>6846.0</td>\n",
       "      <td>iPhone 6S</td>\n",
       "      <td>Muito Bom</td>\n",
       "      <td>16GB</td>\n",
       "      <td>Dourado</td>\n",
       "      <td>NaN</td>\n",
       "      <td>...</td>\n",
       "      <td>NaN</td>\n",
       "      <td>NaN</td>\n",
       "      <td>NaN</td>\n",
       "      <td>NaN</td>\n",
       "      <td>NaN</td>\n",
       "      <td>NaN</td>\n",
       "      <td>NaN</td>\n",
       "      <td>NaN</td>\n",
       "      <td>NaN</td>\n",
       "      <td>NaN</td>\n",
       "    </tr>\n",
       "    <tr>\n",
       "      <th>244443</th>\n",
       "      <td>2018-05-17 01:13:22</td>\n",
       "      <td>viewed product</td>\n",
       "      <td>00091926</td>\n",
       "      <td>NaN</td>\n",
       "      <td>1389.0</td>\n",
       "      <td>iPhone 6 Plus</td>\n",
       "      <td>Excelente</td>\n",
       "      <td>16GB</td>\n",
       "      <td>Dourado</td>\n",
       "      <td>NaN</td>\n",
       "      <td>...</td>\n",
       "      <td>NaN</td>\n",
       "      <td>NaN</td>\n",
       "      <td>NaN</td>\n",
       "      <td>NaN</td>\n",
       "      <td>NaN</td>\n",
       "      <td>NaN</td>\n",
       "      <td>NaN</td>\n",
       "      <td>NaN</td>\n",
       "      <td>NaN</td>\n",
       "      <td>NaN</td>\n",
       "    </tr>\n",
       "    <tr>\n",
       "      <th>252233</th>\n",
       "      <td>2018-05-07 00:37:12</td>\n",
       "      <td>viewed product</td>\n",
       "      <td>00091926</td>\n",
       "      <td>NaN</td>\n",
       "      <td>10910.0</td>\n",
       "      <td>Samsung Galaxy A7 2017</td>\n",
       "      <td>Bom</td>\n",
       "      <td>32GB</td>\n",
       "      <td>Rosa</td>\n",
       "      <td>NaN</td>\n",
       "      <td>...</td>\n",
       "      <td>NaN</td>\n",
       "      <td>NaN</td>\n",
       "      <td>NaN</td>\n",
       "      <td>NaN</td>\n",
       "      <td>NaN</td>\n",
       "      <td>NaN</td>\n",
       "      <td>NaN</td>\n",
       "      <td>NaN</td>\n",
       "      <td>NaN</td>\n",
       "      <td>NaN</td>\n",
       "    </tr>\n",
       "    <tr>\n",
       "      <th>1912555</th>\n",
       "      <td>2018-03-26 14:56:30</td>\n",
       "      <td>brand listing</td>\n",
       "      <td>00091a7a</td>\n",
       "      <td>NaN</td>\n",
       "      <td>NaN</td>\n",
       "      <td>NaN</td>\n",
       "      <td>NaN</td>\n",
       "      <td>NaN</td>\n",
       "      <td>NaN</td>\n",
       "      <td>10323,3659,87,10308,10085,10113,276,8261,81,99...</td>\n",
       "      <td>...</td>\n",
       "      <td>NaN</td>\n",
       "      <td>NaN</td>\n",
       "      <td>NaN</td>\n",
       "      <td>NaN</td>\n",
       "      <td>NaN</td>\n",
       "      <td>NaN</td>\n",
       "      <td>NaN</td>\n",
       "      <td>NaN</td>\n",
       "      <td>NaN</td>\n",
       "      <td>NaN</td>\n",
       "    </tr>\n",
       "    <tr>\n",
       "      <th>1912552</th>\n",
       "      <td>2018-03-26 14:51:11</td>\n",
       "      <td>brand listing</td>\n",
       "      <td>00091a7a</td>\n",
       "      <td>NaN</td>\n",
       "      <td>NaN</td>\n",
       "      <td>NaN</td>\n",
       "      <td>NaN</td>\n",
       "      <td>NaN</td>\n",
       "      <td>NaN</td>\n",
       "      <td>8261,10323,3659,87,10308,10085,9987,10113,81,9...</td>\n",
       "      <td>...</td>\n",
       "      <td>NaN</td>\n",
       "      <td>NaN</td>\n",
       "      <td>NaN</td>\n",
       "      <td>NaN</td>\n",
       "      <td>NaN</td>\n",
       "      <td>NaN</td>\n",
       "      <td>NaN</td>\n",
       "      <td>NaN</td>\n",
       "      <td>NaN</td>\n",
       "      <td>NaN</td>\n",
       "    </tr>\n",
       "    <tr>\n",
       "      <th>1912556</th>\n",
       "      <td>2018-03-26 14:56:58</td>\n",
       "      <td>brand listing</td>\n",
       "      <td>00091a7a</td>\n",
       "      <td>NaN</td>\n",
       "      <td>NaN</td>\n",
       "      <td>NaN</td>\n",
       "      <td>NaN</td>\n",
       "      <td>NaN</td>\n",
       "      <td>NaN</td>\n",
       "      <td>10323,3659,87,10308,10085,10113,276,8261,81,99...</td>\n",
       "      <td>...</td>\n",
       "      <td>NaN</td>\n",
       "      <td>NaN</td>\n",
       "      <td>NaN</td>\n",
       "      <td>NaN</td>\n",
       "      <td>NaN</td>\n",
       "      <td>NaN</td>\n",
       "      <td>NaN</td>\n",
       "      <td>NaN</td>\n",
       "      <td>NaN</td>\n",
       "      <td>NaN</td>\n",
       "    </tr>\n",
       "    <tr>\n",
       "      <th>1912554</th>\n",
       "      <td>2018-03-26 14:55:17</td>\n",
       "      <td>brand listing</td>\n",
       "      <td>00091a7a</td>\n",
       "      <td>NaN</td>\n",
       "      <td>NaN</td>\n",
       "      <td>NaN</td>\n",
       "      <td>NaN</td>\n",
       "      <td>NaN</td>\n",
       "      <td>NaN</td>\n",
       "      <td>10323,3659,87,10308,10085,10113,276,8261,81,99...</td>\n",
       "      <td>...</td>\n",
       "      <td>NaN</td>\n",
       "      <td>NaN</td>\n",
       "      <td>NaN</td>\n",
       "      <td>NaN</td>\n",
       "      <td>NaN</td>\n",
       "      <td>NaN</td>\n",
       "      <td>NaN</td>\n",
       "      <td>NaN</td>\n",
       "      <td>NaN</td>\n",
       "      <td>NaN</td>\n",
       "    </tr>\n",
       "    <tr>\n",
       "      <th>630080</th>\n",
       "      <td>2018-03-26 14:56:25</td>\n",
       "      <td>viewed product</td>\n",
       "      <td>00091a7a</td>\n",
       "      <td>NaN</td>\n",
       "      <td>8261.0</td>\n",
       "      <td>iPhone SE</td>\n",
       "      <td>Bom</td>\n",
       "      <td>64GB</td>\n",
       "      <td>Ouro Rosa</td>\n",
       "      <td>NaN</td>\n",
       "      <td>...</td>\n",
       "      <td>NaN</td>\n",
       "      <td>NaN</td>\n",
       "      <td>NaN</td>\n",
       "      <td>NaN</td>\n",
       "      <td>NaN</td>\n",
       "      <td>NaN</td>\n",
       "      <td>NaN</td>\n",
       "      <td>NaN</td>\n",
       "      <td>NaN</td>\n",
       "      <td>NaN</td>\n",
       "    </tr>\n",
       "    <tr>\n",
       "      <th>849148</th>\n",
       "      <td>2018-05-24 17:10:11</td>\n",
       "      <td>viewed product</td>\n",
       "      <td>000ba417</td>\n",
       "      <td>NaN</td>\n",
       "      <td>10939.0</td>\n",
       "      <td>Samsung Galaxy A5 2017</td>\n",
       "      <td>Muito Bom</td>\n",
       "      <td>32GB</td>\n",
       "      <td>Preto</td>\n",
       "      <td>NaN</td>\n",
       "      <td>...</td>\n",
       "      <td>NaN</td>\n",
       "      <td>NaN</td>\n",
       "      <td>NaN</td>\n",
       "      <td>NaN</td>\n",
       "      <td>NaN</td>\n",
       "      <td>NaN</td>\n",
       "      <td>NaN</td>\n",
       "      <td>NaN</td>\n",
       "      <td>NaN</td>\n",
       "      <td>NaN</td>\n",
       "    </tr>\n",
       "    <tr>\n",
       "      <th>1934403</th>\n",
       "      <td>2018-05-26 12:22:49</td>\n",
       "      <td>brand listing</td>\n",
       "      <td>000ba417</td>\n",
       "      <td>NaN</td>\n",
       "      <td>NaN</td>\n",
       "      <td>NaN</td>\n",
       "      <td>NaN</td>\n",
       "      <td>NaN</td>\n",
       "      <td>NaN</td>\n",
       "      <td>6370,6357,3371,2777,2718,10896,6413,3191,6791,...</td>\n",
       "      <td>...</td>\n",
       "      <td>NaN</td>\n",
       "      <td>NaN</td>\n",
       "      <td>NaN</td>\n",
       "      <td>NaN</td>\n",
       "      <td>NaN</td>\n",
       "      <td>NaN</td>\n",
       "      <td>NaN</td>\n",
       "      <td>NaN</td>\n",
       "      <td>NaN</td>\n",
       "      <td>NaN</td>\n",
       "    </tr>\n",
       "    <tr>\n",
       "      <th>1934402</th>\n",
       "      <td>2018-05-26 12:22:46</td>\n",
       "      <td>generic listing</td>\n",
       "      <td>000ba417</td>\n",
       "      <td>NaN</td>\n",
       "      <td>NaN</td>\n",
       "      <td>NaN</td>\n",
       "      <td>NaN</td>\n",
       "      <td>NaN</td>\n",
       "      <td>NaN</td>\n",
       "      <td>2820,6705,2750,6720,6649,7252,12604,12620,7224...</td>\n",
       "      <td>...</td>\n",
       "      <td>NaN</td>\n",
       "      <td>NaN</td>\n",
       "      <td>NaN</td>\n",
       "      <td>NaN</td>\n",
       "      <td>NaN</td>\n",
       "      <td>NaN</td>\n",
       "      <td>NaN</td>\n",
       "      <td>NaN</td>\n",
       "      <td>NaN</td>\n",
       "      <td>NaN</td>\n",
       "    </tr>\n",
       "    <tr>\n",
       "      <th>847361</th>\n",
       "      <td>2018-05-24 16:21:58</td>\n",
       "      <td>viewed product</td>\n",
       "      <td>000ba417</td>\n",
       "      <td>NaN</td>\n",
       "      <td>6357.0</td>\n",
       "      <td>Samsung Galaxy J5</td>\n",
       "      <td>Bom</td>\n",
       "      <td>16GB</td>\n",
       "      <td>Preto</td>\n",
       "      <td>NaN</td>\n",
       "      <td>...</td>\n",
       "      <td>NaN</td>\n",
       "      <td>NaN</td>\n",
       "      <td>NaN</td>\n",
       "      <td>NaN</td>\n",
       "      <td>NaN</td>\n",
       "      <td>NaN</td>\n",
       "      <td>NaN</td>\n",
       "      <td>NaN</td>\n",
       "      <td>NaN</td>\n",
       "      <td>NaN</td>\n",
       "    </tr>\n",
       "    <tr>\n",
       "      <th>1934246</th>\n",
       "      <td>2018-05-24 16:15:15</td>\n",
       "      <td>brand listing</td>\n",
       "      <td>000ba417</td>\n",
       "      <td>NaN</td>\n",
       "      <td>NaN</td>\n",
       "      <td>NaN</td>\n",
       "      <td>NaN</td>\n",
       "      <td>NaN</td>\n",
       "      <td>NaN</td>\n",
       "      <td>6357,3371,6371,2777,2718,10897,3191,6413,6791,...</td>\n",
       "      <td>...</td>\n",
       "      <td>NaN</td>\n",
       "      <td>NaN</td>\n",
       "      <td>NaN</td>\n",
       "      <td>NaN</td>\n",
       "      <td>NaN</td>\n",
       "      <td>NaN</td>\n",
       "      <td>NaN</td>\n",
       "      <td>NaN</td>\n",
       "      <td>NaN</td>\n",
       "      <td>NaN</td>\n",
       "    </tr>\n",
       "    <tr>\n",
       "      <th>57876</th>\n",
       "      <td>2018-05-29 00:35:47</td>\n",
       "      <td>viewed product</td>\n",
       "      <td>000c79fe</td>\n",
       "      <td>NaN</td>\n",
       "      <td>9944.0</td>\n",
       "      <td>iPhone 7</td>\n",
       "      <td>Bom</td>\n",
       "      <td>128GB</td>\n",
       "      <td>Preto Matte</td>\n",
       "      <td>NaN</td>\n",
       "      <td>...</td>\n",
       "      <td>NaN</td>\n",
       "      <td>NaN</td>\n",
       "      <td>NaN</td>\n",
       "      <td>NaN</td>\n",
       "      <td>NaN</td>\n",
       "      <td>NaN</td>\n",
       "      <td>NaN</td>\n",
       "      <td>NaN</td>\n",
       "      <td>NaN</td>\n",
       "      <td>NaN</td>\n",
       "    </tr>\n",
       "    <tr>\n",
       "      <th>63117</th>\n",
       "      <td>2018-05-29 00:36:50</td>\n",
       "      <td>searched products</td>\n",
       "      <td>000c79fe</td>\n",
       "      <td>NaN</td>\n",
       "      <td>NaN</td>\n",
       "      <td>NaN</td>\n",
       "      <td>NaN</td>\n",
       "      <td>NaN</td>\n",
       "      <td>NaN</td>\n",
       "      <td>6371,6357,3371,2777,2718,6413,10896,3191,6248,...</td>\n",
       "      <td>...</td>\n",
       "      <td>NaN</td>\n",
       "      <td>NaN</td>\n",
       "      <td>NaN</td>\n",
       "      <td>NaN</td>\n",
       "      <td>NaN</td>\n",
       "      <td>NaN</td>\n",
       "      <td>NaN</td>\n",
       "      <td>NaN</td>\n",
       "      <td>NaN</td>\n",
       "      <td>NaN</td>\n",
       "    </tr>\n",
       "    <tr>\n",
       "      <th>62823</th>\n",
       "      <td>2018-05-29 00:38:07</td>\n",
       "      <td>searched products</td>\n",
       "      <td>000c79fe</td>\n",
       "      <td>NaN</td>\n",
       "      <td>NaN</td>\n",
       "      <td>NaN</td>\n",
       "      <td>NaN</td>\n",
       "      <td>NaN</td>\n",
       "      <td>NaN</td>\n",
       "      <td>12730,15338,12758,12744,12786,12772,12800</td>\n",
       "      <td>...</td>\n",
       "      <td>NaN</td>\n",
       "      <td>NaN</td>\n",
       "      <td>NaN</td>\n",
       "      <td>NaN</td>\n",
       "      <td>NaN</td>\n",
       "      <td>NaN</td>\n",
       "      <td>NaN</td>\n",
       "      <td>NaN</td>\n",
       "      <td>NaN</td>\n",
       "      <td>NaN</td>\n",
       "    </tr>\n",
       "    <tr>\n",
       "      <th>57880</th>\n",
       "      <td>2018-05-29 00:36:48</td>\n",
       "      <td>viewed product</td>\n",
       "      <td>000c79fe</td>\n",
       "      <td>NaN</td>\n",
       "      <td>9944.0</td>\n",
       "      <td>iPhone 7</td>\n",
       "      <td>Bom</td>\n",
       "      <td>128GB</td>\n",
       "      <td>Preto Matte</td>\n",
       "      <td>NaN</td>\n",
       "      <td>...</td>\n",
       "      <td>NaN</td>\n",
       "      <td>NaN</td>\n",
       "      <td>NaN</td>\n",
       "      <td>NaN</td>\n",
       "      <td>NaN</td>\n",
       "      <td>NaN</td>\n",
       "      <td>NaN</td>\n",
       "      <td>NaN</td>\n",
       "      <td>NaN</td>\n",
       "      <td>NaN</td>\n",
       "    </tr>\n",
       "    <tr>\n",
       "      <th>61644</th>\n",
       "      <td>2018-05-29 00:29:03</td>\n",
       "      <td>searched products</td>\n",
       "      <td>000c79fe</td>\n",
       "      <td>NaN</td>\n",
       "      <td>NaN</td>\n",
       "      <td>NaN</td>\n",
       "      <td>NaN</td>\n",
       "      <td>NaN</td>\n",
       "      <td>NaN</td>\n",
       "      <td>9931,9944,9902,9988,10084,9973,10322,10254,158...</td>\n",
       "      <td>...</td>\n",
       "      <td>NaN</td>\n",
       "      <td>NaN</td>\n",
       "      <td>NaN</td>\n",
       "      <td>NaN</td>\n",
       "      <td>NaN</td>\n",
       "      <td>NaN</td>\n",
       "      <td>NaN</td>\n",
       "      <td>NaN</td>\n",
       "      <td>NaN</td>\n",
       "      <td>NaN</td>\n",
       "    </tr>\n",
       "    <tr>\n",
       "      <th>2173016</th>\n",
       "      <td>2018-05-16 11:54:55</td>\n",
       "      <td>visited site</td>\n",
       "      <td>000e4d9e</td>\n",
       "      <td>NaN</td>\n",
       "      <td>NaN</td>\n",
       "      <td>NaN</td>\n",
       "      <td>NaN</td>\n",
       "      <td>NaN</td>\n",
       "      <td>NaN</td>\n",
       "      <td>NaN</td>\n",
       "      <td>...</td>\n",
       "      <td>NaN</td>\n",
       "      <td>Organic</td>\n",
       "      <td>New</td>\n",
       "      <td>Igarape</td>\n",
       "      <td>Minas Gerais</td>\n",
       "      <td>Brazil</td>\n",
       "      <td>Computer</td>\n",
       "      <td>1536x864</td>\n",
       "      <td>Windows 10</td>\n",
       "      <td>Chrome 67.0</td>\n",
       "    </tr>\n",
       "    <tr>\n",
       "      <th>2173017</th>\n",
       "      <td>2018-05-16 14:35:25</td>\n",
       "      <td>visited site</td>\n",
       "      <td>000e4d9e</td>\n",
       "      <td>NaN</td>\n",
       "      <td>NaN</td>\n",
       "      <td>NaN</td>\n",
       "      <td>NaN</td>\n",
       "      <td>NaN</td>\n",
       "      <td>NaN</td>\n",
       "      <td>NaN</td>\n",
       "      <td>...</td>\n",
       "      <td>NaN</td>\n",
       "      <td>Referral</td>\n",
       "      <td>Returning</td>\n",
       "      <td>Igarape</td>\n",
       "      <td>Minas Gerais</td>\n",
       "      <td>Brazil</td>\n",
       "      <td>Computer</td>\n",
       "      <td>1536x864</td>\n",
       "      <td>Windows 10</td>\n",
       "      <td>Chrome 67.0</td>\n",
       "    </tr>\n",
       "    <tr>\n",
       "      <th>2173022</th>\n",
       "      <td>2018-05-24 18:04:47</td>\n",
       "      <td>visited site</td>\n",
       "      <td>000e4d9e</td>\n",
       "      <td>NaN</td>\n",
       "      <td>NaN</td>\n",
       "      <td>NaN</td>\n",
       "      <td>NaN</td>\n",
       "      <td>NaN</td>\n",
       "      <td>NaN</td>\n",
       "      <td>NaN</td>\n",
       "      <td>...</td>\n",
       "      <td>NaN</td>\n",
       "      <td>Direct</td>\n",
       "      <td>Returning</td>\n",
       "      <td>Igarape</td>\n",
       "      <td>Minas Gerais</td>\n",
       "      <td>Brazil</td>\n",
       "      <td>Computer</td>\n",
       "      <td>1536x864</td>\n",
       "      <td>Windows 10</td>\n",
       "      <td>Chrome 67.0</td>\n",
       "    </tr>\n",
       "    <tr>\n",
       "      <th>1824054</th>\n",
       "      <td>2018-05-16 13:11:21</td>\n",
       "      <td>generic listing</td>\n",
       "      <td>000e4d9e</td>\n",
       "      <td>NaN</td>\n",
       "      <td>NaN</td>\n",
       "      <td>NaN</td>\n",
       "      <td>NaN</td>\n",
       "      <td>NaN</td>\n",
       "      <td>NaN</td>\n",
       "      <td>6594,7251,2820,6721,2750,2774,2773,2813,1075,7...</td>\n",
       "      <td>...</td>\n",
       "      <td>NaN</td>\n",
       "      <td>NaN</td>\n",
       "      <td>NaN</td>\n",
       "      <td>NaN</td>\n",
       "      <td>NaN</td>\n",
       "      <td>NaN</td>\n",
       "      <td>NaN</td>\n",
       "      <td>NaN</td>\n",
       "      <td>NaN</td>\n",
       "      <td>NaN</td>\n",
       "    </tr>\n",
       "    <tr>\n",
       "      <th>2173021</th>\n",
       "      <td>2018-05-23 15:34:49</td>\n",
       "      <td>visited site</td>\n",
       "      <td>000e4d9e</td>\n",
       "      <td>NaN</td>\n",
       "      <td>NaN</td>\n",
       "      <td>NaN</td>\n",
       "      <td>NaN</td>\n",
       "      <td>NaN</td>\n",
       "      <td>NaN</td>\n",
       "      <td>NaN</td>\n",
       "      <td>...</td>\n",
       "      <td>NaN</td>\n",
       "      <td>Direct</td>\n",
       "      <td>Returning</td>\n",
       "      <td>Igarape</td>\n",
       "      <td>Minas Gerais</td>\n",
       "      <td>Brazil</td>\n",
       "      <td>Computer</td>\n",
       "      <td>1536x864</td>\n",
       "      <td>Windows 10</td>\n",
       "      <td>Chrome 67.0</td>\n",
       "    </tr>\n",
       "    <tr>\n",
       "      <th>...</th>\n",
       "      <td>...</td>\n",
       "      <td>...</td>\n",
       "      <td>...</td>\n",
       "      <td>...</td>\n",
       "      <td>...</td>\n",
       "      <td>...</td>\n",
       "      <td>...</td>\n",
       "      <td>...</td>\n",
       "      <td>...</td>\n",
       "      <td>...</td>\n",
       "      <td>...</td>\n",
       "      <td>...</td>\n",
       "      <td>...</td>\n",
       "      <td>...</td>\n",
       "      <td>...</td>\n",
       "      <td>...</td>\n",
       "      <td>...</td>\n",
       "      <td>...</td>\n",
       "      <td>...</td>\n",
       "      <td>...</td>\n",
       "      <td>...</td>\n",
       "    </tr>\n",
       "    <tr>\n",
       "      <th>528200</th>\n",
       "      <td>2018-05-28 14:59:23</td>\n",
       "      <td>viewed product</td>\n",
       "      <td>fff1b11a</td>\n",
       "      <td>NaN</td>\n",
       "      <td>12774.0</td>\n",
       "      <td>Samsung Galaxy S8 Plus</td>\n",
       "      <td>Excelente</td>\n",
       "      <td>64GB</td>\n",
       "      <td>Preto</td>\n",
       "      <td>NaN</td>\n",
       "      <td>...</td>\n",
       "      <td>NaN</td>\n",
       "      <td>NaN</td>\n",
       "      <td>NaN</td>\n",
       "      <td>NaN</td>\n",
       "      <td>NaN</td>\n",
       "      <td>NaN</td>\n",
       "      <td>NaN</td>\n",
       "      <td>NaN</td>\n",
       "      <td>NaN</td>\n",
       "      <td>NaN</td>\n",
       "    </tr>\n",
       "    <tr>\n",
       "      <th>528566</th>\n",
       "      <td>2018-05-28 15:01:55</td>\n",
       "      <td>viewed product</td>\n",
       "      <td>fff1b11a</td>\n",
       "      <td>NaN</td>\n",
       "      <td>10338.0</td>\n",
       "      <td>iPhone 7 Plus</td>\n",
       "      <td>Excelente</td>\n",
       "      <td>32GB</td>\n",
       "      <td>Ouro Rosa</td>\n",
       "      <td>NaN</td>\n",
       "      <td>...</td>\n",
       "      <td>NaN</td>\n",
       "      <td>NaN</td>\n",
       "      <td>NaN</td>\n",
       "      <td>NaN</td>\n",
       "      <td>NaN</td>\n",
       "      <td>NaN</td>\n",
       "      <td>NaN</td>\n",
       "      <td>NaN</td>\n",
       "      <td>NaN</td>\n",
       "      <td>NaN</td>\n",
       "    </tr>\n",
       "    <tr>\n",
       "      <th>528204</th>\n",
       "      <td>2018-05-28 14:59:40</td>\n",
       "      <td>viewed product</td>\n",
       "      <td>fff1b11a</td>\n",
       "      <td>NaN</td>\n",
       "      <td>12772.0</td>\n",
       "      <td>Samsung Galaxy S8 Plus</td>\n",
       "      <td>Bom</td>\n",
       "      <td>64GB</td>\n",
       "      <td>Preto</td>\n",
       "      <td>NaN</td>\n",
       "      <td>...</td>\n",
       "      <td>NaN</td>\n",
       "      <td>NaN</td>\n",
       "      <td>NaN</td>\n",
       "      <td>NaN</td>\n",
       "      <td>NaN</td>\n",
       "      <td>NaN</td>\n",
       "      <td>NaN</td>\n",
       "      <td>NaN</td>\n",
       "      <td>NaN</td>\n",
       "      <td>NaN</td>\n",
       "    </tr>\n",
       "    <tr>\n",
       "      <th>528565</th>\n",
       "      <td>2018-05-28 15:01:50</td>\n",
       "      <td>viewed product</td>\n",
       "      <td>fff1b11a</td>\n",
       "      <td>NaN</td>\n",
       "      <td>15804.0</td>\n",
       "      <td>iPhone X</td>\n",
       "      <td>Muito Bom</td>\n",
       "      <td>256GB</td>\n",
       "      <td>Prateado</td>\n",
       "      <td>NaN</td>\n",
       "      <td>...</td>\n",
       "      <td>NaN</td>\n",
       "      <td>NaN</td>\n",
       "      <td>NaN</td>\n",
       "      <td>NaN</td>\n",
       "      <td>NaN</td>\n",
       "      <td>NaN</td>\n",
       "      <td>NaN</td>\n",
       "      <td>NaN</td>\n",
       "      <td>NaN</td>\n",
       "      <td>NaN</td>\n",
       "    </tr>\n",
       "    <tr>\n",
       "      <th>2335592</th>\n",
       "      <td>2018-05-22 17:47:26</td>\n",
       "      <td>visited site</td>\n",
       "      <td>fff1caee</td>\n",
       "      <td>NaN</td>\n",
       "      <td>NaN</td>\n",
       "      <td>NaN</td>\n",
       "      <td>NaN</td>\n",
       "      <td>NaN</td>\n",
       "      <td>NaN</td>\n",
       "      <td>NaN</td>\n",
       "      <td>...</td>\n",
       "      <td>NaN</td>\n",
       "      <td>Paid</td>\n",
       "      <td>New</td>\n",
       "      <td>Unknown</td>\n",
       "      <td>Unknown</td>\n",
       "      <td>Brazil</td>\n",
       "      <td>Smartphone</td>\n",
       "      <td>320x534</td>\n",
       "      <td>Android 6</td>\n",
       "      <td>Chrome Mobile 39</td>\n",
       "    </tr>\n",
       "    <tr>\n",
       "      <th>1455715</th>\n",
       "      <td>2018-05-22 17:47:26</td>\n",
       "      <td>ad campaign hit</td>\n",
       "      <td>fff1caee</td>\n",
       "      <td>/comprar/lg/lg-g5-se</td>\n",
       "      <td>NaN</td>\n",
       "      <td>NaN</td>\n",
       "      <td>NaN</td>\n",
       "      <td>NaN</td>\n",
       "      <td>NaN</td>\n",
       "      <td>NaN</td>\n",
       "      <td>...</td>\n",
       "      <td>NaN</td>\n",
       "      <td>NaN</td>\n",
       "      <td>NaN</td>\n",
       "      <td>NaN</td>\n",
       "      <td>NaN</td>\n",
       "      <td>NaN</td>\n",
       "      <td>NaN</td>\n",
       "      <td>NaN</td>\n",
       "      <td>NaN</td>\n",
       "      <td>NaN</td>\n",
       "    </tr>\n",
       "    <tr>\n",
       "      <th>1455815</th>\n",
       "      <td>2018-05-22 17:47:42</td>\n",
       "      <td>checkout</td>\n",
       "      <td>fff1caee</td>\n",
       "      <td>NaN</td>\n",
       "      <td>10533.0</td>\n",
       "      <td>LG G5 SE</td>\n",
       "      <td>Muito Bom</td>\n",
       "      <td>32GB</td>\n",
       "      <td>Rosa</td>\n",
       "      <td>NaN</td>\n",
       "      <td>...</td>\n",
       "      <td>NaN</td>\n",
       "      <td>NaN</td>\n",
       "      <td>NaN</td>\n",
       "      <td>NaN</td>\n",
       "      <td>NaN</td>\n",
       "      <td>NaN</td>\n",
       "      <td>NaN</td>\n",
       "      <td>NaN</td>\n",
       "      <td>NaN</td>\n",
       "      <td>NaN</td>\n",
       "    </tr>\n",
       "    <tr>\n",
       "      <th>1455814</th>\n",
       "      <td>2018-05-22 17:47:26</td>\n",
       "      <td>viewed product</td>\n",
       "      <td>fff1caee</td>\n",
       "      <td>NaN</td>\n",
       "      <td>10533.0</td>\n",
       "      <td>LG G5 SE</td>\n",
       "      <td>Muito Bom</td>\n",
       "      <td>32GB</td>\n",
       "      <td>Rosa</td>\n",
       "      <td>NaN</td>\n",
       "      <td>...</td>\n",
       "      <td>NaN</td>\n",
       "      <td>NaN</td>\n",
       "      <td>NaN</td>\n",
       "      <td>NaN</td>\n",
       "      <td>NaN</td>\n",
       "      <td>NaN</td>\n",
       "      <td>NaN</td>\n",
       "      <td>NaN</td>\n",
       "      <td>NaN</td>\n",
       "      <td>NaN</td>\n",
       "    </tr>\n",
       "    <tr>\n",
       "      <th>581485</th>\n",
       "      <td>2018-05-09 01:00:57</td>\n",
       "      <td>search engine hit</td>\n",
       "      <td>fff2bdde</td>\n",
       "      <td>NaN</td>\n",
       "      <td>NaN</td>\n",
       "      <td>NaN</td>\n",
       "      <td>NaN</td>\n",
       "      <td>NaN</td>\n",
       "      <td>NaN</td>\n",
       "      <td>NaN</td>\n",
       "      <td>...</td>\n",
       "      <td>Google</td>\n",
       "      <td>NaN</td>\n",
       "      <td>NaN</td>\n",
       "      <td>NaN</td>\n",
       "      <td>NaN</td>\n",
       "      <td>NaN</td>\n",
       "      <td>NaN</td>\n",
       "      <td>NaN</td>\n",
       "      <td>NaN</td>\n",
       "      <td>NaN</td>\n",
       "    </tr>\n",
       "    <tr>\n",
       "      <th>612891</th>\n",
       "      <td>2018-05-17 22:40:51</td>\n",
       "      <td>viewed product</td>\n",
       "      <td>fff2bdde</td>\n",
       "      <td>NaN</td>\n",
       "      <td>3181.0</td>\n",
       "      <td>Samsung Galaxy A5</td>\n",
       "      <td>Excelente</td>\n",
       "      <td>16GB</td>\n",
       "      <td>Preto</td>\n",
       "      <td>NaN</td>\n",
       "      <td>...</td>\n",
       "      <td>NaN</td>\n",
       "      <td>NaN</td>\n",
       "      <td>NaN</td>\n",
       "      <td>NaN</td>\n",
       "      <td>NaN</td>\n",
       "      <td>NaN</td>\n",
       "      <td>NaN</td>\n",
       "      <td>NaN</td>\n",
       "      <td>NaN</td>\n",
       "      <td>NaN</td>\n",
       "    </tr>\n",
       "    <tr>\n",
       "      <th>2234068</th>\n",
       "      <td>2018-05-06 19:32:35</td>\n",
       "      <td>visited site</td>\n",
       "      <td>fff2bdde</td>\n",
       "      <td>NaN</td>\n",
       "      <td>NaN</td>\n",
       "      <td>NaN</td>\n",
       "      <td>NaN</td>\n",
       "      <td>NaN</td>\n",
       "      <td>NaN</td>\n",
       "      <td>NaN</td>\n",
       "      <td>...</td>\n",
       "      <td>NaN</td>\n",
       "      <td>Social</td>\n",
       "      <td>New</td>\n",
       "      <td>Manaus</td>\n",
       "      <td>Amazonas</td>\n",
       "      <td>Brazil</td>\n",
       "      <td>Smartphone</td>\n",
       "      <td>320x534</td>\n",
       "      <td>Android 4.3</td>\n",
       "      <td>Chrome Mobile 66.0</td>\n",
       "    </tr>\n",
       "    <tr>\n",
       "      <th>404920</th>\n",
       "      <td>2018-05-06 20:14:08</td>\n",
       "      <td>viewed product</td>\n",
       "      <td>fff2bdde</td>\n",
       "      <td>NaN</td>\n",
       "      <td>10940.0</td>\n",
       "      <td>Samsung Galaxy A5 2017</td>\n",
       "      <td>Excelente</td>\n",
       "      <td>32GB</td>\n",
       "      <td>Preto</td>\n",
       "      <td>NaN</td>\n",
       "      <td>...</td>\n",
       "      <td>NaN</td>\n",
       "      <td>NaN</td>\n",
       "      <td>NaN</td>\n",
       "      <td>NaN</td>\n",
       "      <td>NaN</td>\n",
       "      <td>NaN</td>\n",
       "      <td>NaN</td>\n",
       "      <td>NaN</td>\n",
       "      <td>NaN</td>\n",
       "      <td>NaN</td>\n",
       "    </tr>\n",
       "    <tr>\n",
       "      <th>405344</th>\n",
       "      <td>2018-05-06 19:53:09</td>\n",
       "      <td>conversion</td>\n",
       "      <td>fff2bdde</td>\n",
       "      <td>NaN</td>\n",
       "      <td>9398.0</td>\n",
       "      <td>Samsung Galaxy A5 2016</td>\n",
       "      <td>Bom</td>\n",
       "      <td>16GB</td>\n",
       "      <td>Preto</td>\n",
       "      <td>NaN</td>\n",
       "      <td>...</td>\n",
       "      <td>NaN</td>\n",
       "      <td>NaN</td>\n",
       "      <td>NaN</td>\n",
       "      <td>NaN</td>\n",
       "      <td>NaN</td>\n",
       "      <td>NaN</td>\n",
       "      <td>NaN</td>\n",
       "      <td>NaN</td>\n",
       "      <td>NaN</td>\n",
       "      <td>NaN</td>\n",
       "    </tr>\n",
       "    <tr>\n",
       "      <th>2168638</th>\n",
       "      <td>2018-05-18 19:35:38</td>\n",
       "      <td>visited site</td>\n",
       "      <td>fff54d61</td>\n",
       "      <td>NaN</td>\n",
       "      <td>NaN</td>\n",
       "      <td>NaN</td>\n",
       "      <td>NaN</td>\n",
       "      <td>NaN</td>\n",
       "      <td>NaN</td>\n",
       "      <td>NaN</td>\n",
       "      <td>...</td>\n",
       "      <td>NaN</td>\n",
       "      <td>Organic</td>\n",
       "      <td>New</td>\n",
       "      <td>Unknown</td>\n",
       "      <td>Unknown</td>\n",
       "      <td>Brazil</td>\n",
       "      <td>Smartphone</td>\n",
       "      <td>360x640</td>\n",
       "      <td>Android 7</td>\n",
       "      <td>Chrome Mobile 66.0</td>\n",
       "    </tr>\n",
       "    <tr>\n",
       "      <th>131296</th>\n",
       "      <td>2018-05-18 19:35:38</td>\n",
       "      <td>search engine hit</td>\n",
       "      <td>fff54d61</td>\n",
       "      <td>NaN</td>\n",
       "      <td>NaN</td>\n",
       "      <td>NaN</td>\n",
       "      <td>NaN</td>\n",
       "      <td>NaN</td>\n",
       "      <td>NaN</td>\n",
       "      <td>NaN</td>\n",
       "      <td>...</td>\n",
       "      <td>Google</td>\n",
       "      <td>NaN</td>\n",
       "      <td>NaN</td>\n",
       "      <td>NaN</td>\n",
       "      <td>NaN</td>\n",
       "      <td>NaN</td>\n",
       "      <td>NaN</td>\n",
       "      <td>NaN</td>\n",
       "      <td>NaN</td>\n",
       "      <td>NaN</td>\n",
       "    </tr>\n",
       "    <tr>\n",
       "      <th>79836</th>\n",
       "      <td>2018-05-15 20:02:32</td>\n",
       "      <td>staticpage</td>\n",
       "      <td>fff72025</td>\n",
       "      <td>NaN</td>\n",
       "      <td>NaN</td>\n",
       "      <td>NaN</td>\n",
       "      <td>NaN</td>\n",
       "      <td>NaN</td>\n",
       "      <td>NaN</td>\n",
       "      <td>NaN</td>\n",
       "      <td>...</td>\n",
       "      <td>NaN</td>\n",
       "      <td>NaN</td>\n",
       "      <td>NaN</td>\n",
       "      <td>NaN</td>\n",
       "      <td>NaN</td>\n",
       "      <td>NaN</td>\n",
       "      <td>NaN</td>\n",
       "      <td>NaN</td>\n",
       "      <td>NaN</td>\n",
       "      <td>NaN</td>\n",
       "    </tr>\n",
       "    <tr>\n",
       "      <th>1608318</th>\n",
       "      <td>2018-05-07 15:44:16</td>\n",
       "      <td>viewed product</td>\n",
       "      <td>fff72025</td>\n",
       "      <td>NaN</td>\n",
       "      <td>10798.0</td>\n",
       "      <td>Samsung Galaxy J5 2016 Metal</td>\n",
       "      <td>Bom</td>\n",
       "      <td>16GB</td>\n",
       "      <td>Branco</td>\n",
       "      <td>10798,10826,10812,6357,15385,6342,15370,6371</td>\n",
       "      <td>...</td>\n",
       "      <td>NaN</td>\n",
       "      <td>NaN</td>\n",
       "      <td>NaN</td>\n",
       "      <td>NaN</td>\n",
       "      <td>NaN</td>\n",
       "      <td>NaN</td>\n",
       "      <td>NaN</td>\n",
       "      <td>NaN</td>\n",
       "      <td>NaN</td>\n",
       "      <td>NaN</td>\n",
       "    </tr>\n",
       "    <tr>\n",
       "      <th>1608317</th>\n",
       "      <td>2018-05-07 15:43:30</td>\n",
       "      <td>searched products</td>\n",
       "      <td>fff72025</td>\n",
       "      <td>NaN</td>\n",
       "      <td>NaN</td>\n",
       "      <td>NaN</td>\n",
       "      <td>NaN</td>\n",
       "      <td>NaN</td>\n",
       "      <td>NaN</td>\n",
       "      <td>NaN</td>\n",
       "      <td>...</td>\n",
       "      <td>NaN</td>\n",
       "      <td>NaN</td>\n",
       "      <td>NaN</td>\n",
       "      <td>NaN</td>\n",
       "      <td>NaN</td>\n",
       "      <td>NaN</td>\n",
       "      <td>NaN</td>\n",
       "      <td>NaN</td>\n",
       "      <td>NaN</td>\n",
       "      <td>NaN</td>\n",
       "    </tr>\n",
       "    <tr>\n",
       "      <th>1608689</th>\n",
       "      <td>2018-05-07 19:26:27</td>\n",
       "      <td>viewed product</td>\n",
       "      <td>fff72025</td>\n",
       "      <td>NaN</td>\n",
       "      <td>3133.0</td>\n",
       "      <td>LG G3 D855</td>\n",
       "      <td>Excelente</td>\n",
       "      <td>16GB</td>\n",
       "      <td>Branco</td>\n",
       "      <td>NaN</td>\n",
       "      <td>...</td>\n",
       "      <td>NaN</td>\n",
       "      <td>NaN</td>\n",
       "      <td>NaN</td>\n",
       "      <td>NaN</td>\n",
       "      <td>NaN</td>\n",
       "      <td>NaN</td>\n",
       "      <td>NaN</td>\n",
       "      <td>NaN</td>\n",
       "      <td>NaN</td>\n",
       "      <td>NaN</td>\n",
       "    </tr>\n",
       "    <tr>\n",
       "      <th>69640</th>\n",
       "      <td>2018-05-15 20:09:35</td>\n",
       "      <td>search engine hit</td>\n",
       "      <td>fff72025</td>\n",
       "      <td>NaN</td>\n",
       "      <td>NaN</td>\n",
       "      <td>NaN</td>\n",
       "      <td>NaN</td>\n",
       "      <td>NaN</td>\n",
       "      <td>NaN</td>\n",
       "      <td>NaN</td>\n",
       "      <td>...</td>\n",
       "      <td>Google</td>\n",
       "      <td>NaN</td>\n",
       "      <td>NaN</td>\n",
       "      <td>NaN</td>\n",
       "      <td>NaN</td>\n",
       "      <td>NaN</td>\n",
       "      <td>NaN</td>\n",
       "      <td>NaN</td>\n",
       "      <td>NaN</td>\n",
       "      <td>NaN</td>\n",
       "    </tr>\n",
       "    <tr>\n",
       "      <th>18214</th>\n",
       "      <td>2018-05-15 21:58:43</td>\n",
       "      <td>ad campaign hit</td>\n",
       "      <td>fff78145</td>\n",
       "      <td>/comprar/samsung/galaxy-s8-plus</td>\n",
       "      <td>NaN</td>\n",
       "      <td>NaN</td>\n",
       "      <td>NaN</td>\n",
       "      <td>NaN</td>\n",
       "      <td>NaN</td>\n",
       "      <td>NaN</td>\n",
       "      <td>...</td>\n",
       "      <td>NaN</td>\n",
       "      <td>NaN</td>\n",
       "      <td>NaN</td>\n",
       "      <td>NaN</td>\n",
       "      <td>NaN</td>\n",
       "      <td>NaN</td>\n",
       "      <td>NaN</td>\n",
       "      <td>NaN</td>\n",
       "      <td>NaN</td>\n",
       "      <td>NaN</td>\n",
       "    </tr>\n",
       "    <tr>\n",
       "      <th>1204182</th>\n",
       "      <td>2018-05-16 22:16:20</td>\n",
       "      <td>viewed product</td>\n",
       "      <td>fff78145</td>\n",
       "      <td>NaN</td>\n",
       "      <td>10113.0</td>\n",
       "      <td>iPhone 7 Plus</td>\n",
       "      <td>Muito Bom</td>\n",
       "      <td>128GB</td>\n",
       "      <td>Preto Brilhante</td>\n",
       "      <td>NaN</td>\n",
       "      <td>...</td>\n",
       "      <td>NaN</td>\n",
       "      <td>NaN</td>\n",
       "      <td>NaN</td>\n",
       "      <td>NaN</td>\n",
       "      <td>NaN</td>\n",
       "      <td>NaN</td>\n",
       "      <td>NaN</td>\n",
       "      <td>NaN</td>\n",
       "      <td>NaN</td>\n",
       "      <td>NaN</td>\n",
       "    </tr>\n",
       "    <tr>\n",
       "      <th>18213</th>\n",
       "      <td>2018-05-15 21:58:46</td>\n",
       "      <td>viewed product</td>\n",
       "      <td>fff78145</td>\n",
       "      <td>NaN</td>\n",
       "      <td>13305.0</td>\n",
       "      <td>Samsung Galaxy S8 Plus</td>\n",
       "      <td>Muito Bom</td>\n",
       "      <td>64GB</td>\n",
       "      <td>Dourado</td>\n",
       "      <td>NaN</td>\n",
       "      <td>...</td>\n",
       "      <td>NaN</td>\n",
       "      <td>NaN</td>\n",
       "      <td>NaN</td>\n",
       "      <td>NaN</td>\n",
       "      <td>NaN</td>\n",
       "      <td>NaN</td>\n",
       "      <td>NaN</td>\n",
       "      <td>NaN</td>\n",
       "      <td>NaN</td>\n",
       "      <td>NaN</td>\n",
       "    </tr>\n",
       "    <tr>\n",
       "      <th>18215</th>\n",
       "      <td>2018-05-15 21:58:43</td>\n",
       "      <td>viewed product</td>\n",
       "      <td>fff78145</td>\n",
       "      <td>NaN</td>\n",
       "      <td>13304.0</td>\n",
       "      <td>Samsung Galaxy S8 Plus</td>\n",
       "      <td>Bom</td>\n",
       "      <td>64GB</td>\n",
       "      <td>Dourado</td>\n",
       "      <td>NaN</td>\n",
       "      <td>...</td>\n",
       "      <td>NaN</td>\n",
       "      <td>NaN</td>\n",
       "      <td>NaN</td>\n",
       "      <td>NaN</td>\n",
       "      <td>NaN</td>\n",
       "      <td>NaN</td>\n",
       "      <td>NaN</td>\n",
       "      <td>NaN</td>\n",
       "      <td>NaN</td>\n",
       "      <td>NaN</td>\n",
       "    </tr>\n",
       "    <tr>\n",
       "      <th>86248</th>\n",
       "      <td>2018-05-16 20:57:49</td>\n",
       "      <td>viewed product</td>\n",
       "      <td>fff78145</td>\n",
       "      <td>NaN</td>\n",
       "      <td>10239.0</td>\n",
       "      <td>iPhone 7 Plus</td>\n",
       "      <td>Muito Bom</td>\n",
       "      <td>128GB</td>\n",
       "      <td>Dourado</td>\n",
       "      <td>NaN</td>\n",
       "      <td>...</td>\n",
       "      <td>NaN</td>\n",
       "      <td>NaN</td>\n",
       "      <td>NaN</td>\n",
       "      <td>NaN</td>\n",
       "      <td>NaN</td>\n",
       "      <td>NaN</td>\n",
       "      <td>NaN</td>\n",
       "      <td>NaN</td>\n",
       "      <td>NaN</td>\n",
       "      <td>NaN</td>\n",
       "    </tr>\n",
       "    <tr>\n",
       "      <th>1463227</th>\n",
       "      <td>2018-05-17 22:23:45</td>\n",
       "      <td>viewed product</td>\n",
       "      <td>fffd1246</td>\n",
       "      <td>NaN</td>\n",
       "      <td>5907.0</td>\n",
       "      <td>iPhone 5s</td>\n",
       "      <td>Bom - Sem Touch ID</td>\n",
       "      <td>16GB</td>\n",
       "      <td>Cinza espacial</td>\n",
       "      <td>NaN</td>\n",
       "      <td>...</td>\n",
       "      <td>NaN</td>\n",
       "      <td>NaN</td>\n",
       "      <td>NaN</td>\n",
       "      <td>NaN</td>\n",
       "      <td>NaN</td>\n",
       "      <td>NaN</td>\n",
       "      <td>NaN</td>\n",
       "      <td>NaN</td>\n",
       "      <td>NaN</td>\n",
       "      <td>NaN</td>\n",
       "    </tr>\n",
       "    <tr>\n",
       "      <th>1504503</th>\n",
       "      <td>2018-05-17 22:24:29</td>\n",
       "      <td>checkout</td>\n",
       "      <td>fffd1246</td>\n",
       "      <td>NaN</td>\n",
       "      <td>6023.0</td>\n",
       "      <td>iPhone 5s</td>\n",
       "      <td>Bom - Sem Touch ID</td>\n",
       "      <td>16GB</td>\n",
       "      <td>Dourado</td>\n",
       "      <td>NaN</td>\n",
       "      <td>...</td>\n",
       "      <td>NaN</td>\n",
       "      <td>NaN</td>\n",
       "      <td>NaN</td>\n",
       "      <td>NaN</td>\n",
       "      <td>NaN</td>\n",
       "      <td>NaN</td>\n",
       "      <td>NaN</td>\n",
       "      <td>NaN</td>\n",
       "      <td>NaN</td>\n",
       "      <td>NaN</td>\n",
       "    </tr>\n",
       "    <tr>\n",
       "      <th>1516382</th>\n",
       "      <td>2018-05-17 22:22:39</td>\n",
       "      <td>viewed product</td>\n",
       "      <td>fffd1246</td>\n",
       "      <td>NaN</td>\n",
       "      <td>5907.0</td>\n",
       "      <td>iPhone 5s</td>\n",
       "      <td>Bom - Sem Touch ID</td>\n",
       "      <td>16GB</td>\n",
       "      <td>Cinza espacial</td>\n",
       "      <td>NaN</td>\n",
       "      <td>...</td>\n",
       "      <td>NaN</td>\n",
       "      <td>NaN</td>\n",
       "      <td>NaN</td>\n",
       "      <td>NaN</td>\n",
       "      <td>NaN</td>\n",
       "      <td>NaN</td>\n",
       "      <td>NaN</td>\n",
       "      <td>NaN</td>\n",
       "      <td>NaN</td>\n",
       "      <td>NaN</td>\n",
       "    </tr>\n",
       "    <tr>\n",
       "      <th>1462731</th>\n",
       "      <td>2018-05-17 22:22:16</td>\n",
       "      <td>viewed product</td>\n",
       "      <td>fffd1246</td>\n",
       "      <td>NaN</td>\n",
       "      <td>325.0</td>\n",
       "      <td>iPhone 5s</td>\n",
       "      <td>Muito Bom</td>\n",
       "      <td>64GB</td>\n",
       "      <td>Cinza espacial</td>\n",
       "      <td>NaN</td>\n",
       "      <td>...</td>\n",
       "      <td>NaN</td>\n",
       "      <td>NaN</td>\n",
       "      <td>NaN</td>\n",
       "      <td>NaN</td>\n",
       "      <td>NaN</td>\n",
       "      <td>NaN</td>\n",
       "      <td>NaN</td>\n",
       "      <td>NaN</td>\n",
       "      <td>NaN</td>\n",
       "      <td>NaN</td>\n",
       "    </tr>\n",
       "    <tr>\n",
       "      <th>2112023</th>\n",
       "      <td>2018-05-17 22:23:03</td>\n",
       "      <td>brand listing</td>\n",
       "      <td>fffd1246</td>\n",
       "      <td>NaN</td>\n",
       "      <td>NaN</td>\n",
       "      <td>NaN</td>\n",
       "      <td>NaN</td>\n",
       "      <td>NaN</td>\n",
       "      <td>NaN</td>\n",
       "      <td>6001,2694,6023,6253,2711,6011,6929,6243,5904,2...</td>\n",
       "      <td>...</td>\n",
       "      <td>NaN</td>\n",
       "      <td>NaN</td>\n",
       "      <td>NaN</td>\n",
       "      <td>NaN</td>\n",
       "      <td>NaN</td>\n",
       "      <td>NaN</td>\n",
       "      <td>NaN</td>\n",
       "      <td>NaN</td>\n",
       "      <td>NaN</td>\n",
       "      <td>NaN</td>\n",
       "    </tr>\n",
       "  </tbody>\n",
       "</table>\n",
       "<p>187018 rows × 23 columns</p>\n",
       "</div>"
      ],
      "text/plain": [
       "                  timestamp              event    person  \\\n",
       "1507286 2018-05-17 12:27:47           checkout  0008ed71   \n",
       "2336761 2018-05-17 16:21:54       visited site  0008ed71   \n",
       "2122051 2018-05-17 16:22:06    generic listing  0008ed71   \n",
       "1505383 2018-05-17 16:28:37           checkout  0008ed71   \n",
       "2336760 2018-05-17 13:44:59       visited site  0008ed71   \n",
       "227610  2018-05-23 01:09:18    ad campaign hit  00091926   \n",
       "244622  2018-05-17 00:56:34     viewed product  00091926   \n",
       "175432  2018-05-31 02:33:58     viewed product  00091926   \n",
       "244443  2018-05-17 01:13:22     viewed product  00091926   \n",
       "252233  2018-05-07 00:37:12     viewed product  00091926   \n",
       "1912555 2018-03-26 14:56:30      brand listing  00091a7a   \n",
       "1912552 2018-03-26 14:51:11      brand listing  00091a7a   \n",
       "1912556 2018-03-26 14:56:58      brand listing  00091a7a   \n",
       "1912554 2018-03-26 14:55:17      brand listing  00091a7a   \n",
       "630080  2018-03-26 14:56:25     viewed product  00091a7a   \n",
       "849148  2018-05-24 17:10:11     viewed product  000ba417   \n",
       "1934403 2018-05-26 12:22:49      brand listing  000ba417   \n",
       "1934402 2018-05-26 12:22:46    generic listing  000ba417   \n",
       "847361  2018-05-24 16:21:58     viewed product  000ba417   \n",
       "1934246 2018-05-24 16:15:15      brand listing  000ba417   \n",
       "57876   2018-05-29 00:35:47     viewed product  000c79fe   \n",
       "63117   2018-05-29 00:36:50  searched products  000c79fe   \n",
       "62823   2018-05-29 00:38:07  searched products  000c79fe   \n",
       "57880   2018-05-29 00:36:48     viewed product  000c79fe   \n",
       "61644   2018-05-29 00:29:03  searched products  000c79fe   \n",
       "2173016 2018-05-16 11:54:55       visited site  000e4d9e   \n",
       "2173017 2018-05-16 14:35:25       visited site  000e4d9e   \n",
       "2173022 2018-05-24 18:04:47       visited site  000e4d9e   \n",
       "1824054 2018-05-16 13:11:21    generic listing  000e4d9e   \n",
       "2173021 2018-05-23 15:34:49       visited site  000e4d9e   \n",
       "...                     ...                ...       ...   \n",
       "528200  2018-05-28 14:59:23     viewed product  fff1b11a   \n",
       "528566  2018-05-28 15:01:55     viewed product  fff1b11a   \n",
       "528204  2018-05-28 14:59:40     viewed product  fff1b11a   \n",
       "528565  2018-05-28 15:01:50     viewed product  fff1b11a   \n",
       "2335592 2018-05-22 17:47:26       visited site  fff1caee   \n",
       "1455715 2018-05-22 17:47:26    ad campaign hit  fff1caee   \n",
       "1455815 2018-05-22 17:47:42           checkout  fff1caee   \n",
       "1455814 2018-05-22 17:47:26     viewed product  fff1caee   \n",
       "581485  2018-05-09 01:00:57  search engine hit  fff2bdde   \n",
       "612891  2018-05-17 22:40:51     viewed product  fff2bdde   \n",
       "2234068 2018-05-06 19:32:35       visited site  fff2bdde   \n",
       "404920  2018-05-06 20:14:08     viewed product  fff2bdde   \n",
       "405344  2018-05-06 19:53:09         conversion  fff2bdde   \n",
       "2168638 2018-05-18 19:35:38       visited site  fff54d61   \n",
       "131296  2018-05-18 19:35:38  search engine hit  fff54d61   \n",
       "79836   2018-05-15 20:02:32         staticpage  fff72025   \n",
       "1608318 2018-05-07 15:44:16     viewed product  fff72025   \n",
       "1608317 2018-05-07 15:43:30  searched products  fff72025   \n",
       "1608689 2018-05-07 19:26:27     viewed product  fff72025   \n",
       "69640   2018-05-15 20:09:35  search engine hit  fff72025   \n",
       "18214   2018-05-15 21:58:43    ad campaign hit  fff78145   \n",
       "1204182 2018-05-16 22:16:20     viewed product  fff78145   \n",
       "18213   2018-05-15 21:58:46     viewed product  fff78145   \n",
       "18215   2018-05-15 21:58:43     viewed product  fff78145   \n",
       "86248   2018-05-16 20:57:49     viewed product  fff78145   \n",
       "1463227 2018-05-17 22:23:45     viewed product  fffd1246   \n",
       "1504503 2018-05-17 22:24:29           checkout  fffd1246   \n",
       "1516382 2018-05-17 22:22:39     viewed product  fffd1246   \n",
       "1462731 2018-05-17 22:22:16     viewed product  fffd1246   \n",
       "2112023 2018-05-17 22:23:03      brand listing  fffd1246   \n",
       "\n",
       "                                     url      sku  \\\n",
       "1507286                              NaN   3372.0   \n",
       "2336761                              NaN      NaN   \n",
       "2122051                              NaN      NaN   \n",
       "1505383                              NaN   7505.0   \n",
       "2336760                              NaN      NaN   \n",
       "227610                /comprar/iphone/6s      NaN   \n",
       "244622                               NaN  10309.0   \n",
       "175432                               NaN   6846.0   \n",
       "244443                               NaN   1389.0   \n",
       "252233                               NaN  10910.0   \n",
       "1912555                              NaN      NaN   \n",
       "1912552                              NaN      NaN   \n",
       "1912556                              NaN      NaN   \n",
       "1912554                              NaN      NaN   \n",
       "630080                               NaN   8261.0   \n",
       "849148                               NaN  10939.0   \n",
       "1934403                              NaN      NaN   \n",
       "1934402                              NaN      NaN   \n",
       "847361                               NaN   6357.0   \n",
       "1934246                              NaN      NaN   \n",
       "57876                                NaN   9944.0   \n",
       "63117                                NaN      NaN   \n",
       "62823                                NaN      NaN   \n",
       "57880                                NaN   9944.0   \n",
       "61644                                NaN      NaN   \n",
       "2173016                              NaN      NaN   \n",
       "2173017                              NaN      NaN   \n",
       "2173022                              NaN      NaN   \n",
       "1824054                              NaN      NaN   \n",
       "2173021                              NaN      NaN   \n",
       "...                                  ...      ...   \n",
       "528200                               NaN  12774.0   \n",
       "528566                               NaN  10338.0   \n",
       "528204                               NaN  12772.0   \n",
       "528565                               NaN  15804.0   \n",
       "2335592                              NaN      NaN   \n",
       "1455715             /comprar/lg/lg-g5-se      NaN   \n",
       "1455815                              NaN  10533.0   \n",
       "1455814                              NaN  10533.0   \n",
       "581485                               NaN      NaN   \n",
       "612891                               NaN   3181.0   \n",
       "2234068                              NaN      NaN   \n",
       "404920                               NaN  10940.0   \n",
       "405344                               NaN   9398.0   \n",
       "2168638                              NaN      NaN   \n",
       "131296                               NaN      NaN   \n",
       "79836                                NaN      NaN   \n",
       "1608318                              NaN  10798.0   \n",
       "1608317                              NaN      NaN   \n",
       "1608689                              NaN   3133.0   \n",
       "69640                                NaN      NaN   \n",
       "18214    /comprar/samsung/galaxy-s8-plus      NaN   \n",
       "1204182                              NaN  10113.0   \n",
       "18213                                NaN  13305.0   \n",
       "18215                                NaN  13304.0   \n",
       "86248                                NaN  10239.0   \n",
       "1463227                              NaN   5907.0   \n",
       "1504503                              NaN   6023.0   \n",
       "1516382                              NaN   5907.0   \n",
       "1462731                              NaN    325.0   \n",
       "2112023                              NaN      NaN   \n",
       "\n",
       "                                model           condition storage  \\\n",
       "1507286        Samsung Galaxy S6 Flat           Muito Bom    32GB   \n",
       "2336761                           NaN                 NaN     NaN   \n",
       "2122051                           NaN                 NaN     NaN   \n",
       "1505383                   LG G4 H818P                 Bom    32GB   \n",
       "2336760                           NaN                 NaN     NaN   \n",
       "227610                            NaN                 NaN     NaN   \n",
       "244622                  iPhone 7 Plus           Muito Bom   256GB   \n",
       "175432                      iPhone 6S           Muito Bom    16GB   \n",
       "244443                  iPhone 6 Plus           Excelente    16GB   \n",
       "252233         Samsung Galaxy A7 2017                 Bom    32GB   \n",
       "1912555                           NaN                 NaN     NaN   \n",
       "1912552                           NaN                 NaN     NaN   \n",
       "1912556                           NaN                 NaN     NaN   \n",
       "1912554                           NaN                 NaN     NaN   \n",
       "630080                      iPhone SE                 Bom    64GB   \n",
       "849148         Samsung Galaxy A5 2017           Muito Bom    32GB   \n",
       "1934403                           NaN                 NaN     NaN   \n",
       "1934402                           NaN                 NaN     NaN   \n",
       "847361              Samsung Galaxy J5                 Bom    16GB   \n",
       "1934246                           NaN                 NaN     NaN   \n",
       "57876                        iPhone 7                 Bom   128GB   \n",
       "63117                             NaN                 NaN     NaN   \n",
       "62823                             NaN                 NaN     NaN   \n",
       "57880                        iPhone 7                 Bom   128GB   \n",
       "61644                             NaN                 NaN     NaN   \n",
       "2173016                           NaN                 NaN     NaN   \n",
       "2173017                           NaN                 NaN     NaN   \n",
       "2173022                           NaN                 NaN     NaN   \n",
       "1824054                           NaN                 NaN     NaN   \n",
       "2173021                           NaN                 NaN     NaN   \n",
       "...                               ...                 ...     ...   \n",
       "528200         Samsung Galaxy S8 Plus           Excelente    64GB   \n",
       "528566                  iPhone 7 Plus           Excelente    32GB   \n",
       "528204         Samsung Galaxy S8 Plus                 Bom    64GB   \n",
       "528565                       iPhone X           Muito Bom   256GB   \n",
       "2335592                           NaN                 NaN     NaN   \n",
       "1455715                           NaN                 NaN     NaN   \n",
       "1455815                      LG G5 SE           Muito Bom    32GB   \n",
       "1455814                      LG G5 SE           Muito Bom    32GB   \n",
       "581485                            NaN                 NaN     NaN   \n",
       "612891              Samsung Galaxy A5           Excelente    16GB   \n",
       "2234068                           NaN                 NaN     NaN   \n",
       "404920         Samsung Galaxy A5 2017           Excelente    32GB   \n",
       "405344         Samsung Galaxy A5 2016                 Bom    16GB   \n",
       "2168638                           NaN                 NaN     NaN   \n",
       "131296                            NaN                 NaN     NaN   \n",
       "79836                             NaN                 NaN     NaN   \n",
       "1608318  Samsung Galaxy J5 2016 Metal                 Bom    16GB   \n",
       "1608317                           NaN                 NaN     NaN   \n",
       "1608689                    LG G3 D855           Excelente    16GB   \n",
       "69640                             NaN                 NaN     NaN   \n",
       "18214                             NaN                 NaN     NaN   \n",
       "1204182                 iPhone 7 Plus           Muito Bom   128GB   \n",
       "18213          Samsung Galaxy S8 Plus           Muito Bom    64GB   \n",
       "18215          Samsung Galaxy S8 Plus                 Bom    64GB   \n",
       "86248                   iPhone 7 Plus           Muito Bom   128GB   \n",
       "1463227                     iPhone 5s  Bom - Sem Touch ID    16GB   \n",
       "1504503                     iPhone 5s  Bom - Sem Touch ID    16GB   \n",
       "1516382                     iPhone 5s  Bom - Sem Touch ID    16GB   \n",
       "1462731                     iPhone 5s           Muito Bom    64GB   \n",
       "2112023                           NaN                 NaN     NaN   \n",
       "\n",
       "                   color                                               skus  \\\n",
       "1507286          Dourado                                                NaN   \n",
       "2336761              NaN                                                NaN   \n",
       "2122051              NaN  6594,6651,6664,7253,2820,6706,6721,12606,480,1...   \n",
       "1505383            Preto                                                NaN   \n",
       "2336760              NaN                                                NaN   \n",
       "227610               NaN                                                NaN   \n",
       "244622         Ouro Rosa                                                NaN   \n",
       "175432           Dourado                                                NaN   \n",
       "244443           Dourado                                                NaN   \n",
       "252233              Rosa                                                NaN   \n",
       "1912555              NaN  10323,3659,87,10308,10085,10113,276,8261,81,99...   \n",
       "1912552              NaN  8261,10323,3659,87,10308,10085,9987,10113,81,9...   \n",
       "1912556              NaN  10323,3659,87,10308,10085,10113,276,8261,81,99...   \n",
       "1912554              NaN  10323,3659,87,10308,10085,10113,276,8261,81,99...   \n",
       "630080         Ouro Rosa                                                NaN   \n",
       "849148             Preto                                                NaN   \n",
       "1934403              NaN  6370,6357,3371,2777,2718,10896,6413,3191,6791,...   \n",
       "1934402              NaN  2820,6705,2750,6720,6649,7252,12604,12620,7224...   \n",
       "847361             Preto                                                NaN   \n",
       "1934246              NaN  6357,3371,6371,2777,2718,10897,3191,6413,6791,...   \n",
       "57876        Preto Matte                                                NaN   \n",
       "63117                NaN  6371,6357,3371,2777,2718,6413,10896,3191,6248,...   \n",
       "62823                NaN          12730,15338,12758,12744,12786,12772,12800   \n",
       "57880        Preto Matte                                                NaN   \n",
       "61644                NaN  9931,9944,9902,9988,10084,9973,10322,10254,158...   \n",
       "2173016              NaN                                                NaN   \n",
       "2173017              NaN                                                NaN   \n",
       "2173022              NaN                                                NaN   \n",
       "1824054              NaN  6594,7251,2820,6721,2750,2774,2773,2813,1075,7...   \n",
       "2173021              NaN                                                NaN   \n",
       "...                  ...                                                ...   \n",
       "528200             Preto                                                NaN   \n",
       "528566         Ouro Rosa                                                NaN   \n",
       "528204             Preto                                                NaN   \n",
       "528565          Prateado                                                NaN   \n",
       "2335592              NaN                                                NaN   \n",
       "1455715              NaN                                                NaN   \n",
       "1455815             Rosa                                                NaN   \n",
       "1455814             Rosa                                                NaN   \n",
       "581485               NaN                                                NaN   \n",
       "612891             Preto                                                NaN   \n",
       "2234068              NaN                                                NaN   \n",
       "404920             Preto                                                NaN   \n",
       "405344             Preto                                                NaN   \n",
       "2168638              NaN                                                NaN   \n",
       "131296               NaN                                                NaN   \n",
       "79836                NaN                                                NaN   \n",
       "1608318           Branco       10798,10826,10812,6357,15385,6342,15370,6371   \n",
       "1608317              NaN                                                NaN   \n",
       "1608689           Branco                                                NaN   \n",
       "69640                NaN                                                NaN   \n",
       "18214                NaN                                                NaN   \n",
       "1204182  Preto Brilhante                                                NaN   \n",
       "18213            Dourado                                                NaN   \n",
       "18215            Dourado                                                NaN   \n",
       "86248            Dourado                                                NaN   \n",
       "1463227   Cinza espacial                                                NaN   \n",
       "1504503          Dourado                                                NaN   \n",
       "1516382   Cinza espacial                                                NaN   \n",
       "1462731   Cinza espacial                                                NaN   \n",
       "2112023              NaN  6001,2694,6023,6253,2711,6011,6929,6243,5904,2...   \n",
       "\n",
       "                ...         search_engine   channel new_vs_returning     city  \\\n",
       "1507286         ...                   NaN       NaN              NaN      NaN   \n",
       "2336761         ...                   NaN  Referral        Returning  Unknown   \n",
       "2122051         ...                   NaN       NaN              NaN      NaN   \n",
       "1505383         ...                   NaN       NaN              NaN      NaN   \n",
       "2336760         ...                   NaN  Referral              New  Unknown   \n",
       "227610          ...                   NaN       NaN              NaN      NaN   \n",
       "244622          ...                   NaN       NaN              NaN      NaN   \n",
       "175432          ...                   NaN       NaN              NaN      NaN   \n",
       "244443          ...                   NaN       NaN              NaN      NaN   \n",
       "252233          ...                   NaN       NaN              NaN      NaN   \n",
       "1912555         ...                   NaN       NaN              NaN      NaN   \n",
       "1912552         ...                   NaN       NaN              NaN      NaN   \n",
       "1912556         ...                   NaN       NaN              NaN      NaN   \n",
       "1912554         ...                   NaN       NaN              NaN      NaN   \n",
       "630080          ...                   NaN       NaN              NaN      NaN   \n",
       "849148          ...                   NaN       NaN              NaN      NaN   \n",
       "1934403         ...                   NaN       NaN              NaN      NaN   \n",
       "1934402         ...                   NaN       NaN              NaN      NaN   \n",
       "847361          ...                   NaN       NaN              NaN      NaN   \n",
       "1934246         ...                   NaN       NaN              NaN      NaN   \n",
       "57876           ...                   NaN       NaN              NaN      NaN   \n",
       "63117           ...                   NaN       NaN              NaN      NaN   \n",
       "62823           ...                   NaN       NaN              NaN      NaN   \n",
       "57880           ...                   NaN       NaN              NaN      NaN   \n",
       "61644           ...                   NaN       NaN              NaN      NaN   \n",
       "2173016         ...                   NaN   Organic              New  Igarape   \n",
       "2173017         ...                   NaN  Referral        Returning  Igarape   \n",
       "2173022         ...                   NaN    Direct        Returning  Igarape   \n",
       "1824054         ...                   NaN       NaN              NaN      NaN   \n",
       "2173021         ...                   NaN    Direct        Returning  Igarape   \n",
       "...             ...                   ...       ...              ...      ...   \n",
       "528200          ...                   NaN       NaN              NaN      NaN   \n",
       "528566          ...                   NaN       NaN              NaN      NaN   \n",
       "528204          ...                   NaN       NaN              NaN      NaN   \n",
       "528565          ...                   NaN       NaN              NaN      NaN   \n",
       "2335592         ...                   NaN      Paid              New  Unknown   \n",
       "1455715         ...                   NaN       NaN              NaN      NaN   \n",
       "1455815         ...                   NaN       NaN              NaN      NaN   \n",
       "1455814         ...                   NaN       NaN              NaN      NaN   \n",
       "581485          ...                Google       NaN              NaN      NaN   \n",
       "612891          ...                   NaN       NaN              NaN      NaN   \n",
       "2234068         ...                   NaN    Social              New   Manaus   \n",
       "404920          ...                   NaN       NaN              NaN      NaN   \n",
       "405344          ...                   NaN       NaN              NaN      NaN   \n",
       "2168638         ...                   NaN   Organic              New  Unknown   \n",
       "131296          ...                Google       NaN              NaN      NaN   \n",
       "79836           ...                   NaN       NaN              NaN      NaN   \n",
       "1608318         ...                   NaN       NaN              NaN      NaN   \n",
       "1608317         ...                   NaN       NaN              NaN      NaN   \n",
       "1608689         ...                   NaN       NaN              NaN      NaN   \n",
       "69640           ...                Google       NaN              NaN      NaN   \n",
       "18214           ...                   NaN       NaN              NaN      NaN   \n",
       "1204182         ...                   NaN       NaN              NaN      NaN   \n",
       "18213           ...                   NaN       NaN              NaN      NaN   \n",
       "18215           ...                   NaN       NaN              NaN      NaN   \n",
       "86248           ...                   NaN       NaN              NaN      NaN   \n",
       "1463227         ...                   NaN       NaN              NaN      NaN   \n",
       "1504503         ...                   NaN       NaN              NaN      NaN   \n",
       "1516382         ...                   NaN       NaN              NaN      NaN   \n",
       "1462731         ...                   NaN       NaN              NaN      NaN   \n",
       "2112023         ...                   NaN       NaN              NaN      NaN   \n",
       "\n",
       "               region country device_type screen_resolution  \\\n",
       "1507286           NaN     NaN         NaN               NaN   \n",
       "2336761       Unknown  Brazil    Computer         1920x1080   \n",
       "2122051           NaN     NaN         NaN               NaN   \n",
       "1505383           NaN     NaN         NaN               NaN   \n",
       "2336760       Unknown  Brazil    Computer         1920x1080   \n",
       "227610            NaN     NaN         NaN               NaN   \n",
       "244622            NaN     NaN         NaN               NaN   \n",
       "175432            NaN     NaN         NaN               NaN   \n",
       "244443            NaN     NaN         NaN               NaN   \n",
       "252233            NaN     NaN         NaN               NaN   \n",
       "1912555           NaN     NaN         NaN               NaN   \n",
       "1912552           NaN     NaN         NaN               NaN   \n",
       "1912556           NaN     NaN         NaN               NaN   \n",
       "1912554           NaN     NaN         NaN               NaN   \n",
       "630080            NaN     NaN         NaN               NaN   \n",
       "849148            NaN     NaN         NaN               NaN   \n",
       "1934403           NaN     NaN         NaN               NaN   \n",
       "1934402           NaN     NaN         NaN               NaN   \n",
       "847361            NaN     NaN         NaN               NaN   \n",
       "1934246           NaN     NaN         NaN               NaN   \n",
       "57876             NaN     NaN         NaN               NaN   \n",
       "63117             NaN     NaN         NaN               NaN   \n",
       "62823             NaN     NaN         NaN               NaN   \n",
       "57880             NaN     NaN         NaN               NaN   \n",
       "61644             NaN     NaN         NaN               NaN   \n",
       "2173016  Minas Gerais  Brazil    Computer          1536x864   \n",
       "2173017  Minas Gerais  Brazil    Computer          1536x864   \n",
       "2173022  Minas Gerais  Brazil    Computer          1536x864   \n",
       "1824054           NaN     NaN         NaN               NaN   \n",
       "2173021  Minas Gerais  Brazil    Computer          1536x864   \n",
       "...               ...     ...         ...               ...   \n",
       "528200            NaN     NaN         NaN               NaN   \n",
       "528566            NaN     NaN         NaN               NaN   \n",
       "528204            NaN     NaN         NaN               NaN   \n",
       "528565            NaN     NaN         NaN               NaN   \n",
       "2335592       Unknown  Brazil  Smartphone           320x534   \n",
       "1455715           NaN     NaN         NaN               NaN   \n",
       "1455815           NaN     NaN         NaN               NaN   \n",
       "1455814           NaN     NaN         NaN               NaN   \n",
       "581485            NaN     NaN         NaN               NaN   \n",
       "612891            NaN     NaN         NaN               NaN   \n",
       "2234068      Amazonas  Brazil  Smartphone           320x534   \n",
       "404920            NaN     NaN         NaN               NaN   \n",
       "405344            NaN     NaN         NaN               NaN   \n",
       "2168638       Unknown  Brazil  Smartphone           360x640   \n",
       "131296            NaN     NaN         NaN               NaN   \n",
       "79836             NaN     NaN         NaN               NaN   \n",
       "1608318           NaN     NaN         NaN               NaN   \n",
       "1608317           NaN     NaN         NaN               NaN   \n",
       "1608689           NaN     NaN         NaN               NaN   \n",
       "69640             NaN     NaN         NaN               NaN   \n",
       "18214             NaN     NaN         NaN               NaN   \n",
       "1204182           NaN     NaN         NaN               NaN   \n",
       "18213             NaN     NaN         NaN               NaN   \n",
       "18215             NaN     NaN         NaN               NaN   \n",
       "86248             NaN     NaN         NaN               NaN   \n",
       "1463227           NaN     NaN         NaN               NaN   \n",
       "1504503           NaN     NaN         NaN               NaN   \n",
       "1516382           NaN     NaN         NaN               NaN   \n",
       "1462731           NaN     NaN         NaN               NaN   \n",
       "2112023           NaN     NaN         NaN               NaN   \n",
       "\n",
       "        operating_system_version     browser_version  \n",
       "1507286                      NaN                 NaN  \n",
       "2336761              Windows 10          Chrome 66.0  \n",
       "2122051                      NaN                 NaN  \n",
       "1505383                      NaN                 NaN  \n",
       "2336760              Windows 10          Chrome 66.0  \n",
       "227610                       NaN                 NaN  \n",
       "244622                       NaN                 NaN  \n",
       "175432                       NaN                 NaN  \n",
       "244443                       NaN                 NaN  \n",
       "252233                       NaN                 NaN  \n",
       "1912555                      NaN                 NaN  \n",
       "1912552                      NaN                 NaN  \n",
       "1912556                      NaN                 NaN  \n",
       "1912554                      NaN                 NaN  \n",
       "630080                       NaN                 NaN  \n",
       "849148                       NaN                 NaN  \n",
       "1934403                      NaN                 NaN  \n",
       "1934402                      NaN                 NaN  \n",
       "847361                       NaN                 NaN  \n",
       "1934246                      NaN                 NaN  \n",
       "57876                        NaN                 NaN  \n",
       "63117                        NaN                 NaN  \n",
       "62823                        NaN                 NaN  \n",
       "57880                        NaN                 NaN  \n",
       "61644                        NaN                 NaN  \n",
       "2173016              Windows 10          Chrome 67.0  \n",
       "2173017              Windows 10          Chrome 67.0  \n",
       "2173022              Windows 10          Chrome 67.0  \n",
       "1824054                      NaN                 NaN  \n",
       "2173021              Windows 10          Chrome 67.0  \n",
       "...                          ...                 ...  \n",
       "528200                       NaN                 NaN  \n",
       "528566                       NaN                 NaN  \n",
       "528204                       NaN                 NaN  \n",
       "528565                       NaN                 NaN  \n",
       "2335592                Android 6    Chrome Mobile 39  \n",
       "1455715                      NaN                 NaN  \n",
       "1455815                      NaN                 NaN  \n",
       "1455814                      NaN                 NaN  \n",
       "581485                       NaN                 NaN  \n",
       "612891                       NaN                 NaN  \n",
       "2234068              Android 4.3  Chrome Mobile 66.0  \n",
       "404920                       NaN                 NaN  \n",
       "405344                       NaN                 NaN  \n",
       "2168638                Android 7  Chrome Mobile 66.0  \n",
       "131296                       NaN                 NaN  \n",
       "79836                        NaN                 NaN  \n",
       "1608318                      NaN                 NaN  \n",
       "1608317                      NaN                 NaN  \n",
       "1608689                      NaN                 NaN  \n",
       "69640                        NaN                 NaN  \n",
       "18214                        NaN                 NaN  \n",
       "1204182                      NaN                 NaN  \n",
       "18213                        NaN                 NaN  \n",
       "18215                        NaN                 NaN  \n",
       "86248                        NaN                 NaN  \n",
       "1463227                      NaN                 NaN  \n",
       "1504503                      NaN                 NaN  \n",
       "1516382                      NaN                 NaN  \n",
       "1462731                      NaN                 NaN  \n",
       "2112023                      NaN                 NaN  \n",
       "\n",
       "[187018 rows x 23 columns]"
      ]
     },
     "execution_count": 54,
     "metadata": {},
     "output_type": "execute_result"
    }
   ],
   "source": [
    "# https://pandas.pydata.org/pandas-docs/stable/generated/pandas.core.groupby.GroupBy.apply.html\n",
    "# Ejecuto una función para cada grupo:\n",
    "grouped_input_train = input_train.groupby('person')\n",
    "grouped_input_train.head()"
   ]
  },
  {
   "cell_type": "code",
   "execution_count": 55,
   "metadata": {
    "collapsed": true
   },
   "outputs": [],
   "source": [
    "debugging = True"
   ]
  },
  {
   "cell_type": "code",
   "execution_count": 56,
   "metadata": {
    "_uuid": "620234f66a854afa743458e63796c11224ab16bd",
    "scrolled": true
   },
   "outputs": [
    {
     "name": "stdout",
     "output_type": "stream",
     "text": [
      "['Samsung Galaxy S6 Flat' nan 'LG G4 H818P' 'iPhone SE' 'iPhone 7 Plus'\n",
      " 'iPhone 6S' 'iPhone 6 Plus' 'Samsung Galaxy A7 2017' 'iPhone 6S Plus'\n",
      " 'iPhone 7']\n"
     ]
    }
   ],
   "source": [
    "if debugging == True:\n",
    "    print(input_train['model'].unique()[0:10])"
   ]
  },
  {
   "cell_type": "code",
   "execution_count": 57,
   "metadata": {
    "_uuid": "7521f4ebb7e5c25d3aee4adfcbefbaf301f491c3"
   },
   "outputs": [
    {
     "name": "stdout",
     "output_type": "stream",
     "text": [
      "[nan '/comprar/iphone/6s' '/comprar/samsung/galaxy-s6-edge-plus'\n",
      " '/comprar/iphone' '/comprar/iphone/7-plus' '/comprar/iphone/6-plus'\n",
      " '/comprar/iphone/iphone-6s-plus' '/comprar/samsung/galaxy-s7-edge'\n",
      " '/comprar/samsung/galaxy-s6-flat' '/comprar/samsung'\n",
      " '/comprar/samsung/galaxy-s8-plus' '/comprar/samsung/galaxy-s8'\n",
      " '/comprar/iphone/' '/comprar/samsung/a3-duos' '/'\n",
      " '/comprar/samsung/galaxy-s5' '/comprar/lg/g3-d855'\n",
      " '/comprar/iphone/iphone-se' '/comprar/samsung/samsung-gran-prime-duos-tv'\n",
      " '/comprar/samsung/galaxy-s7' '/comprar/samsung/galaxy-win-duos'\n",
      " '/comprar/motorola/moto-g-2a-geracao' '/comprar/iphone/iphone-5c'\n",
      " '/comprar/samsung/galaxy-j1-mini' '/comprar/samsung/galaxy-s4-mini-duos'\n",
      " '/comprar/motorola' '/comprar/samsung/galaxy-s5-duos' '/comprar/motorola/'\n",
      " '/comprar/samsung/galaxy-j7-prime' '/comprar/iphone/6'\n",
      " '/comprar/iphone/iphone-5s' '/comprar/motorola/moto-x-play-4g-dual'\n",
      " '/vender/' '/comprar/samsung/a5'\n",
      " '/comprar/samsung/galaxy-core-plus-duos-tv'\n",
      " '/comprar/samsung/samsung-galaxy-j2-4g-duos-tv'\n",
      " '/comprar/sony/xperia-z3-tv' '/comprar/iphone/iphone-5'\n",
      " '/comprar/samsung/galaxy-j7' '/comprar/asus/zenfone-2'\n",
      " '/comprar/samsung/gear-s2' '/comprar/samsung/galaxy-core-2-duos'\n",
      " '/comprar/samsung/galaxy-s6-edge' '/comprar/samsung/galaxy-j5'\n",
      " '/comprar/samsung/samsung-galaxy-j3' '/comprar/samsung/galaxy-e5-4g-duos'\n",
      " '/comprar/samsung/galaxy-s5-new-edition-duos'\n",
      " '/comprar/samsung/galaxy-j2-prime-tv' '/comprar/samsung/galaxy-a7-2017'\n",
      " '/comprar/samsung/galaxy-note-5' '/comprar/samsung/galaxy-j5-pro'\n",
      " '/comprar/apple/iphone-7-plus' '/comprar/iphone/7' '/comprar/lg/k10-novo'\n",
      " '/comprar/samsung/galaxy-note8' '/comprar/motorola/razr-i'\n",
      " '/comprar/lg/g3-stylus' '/comprar/motorola/moto-x-1a-geracao'\n",
      " '/comprar/motorola/moto-g5-plus' '/comprar/samsung/galaxy-a5-2017'\n",
      " '/comprar/samsung/galaxy-j7-2016-metal' '/comprar/samsung/galaxy-j5-prime'\n",
      " '/comprar/motorola/motorola-moto-g-3a-geracao'\n",
      " '/comprar/motorola/moto-g4-play-dtv' '/comprar/motorola/moto-g4-plus'\n",
      " '/comprar/ipad/ipad-mini-4-wifi' '/comprar/ipad/ipad-mini-wi-fi-4g'\n",
      " '/comprar/samsung/galaxy-note-4' '/comprar/lg/lg-g5-se'\n",
      " '/comprar/lg/lg-x-screen' '/comprar/iphone/iphone-4g'\n",
      " '/comprar/samsung/galaxy-j5-2016-metal' '/comprar/samsung/galaxy-a7-2016'\n",
      " '/comprar/iphone/iphone-4s' '/comprar/sony/xperia-z2'\n",
      " '/comprar/sony/sony-z3-compact' '/comprar/lg/g4-beat-h736'\n",
      " '/comprar/sony/xperia-z3-plus' '/comprar/sony/xperia-m4-aqua-dual'\n",
      " '/comprar/samsung/a7' '/comprar/samsung/' '/comprar/lenovo/vibe-k5'\n",
      " '/comprar/motorola/motorola-moto-g-2a-geracao-4g-dual'\n",
      " '/comprar/samsung/galaxy-grand-duos-i9082'\n",
      " '/comprar/samsung/galaxy-s4-i9505' '/comprar/samsung/galaxy-s4-mini'\n",
      " '/comprar/motorola/moto-g5' '/comprar/lg/g4-h818p'\n",
      " '/comprar/quantum/go-4g' '/comprar/samsung/galaxy-s3-i9300'\n",
      " '/comprar/samsung/galaxy-s4-i9500' '/comprar/motorola/moto-x-2a-geracao'\n",
      " '/comprar/asus/zenfone-5' '/comprar/samsung/galaxy-s4-i9515'\n",
      " '/comprar/samsung/galaxy-s3-mini' '/comprar/asus/zenfone-6'\n",
      " '/comprar/samsung/galaxy-gran-neo-duos'\n",
      " '/comprar/samsung/galaxy-win-2-duos-tv' '/comprar/motorola/moto-z2-play'\n",
      " '/comprar/motorola/moto-x-force' '/comprar/lg/lg-k10'\n",
      " '/comprar/lg/l-prime-d337' '/comprar/samsung/galaxy-j1-2016'\n",
      " '/comprar/motorola/moto-z' '/comprar/samsung/galaxy-s5-mini-duos'\n",
      " '/comprar/motorola/moto-maxx-2a-geracao'\n",
      " '/comprar/samsung/galaxy-note-4-edge' '/comprar/motorola/moto-x-style'\n",
      " '/comprar/samsung/galaxy-gran-prime-3g-duos' '/comprar/lg/prime-plus-h522'\n",
      " '/comprar/iphone/iphone-x' '/comprar/samsung/galaxy-a5-2016'\n",
      " '/comprar/lg/g3-beat-d724' '/comprar/samsung/galaxy-note-3'\n",
      " '/comprar/motorola/moto-g4-dtv' '/comprar/quantum/you' '/comprar/lg/lg-k8'\n",
      " '/comprar/motorola/moto-g4-play'\n",
      " '/comprar/motorola/moto-e-2a-geracao-4g-dual'\n",
      " '/comprar/samsung/samsung-galaxy-j2-4g-duos'\n",
      " '/comprar/samsung/galaxy-gan-2-duos-tv'\n",
      " '/comprar/samsung/galaxy-a9-pro-2016' '/comprar/sony/xperia-z3-dual'\n",
      " '/comprar/motorola/moto-z-play' '/comprar/sony/xperia-z-ultra/'\n",
      " '/comprar/samsung/galaxy-a3-2016' '/comprar/samsung/galaxy-on-7'\n",
      " '/comprar/motorola/moto-x' '/comprar/samsung/galaxy-s3-slim-duos'\n",
      " '/comprar/asus/zenfone-3-max-16gb'\n",
      " '/comprar/samsung/galaxy-grand-duos-i9082/'\n",
      " '/comprar/motorola/moto-e-2a-geracao-3g-dual'\n",
      " '/comprar/samsung/galaxy-note-ii-n7100' '/comprar/samsung/galaxy-y-duos'\n",
      " '/comprar/ipad/ipad-air-wi-fi' '/comprar/motorola/moto-g5s-plus'\n",
      " '/comprar/samsung/galaxy-s3-duos' '/comprar/motorola/moto-z-power-edition'\n",
      " '/comprar/sony/xperia-m4-aqua' '/comprar/lg/lg-g4-stylus-h630'\n",
      " '/comprar/samsung/galaxy-s5/' '/comprar/lenovo/vibe-a7010-dual-chip'\n",
      " '/comprar/ofertas/pre-venda-galaxy-s8'\n",
      " '/comprar/motorola/motorola-moto-g-3a-geracao-hdtv'\n",
      " '/comprar/motorola/moto-g5s'\n",
      " '/comprar/samsung/samsung-galaxy-note-3-neo-duos'\n",
      " '/comprar/motorola/moto-g1a-geracao' '/comprar/samsung/gran-prime-duos'\n",
      " '/comprar/samsung/galaxy-s5-new-edition'\n",
      " '/comprar/samsung/galaxy-gran-neo-plus-duos' '/comprar/samsung/e7'\n",
      " '/comprar/samsung/galaxy-note-4/' '/comprar/samsung/galaxy-j7-pro'\n",
      " '/vender/motorola/moto-g5-plus' '/comprar/iphone/iphone-5s/'\n",
      " '/vender/motorola/moto-z2-play' '/comprar/samsung/galaxy-mega/'\n",
      " '/comprar/samsung/galaxy-note-3/' '/comprar/lg'\n",
      " '/comprar/samsung/galaxy-tab-3-101-wifi-3g'\n",
      " '/comprar/sony/xperia-z5-premium' '/comprar/lg/lg-k-10'\n",
      " '/comprar/samsung/galaxy-s3-mini/' '/comprar/ipad/air-2-wifi'\n",
      " '/comprar/ipad/ipad-air-wi-fi-4g' '/comprar/iphone/iphone-8'\n",
      " '/vender/samsung/galaxy-s5' '/comprar/lg/g4-h815p' '/comprar/ipad/4-wi-fi'\n",
      " '/comprar/sony' '/comprar/asus/zenfone-2-deluxe'\n",
      " '/comprar/samsung/galaxy-tab-e-96-wifi' '/comprar/quantum/quantum-muv'\n",
      " '/comprar/samsung/galaxy-tab-a-com-spen-8-wifi-4g'\n",
      " '/comprar/quantum/quantum-muv-pro' '/comprar/sony/xperia-z3'\n",
      " '/comprar/ipad/ipad-air-2-4g' '/comprar/lg/lg-k4'\n",
      " '/comprar/samsung/galaxy-s7-neo' '/comprar/lenovo' '/comprar/list'\n",
      " '/comprar/samsung/galaxy-tab-s2-8-wifi-4g'\n",
      " '/comprar/samsung/galaxy-note-ii-n7100/' '/comprar/apple/iphone-6s-plus'\n",
      " '/comprar/samsung/galaxy-tab-s2-97-wifi-4g'\n",
      " '/comprar/asus/zenfone-3-max-32gb' '/comprar/lg/lg-x-power'\n",
      " '/comprar/ipad/ipad-mini-3-wi-fi-4g' '/comprar/lg/lg-g4-stylus-hdtv-h540t'\n",
      " '/vender/motorola/moto-g5s-plus' '/comprar/sony/xperia-z5'\n",
      " '/comprar/lg/lg-g2-mini-d618' '/comprar/samsung/galaxy-s5-mini'\n",
      " '/termos-e-condicoes' '/comprar/iphone/iphone-4s/' '/comprar/ipad/3-wi-fi'\n",
      " '/comprar/lg/lg-nexus-5-d821' '/comprar/lg/'\n",
      " '/comprar/ipad/ipad-mini-3-wi-fi' '/comprar/iphone/iphone-8-plus'\n",
      " '/comprar/ipad' '/comprar/samsung/galaxy-tab-e-7-wifi-3g'\n",
      " '/comprar/lg/lg-l90-dual-d410' '/comprar/sony/' '/comprar/lg/lg-l80-dual'\n",
      " '/politica-de-privacidade' '/comprar/ipad/ipad-mini-2-wi-fi'\n",
      " '/vender/motorola/motorola-moto-g-2a-geracao-4g-dual'\n",
      " '/comprar/lg/lg-l70-triple' '/vender/motorola/moto-x-play-4g-dual'\n",
      " '/vender/samsung/galaxy-s8' '/comprar/lg/lg-g-pro-lite-dual-d685'\n",
      " '/comprar/ipad/2-wi-fi-3g' '/comprar/samsung/galaxy-s4-mini-duos/'\n",
      " '/comprar/lg/g2' '/comprar/nokia'\n",
      " '/comprar/samsung/tablet-galaxy-tab-4-101-wifi-3g'\n",
      " '/comprar/lg/lg-g2-mini-d618-dual' '/comprar/samsung/galaxy-tab-e-7-wifi'\n",
      " '/comprar/motorola/motorola-moto-g-1a-geracao-4g'\n",
      " '/vender/motorola/moto-e-2a-geracao-4g-dual'\n",
      " '/comprar/samsung/galaxy-young-2-duos-tv' '/comprar/asus/zenfone-selfie'\n",
      " '/comprar/samsung/samsung-galaxy-s-3-neo-duos-i9300i'\n",
      " '/comprar/asus/zenfone-2-laser' '/comprar/asus/zenfone-go'\n",
      " '/comprar/samsung/galaxy-mega-duos' '/comprar/ipad/3-wi-fi-4g'\n",
      " '/vender/lg/g3-d855' '/comprar/quantum/muv-up' '/comprar/motorola/razr-d3'\n",
      " '/comprar/samsung/gear-fit-2-small' '/comprar/samsung/gear-fit-2-large'\n",
      " '/comprar/iphone/iphone-5/' '/vender/motorola/moto-maxx-2a-geracao'\n",
      " '/comprar/motorola/razr-hd' '/comprar/ipad/ipad-mini-wi-fi'\n",
      " '/comprar/motorola/razr-hd/' '/comprar/samsung/gear-s3-frontier' '/vender'\n",
      " '/comprar/lg/nexus-4' '/comprar/asus/asus-live' '/comprar/apple/iphone-7'\n",
      " '/comprar/motorola/moto-e-1a-geracao' '/comprar/samsung/galaxy-win-duos/'\n",
      " '/vender/lg/lg-l80-dual' '/comprar/ipad/ipad-mini-2-wi-fi-4g'\n",
      " '/comprar/samsung/galaxy-note-n7000' '/vender/lg/optimus-l7-ii']\n"
     ]
    }
   ],
   "source": [
    "if debugging == True:\n",
    "    print(input_train['url'].unique())"
   ]
  },
  {
   "cell_type": "code",
   "execution_count": 58,
   "metadata": {
    "_uuid": "37240c1c4e6016c0a9231043f8c48ea122ddb4ed"
   },
   "outputs": [
    {
     "name": "stdout",
     "output_type": "stream",
     "text": [
      "['32GB' nan '64GB' '256GB' '16GB' '128GB' '8GB' '4GB' '512MB']\n"
     ]
    }
   ],
   "source": [
    "if debugging == True:\n",
    "    print(input_train['storage'].unique())"
   ]
  },
  {
   "cell_type": "code",
   "execution_count": 59,
   "metadata": {
    "_uuid": "40e4bc0cc21a8f4e570e6538e5fdb1da0fd7ca52"
   },
   "outputs": [
    {
     "name": "stdout",
     "output_type": "stream",
     "text": [
      "['Dourado' nan 'Preto' 'Cinza espacial' 'Ouro Rosa' 'Rosa' 'Preto Matte'\n",
      " 'Prateado' 'Vermelho' 'Preto Brilhante' 'Azul' 'Black Piano' 'Branco'\n",
      " 'Bambu' 'Ametista' 'Ouro' 'Azul Escuro' 'Verde' 'Platinum' 'Prata'\n",
      " 'Verde Água' 'Couro Navy' 'Cinza' 'Rose' 'Branco Vermelho' 'Iuna'\n",
      " 'Preto Azul' 'Branco Azul' 'Preto Pink' 'Preto Azul Navy' 'Rouge'\n",
      " 'Couro Vintage' 'Branco Bambu' 'Cabernet' 'Branco Azul Navy' 'Preto Verde'\n",
      " 'Branco Dourado' 'Coral' 'Titânio' 'Roxo' 'Cromo' 'Olympic Edition'\n",
      " 'Azul Safira' 'Preto Vermelho' 'Branco Pink' 'Indigo' 'Azul Topázio'\n",
      " 'Amarelo' 'Branco Framboesa' 'Turquesa']\n"
     ]
    }
   ],
   "source": [
    "if debugging == True:\n",
    "    print(input_train['color'].unique()[0:50])"
   ]
  },
  {
   "cell_type": "code",
   "execution_count": 60,
   "metadata": {
    "_uuid": "69b2bfc5ec056b9a7f43465ff54eb790a6feb132",
    "collapsed": true
   },
   "outputs": [],
   "source": [
    "#input_train['skus'].unique()\n",
    "#input_train['sku'].unique()"
   ]
  },
  {
   "cell_type": "code",
   "execution_count": 61,
   "metadata": {
    "_uuid": "4047feb9d601c5b0e6fb170ac6cbf841ea1cd904"
   },
   "outputs": [
    {
     "name": "stdout",
     "output_type": "stream",
     "text": [
      "[nan 'Iphone 7s' 'Galaxy s8' ..., 'iPhone 6 Rose' '5S Mini' 'J5 Golden']\n"
     ]
    }
   ],
   "source": [
    "if debugging == True:\n",
    "    print(input_train['search_term'].unique())"
   ]
  },
  {
   "cell_type": "code",
   "execution_count": 62,
   "metadata": {
    "_uuid": "cdd309a5a35cb6288b41edc58b138f01585f70f5"
   },
   "outputs": [
    {
     "name": "stdout",
     "output_type": "stream",
     "text": [
      "[nan 'Conditions' 'CustomerService' 'Quiosks' 'FaqEcommerce' 'galaxy-s8'\n",
      " 'how-to-buy' 'TermsAndConditionsReturnEcommerce' 'AboutUs'\n",
      " 'TermsAndConditionsEcommerce' 'trust-trocafone' 'club-trocafone'\n",
      " 'how-to-sell' 'black_friday' 'PrivacyEcommerce']\n"
     ]
    }
   ],
   "source": [
    "if debugging == True:\n",
    "    print(input_train['staticpage'].unique())"
   ]
  },
  {
   "cell_type": "code",
   "execution_count": 63,
   "metadata": {
    "_uuid": "5a9c1ae2e4e3d6ccf9382736149e104c7e78c109"
   },
   "outputs": [
    {
     "name": "stdout",
     "output_type": "stream",
     "text": [
      "[nan 'google' 'rtbhouse' 'criteo' 'afilio' 'zanox' 'rakuten' 'voxus'\n",
      " 'buscape' 'indexa' 'emblue' 'Facebook' 'FacebookAds' 'FacebookSocial'\n",
      " 'bing' 'manifest' 'onsite' 'datacrush' 'yotpo' 'blog' 'mercadopago'\n",
      " 'afiliado' 'MARKETING SOCIAL' 'gizmodo']\n"
     ]
    }
   ],
   "source": [
    "if debugging == True:\n",
    "    print(input_train['campaign_source'].unique())"
   ]
  },
  {
   "cell_type": "code",
   "execution_count": 64,
   "metadata": {
    "_uuid": "ab354e68d7281c1fd558bb8a12799b5289637c30"
   },
   "outputs": [
    {
     "name": "stdout",
     "output_type": "stream",
     "text": [
      "[nan 'Google' 'Yahoo' 'Bing' 'Ask']\n"
     ]
    }
   ],
   "source": [
    "if debugging == True:\n",
    "    print(input_train['search_engine'].unique())"
   ]
  },
  {
   "cell_type": "code",
   "execution_count": 65,
   "metadata": {
    "_uuid": "04a831bd1b5dba94ec14cfb49cf25598843f25d2"
   },
   "outputs": [
    {
     "name": "stdout",
     "output_type": "stream",
     "text": [
      "[nan 'Referral' 'Direct' 'Paid' 'Organic' 'Social' 'Email' 'Unknown']\n"
     ]
    }
   ],
   "source": [
    "if debugging == True:\n",
    "    print(input_train['channel'].unique())"
   ]
  },
  {
   "cell_type": "code",
   "execution_count": 66,
   "metadata": {
    "_uuid": "72abf18a6f6fc684cd4e9ae9553eb74bf2421f3c"
   },
   "outputs": [
    {
     "name": "stdout",
     "output_type": "stream",
     "text": [
      "[nan 'Returning' 'New']\n"
     ]
    }
   ],
   "source": [
    "if debugging == True:\n",
    "    print(input_train['new_vs_returning'].unique())"
   ]
  },
  {
   "cell_type": "code",
   "execution_count": 67,
   "metadata": {
    "_uuid": "e4c4990aa6d19af029fd72439dd0a5361abeeb83"
   },
   "outputs": [
    {
     "name": "stdout",
     "output_type": "stream",
     "text": [
      "[nan 'Unknown' 'Carlos Barbosa' ..., 'Marcos Parente' 'Cha Grande'\n",
      " 'Barra dos Coqueiros']\n"
     ]
    }
   ],
   "source": [
    "if debugging == True:\n",
    "    print(input_train['city'].unique())"
   ]
  },
  {
   "cell_type": "code",
   "execution_count": 68,
   "metadata": {
    "_uuid": "8b95b4b2e0e44e2ee41cfdb2e9c49a1a9d6ad9cc"
   },
   "outputs": [
    {
     "name": "stdout",
     "output_type": "stream",
     "text": [
      "[nan 'Unknown' 'Rio Grande do Sul' 'Minas Gerais' 'Sao Paulo'\n",
      " 'Rio de Janeiro' 'Mato Grosso' 'Mato Grosso do Sul' 'Santa Catarina'\n",
      " 'Parana' 'Tocantins' 'Ceara' 'Federal District' 'Bahia' 'Pernambuco'\n",
      " 'Amazonas' 'Goias' 'Rio Grande do Norte' 'Maranhao' 'Alagoas' 'Acre'\n",
      " 'Paraíba' 'Para' 'Espirito Santo' 'California' 'Departamento de La Paz'\n",
      " 'Arkansas' 'Rondonia' 'Piaui' 'Sergipe' 'New Jersey' 'Texas' 'Illinois'\n",
      " 'Asuncion' 'Departamento de Montevideo' 'Aveiro' 'New York'\n",
      " 'Cidade de Maputo' 'Florida' 'Roraima' 'Arizona' 'Amapa'\n",
      " 'Buenos Aires F.D.' 'Morelos' 'Ohio' \"Tul'skaya Oblast'\" 'North Holland'\n",
      " 'Neuquen' 'Dhaka' 'Tinh Thua Thien-Hue']\n"
     ]
    }
   ],
   "source": [
    "if debugging == True:\n",
    "    print(input_train['region'].unique()[0:50]) # Sólo muestro un par de elementos"
   ]
  },
  {
   "cell_type": "code",
   "execution_count": 69,
   "metadata": {
    "_uuid": "84cf517e45e376ca56624df476172ebb94404f82"
   },
   "outputs": [
    {
     "name": "stdout",
     "output_type": "stream",
     "text": [
      "[nan 'Brazil' 'Unknown' 'United States' 'Bolivia' 'Paraguay' 'Uruguay'\n",
      " 'Portugal' 'Mozambique' 'Argentina' 'Mexico' 'Russia' 'Netherlands'\n",
      " 'Bangladesh' 'Vietnam' 'Canada' 'Republic of Korea' 'United Kingdom'\n",
      " 'Angola' 'Morocco' 'Burundi' 'Cape Verde' 'Belgium' 'Georgia' 'Guadeloupe'\n",
      " 'France' 'South Africa' 'Sweden' 'Israel' 'Germany' 'Singapore' 'Bulgaria'\n",
      " 'Colombia' 'Austria' 'Cameroon' 'Spain' 'Japan' 'Peru' 'Costa Rica'\n",
      " 'Italy' 'India' 'Dominican Republic' 'Ireland' 'Slovak Republic' 'Jamaica'\n",
      " 'Pakistan' 'Guinea-Bissau' 'Ukraine' 'Philippines' 'São Tomé and Príncipe'\n",
      " 'Algeria' 'Romania']\n"
     ]
    }
   ],
   "source": [
    "if debugging == True:\n",
    "    print(input_train['country'].unique()[0:500])"
   ]
  },
  {
   "cell_type": "code",
   "execution_count": 70,
   "metadata": {
    "_uuid": "f6969b0e0a04f3b69915921c3a549bb1e7041ef5"
   },
   "outputs": [
    {
     "name": "stdout",
     "output_type": "stream",
     "text": [
      "[nan 'Computer' 'Smartphone' 'Tablet' 'Unknown']\n"
     ]
    }
   ],
   "source": [
    "if debugging == True:\n",
    "    print(input_train['device_type'].unique())"
   ]
  },
  {
   "cell_type": "code",
   "execution_count": 71,
   "metadata": {
    "_uuid": "34db9037ebf174034f42015c27433285d6205ae1"
   },
   "outputs": [
    {
     "name": "stdout",
     "output_type": "stream",
     "text": [
      "[nan '1920x1080' '1024x768' '360x640' '1536x864' '1366x768' '320x534'\n",
      " '412x846' '1360x768' '1242x698' '1138x640' '1280x720' '375x667' '320x522'\n",
      " '412x732' '320x568' '1440x900' '320x569' '424x753' '1024x600' '600x1024'\n",
      " '1280x1024' '1280x768' '1600x900' '540x960' '320x570' '480x800' '414x736'\n",
      " '1280x800' '601x962' '800x1280' '240x320' '1238x696' '640x360' '534x320'\n",
      " '2021x1137' '2560x1080' '800x480' '768x1024' '1829x1029' '360x592'\n",
      " '320x292' '320x339' '320x401' '480x854' '360x720' '320x480' '360x668'\n",
      " '1680x1050' '1920x1200' '720x1280' '486x863' '360x740' '1280x672'\n",
      " '393x786' '570x320' '240x274' '1821x1024' '1093x615' '432x719' '1152x864'\n",
      " '1280x752' '800x600' '282x356' '375x555' '406x722' '1152x720' '1256x640'\n",
      " '1684x947' '2286x1286' '2133x1200' '2000x1125' '962x601' '1440x810'\n",
      " '1438x808' '1024x820' '1301x731' '1344x840' '1088x615' '1607x904'\n",
      " '480x853' '2560x1440' '1600x1080' '403x671' '403x716' '1024x576'\n",
      " '1518x853' '820x615' '600x976' '320x427' '320x490' '1024x1024' '1336x751'\n",
      " '1080x2010' '683x512' '480x801' '320x151' '400x712' '347x347' '1365x1024']\n"
     ]
    }
   ],
   "source": [
    "if debugging == True:\n",
    "    print(input_train['screen_resolution'].unique()[0:100])"
   ]
  },
  {
   "cell_type": "code",
   "execution_count": 72,
   "metadata": {
    "_uuid": "828347f7001c8517f1a1ce760e98a0bbca25d734"
   },
   "outputs": [
    {
     "name": "stdout",
     "output_type": "stream",
     "text": [
      "[nan 'Windows 10 ' 'Windows 7 ' 'Android 5.1.1' 'Android 7' 'Android 6'\n",
      " 'Android 7.1.1' 'Android 6.0.1' 'Windows 8 ' 'iOS 11.3' 'Android 5.0.2'\n",
      " 'Android 4.4.4' 'iOS 10.3.3' 'Linux ' 'Android 4.2.2' 'Windows 8.1 '\n",
      " 'Windows XP ' 'Android 5.1' 'Android 4.1.2' 'iOS 11.2.2' 'iOS 11.2.6'\n",
      " 'Mac OS X 10.11.6' 'Android 4.4.2' 'iOS 11.0.2' 'iOS 11.1.2'\n",
      " 'Android 5.0.1' 'Android 8' 'Android 7.1.2' 'Android 4.3'\n",
      " 'Windows Phone 10' 'iOS 5' 'Android 2.3.6' 'iOS 11.2.5' 'Mac OS X 10.13.4'\n",
      " 'iOS 10.2.1' 'Windows Vista ' 'iOS 11.0.1' 'Mac OS X 10.11'\n",
      " 'Mac OS X 10.12' 'Android 4.1.1' 'Windows Phone 8' 'iOS 9.3.5'\n",
      " 'Android 8.1' 'Ubuntu ' 'Other ' 'Mac OS X 10.13.3' 'iOS 10.1.1'\n",
      " 'iOS 11.4' 'Android 5' 'Android ' 'Android 4.0.3' 'FreeBSD '\n",
      " 'Chrome OS 10452.85' 'Chrome OS 10323.67' 'Mac OS X 10.12.6'\n",
      " 'Android 4.4.3' 'Mac OS X 10.10.5' 'Android 4.0.4' 'Windows Phone 8.1'\n",
      " 'iOS 10.2' 'iOS 8.1.3' 'iOS 7.1.2' 'BlackBerry OS 10.3.2' 'iOS 5.0.1'\n",
      " 'iOS 8.3' 'Android 3.2.2' 'iOS 11.0.3' 'iOS 11.1' 'Mac OS X 10.8.5'\n",
      " 'Windows RT ' 'Tizen 3' 'Chrome OS 10452.96' 'iOS 8.2' 'Tizen 2.4'\n",
      " 'iOS 11.1.1' 'iOS 10.3.2' 'Mac OS X 10.9' 'Mac OS X 10.13.1'\n",
      " 'Mac OS X 10.12.4' 'Chrome OS 10032.86' 'iOS 11.2.1' 'iOS 10.1'\n",
      " 'iOS 9.3.2' 'iOS 8.4.1' 'Android 3.2' 'Mac OS X 10.13' 'iOS 10.0.2'\n",
      " 'Symbian OS ' 'Mac OS X 10.13.2' 'Mac OS X 10.6.8' 'iOS 9.2' 'Fedora '\n",
      " 'iOS 10.3.1' 'Android 7.1' 'Android 4' 'iOS 11.2' 'Mac OS X 10.9.5'\n",
      " 'iOS 6.1.6' 'Mac OS X 10.10.4' 'Mac OS X 10.12.2']\n"
     ]
    }
   ],
   "source": [
    "if debugging == True:\n",
    "    print(input_train['operating_system_version'].unique()[0:100])"
   ]
  },
  {
   "cell_type": "code",
   "execution_count": 73,
   "metadata": {
    "_uuid": "11220961b9e5a8eb7f29b131ab7c815a72b93ef4"
   },
   "outputs": [
    {
     "name": "stdout",
     "output_type": "stream",
     "text": [
      "[nan 'Chrome 66.0' 'Chrome Mobile 43.0' 'Chrome Mobile 66.0' 'Chrome 67.0'\n",
      " 'Chrome Mobile 39' 'Chrome 64.0' 'Chrome 65.0' 'Chrome 63.0'\n",
      " 'Chrome Mobile 57.0' 'Chrome Mobile 65.0' 'Chrome Mobile 64.0'\n",
      " 'Facebook 165' 'Firefox 58' 'Firefox 57' 'Firefox 59' 'IE 11'\n",
      " 'Chrome 56.0' 'Mobile Safari 11' 'Chrome Mobile 34.0' 'Chrome Mobile 59.0'\n",
      " 'Facebook 172' 'Facebook 173' 'Chrome Mobile 63.0' 'Chrome Mobile 55.0'\n",
      " 'Mobile Safari 10.3' 'Firefox 60' 'Chrome Mobile 58.0' 'Chrome 55.0'\n",
      " 'Edge 16.16299' 'Samsung Internet 3.5' 'Firefox 52' 'Chrome 51.0'\n",
      " 'Chrome 49.0' 'Opera 52.0' 'Chrome Mobile 18.0' 'Android 4.1'\n",
      " 'Chrome Mobile 62.0' 'Firefox 53' 'Facebook 90' 'Opera 53.0'\n",
      " 'Chrome Mobile 56.0' 'Samsung Internet 6.4' 'Samsung Internet 6.2'\n",
      " 'Chrome Mobile 50.0' 'Chrome 58.0' 'Android 4.3' 'Edge Mobile 14.14393'\n",
      " 'Chrome 52.0' 'Chrome 41.0' 'Mobile Safari 5.1' 'Mobile Safari 10'\n",
      " 'Chrome Mobile 45.0' 'Facebook 169' 'Facebook 170' 'Facebook 168'\n",
      " 'Edge 17.17134' 'Android 2.3' 'Chrome Mobile 53.0' 'Chrome Mobile 35.0'\n",
      " 'Mobile Safari 11.2' 'Android 4.4' 'Chrome 60.0' 'Firefox 56' 'Firefox 36'\n",
      " 'Firefox 51' 'Facebook 94' 'Edge 13.10586' 'Chrome 59.0' 'Safari 11.1'\n",
      " 'Facebook 171' 'Chrome Mobile 61.0' 'Chrome 62.0' 'Chrome 40.0'\n",
      " 'Samsung Internet 4' 'Mobile Safari 11.0' 'Facebook 164'\n",
      " 'Chrome Mobile 33' 'Samsung Internet 7' 'IE Mobile 10' 'Chrome 61.0'\n",
      " 'Mobile Safari 9' 'Samsung Internet 3.3' 'Opera 51.0' 'Chrome Mobile 36.0'\n",
      " 'Chrome 33' 'Facebook 162' 'Facebook 163' 'Chrome Mobile 54.0'\n",
      " 'Facebook 174' 'Facebook 160' 'Facebook 161' 'Android 5.1'\n",
      " 'Chrome Mobile iOS 63.0' 'Opera Mini 4.5' 'Chrome Mobile 51.0' 'Other'\n",
      " 'Edge 14.14393' 'Chrome Mobile 60.0' 'Firefox 35']\n"
     ]
    }
   ],
   "source": [
    "if debugging == True:\n",
    "    print(input_train['browser_version'].unique()[0:100])"
   ]
  },
  {
   "cell_type": "code",
   "execution_count": 74,
   "metadata": {
    "_uuid": "d59e430104fa834c575b5de5b28491c35ae86d65"
   },
   "outputs": [
    {
     "name": "stdout",
     "output_type": "stream",
     "text": [
      "['timestamp' 'event' 'person' 'url' 'sku' 'model' 'condition' 'storage'\n",
      " 'color' 'skus' 'search_term' 'staticpage' 'campaign_source'\n",
      " 'search_engine' 'channel' 'new_vs_returning' 'city' 'region' 'country'\n",
      " 'device_type' 'screen_resolution' 'operating_system_version'\n",
      " 'browser_version']\n"
     ]
    }
   ],
   "source": [
    "if debugging == True:\n",
    "    print(input_train.columns.values)"
   ]
  },
  {
   "cell_type": "markdown",
   "metadata": {
    "_uuid": "d3bc45e367032115ae3a2df775fb1603bd2042bc"
   },
   "source": [
    "> ## a) Features del timestamp"
   ]
  },
  {
   "cell_type": "code",
   "execution_count": 75,
   "metadata": {
    "collapsed": true
   },
   "outputs": [],
   "source": [
    "#input_train['day'] = pd.DataFrame(input_train['timestamp'].apply(lambda x: x.day))#, dummy_na=False) # Convierto a One Hot encoding, el último evita NaN\n",
    "input_train['day'] = input_train['timestamp'].dt.day\n",
    "input_train['weekDay']=input_train['timestamp'].dt.weekday\n",
    "input_train['month'] =input_train['timestamp'].dt.month"
   ]
  },
  {
   "cell_type": "code",
   "execution_count": 76,
   "metadata": {},
   "outputs": [],
   "source": [
    "#input_train['timestamp'].dt.dayofyear.min()"
   ]
  },
  {
   "cell_type": "code",
   "execution_count": 77,
   "metadata": {
    "collapsed": true
   },
   "outputs": [],
   "source": [
    "input_train['isweekEnd']=input_train['weekDay']<=4 # 0 es lunes, con esto verifico de lunes a viernes\n",
    "input_train['isFortnite']=input_train['day']<=15 # Verifico quincena"
   ]
  },
  {
   "cell_type": "code",
   "execution_count": 78,
   "metadata": {
    "collapsed": true
   },
   "outputs": [],
   "source": [
    "grouped_input_train = input_train.groupby('person')"
   ]
  },
  {
   "cell_type": "code",
   "execution_count": 79,
   "metadata": {
    "_uuid": "06049858a67dc7a51cfe766f70492656ba684f9e",
    "collapsed": true
   },
   "outputs": [],
   "source": [
    "#Paso a segundos la interacción. Al final no lo usé, pero era la forma correcta parece ser\n",
    "df_timeDelta = pd.DataFrame((grouped_input_train['timestamp'].max() - grouped_input_train['timestamp'].min()).rename('timeDelta').dt.total_seconds())\n",
    "df_timeDelta.head()\n",
    "new_vector_features = new_vector_features.join(df_timeDelta, on = 'person', how = 'right')"
   ]
  },
  {
   "cell_type": "code",
   "execution_count": 80,
   "metadata": {
    "_uuid": "4e46dc40062443097db49308c5d71a454b34e773",
    "collapsed": true
   },
   "outputs": [],
   "source": [
    "# Tiempo más cercano al timestamp al primero de junio\n",
    "last_inter_to_june = pd.DataFrame((pd.to_datetime('06/01/2018') - grouped_input_train['timestamp'].max()).rename('last_inter_to_june').dt.total_seconds())\n",
    "#last_inter_to_june.head()\n",
    "new_vector_features = new_vector_features.join(last_inter_to_june, on = 'person', how = 'right')"
   ]
  },
  {
   "cell_type": "code",
   "execution_count": 81,
   "metadata": {
    "collapsed": true
   },
   "outputs": [],
   "source": [
    "# Tiempo más lejano al timestamp al primero de junio\n",
    "first_inter_to_june = pd.DataFrame((pd.to_datetime('06/01/2018') - grouped_input_train['timestamp'].min()).rename('first_inter_to_june').dt.total_seconds())\n",
    "#first_inter_to_june.head()\n",
    "new_vector_features = new_vector_features.join(first_inter_to_june, on = 'person', how = 'right')"
   ]
  },
  {
   "cell_type": "code",
   "execution_count": 82,
   "metadata": {
    "_uuid": "c517cb47f8c11941294f965b8bdda9f7021854d2",
    "collapsed": true
   },
   "outputs": [],
   "source": [
    "# Cantidad de interacciones en el tiempo especificado\n",
    "new_vector_features['interactions'] = grouped_input_train['timestamp'].count()"
   ]
  },
  {
   "cell_type": "code",
   "execution_count": 83,
   "metadata": {},
   "outputs": [
    {
     "data": {
      "text/html": [
       "<div>\n",
       "<style scoped>\n",
       "    .dataframe tbody tr th:only-of-type {\n",
       "        vertical-align: middle;\n",
       "    }\n",
       "\n",
       "    .dataframe tbody tr th {\n",
       "        vertical-align: top;\n",
       "    }\n",
       "\n",
       "    .dataframe thead th {\n",
       "        text-align: right;\n",
       "    }\n",
       "</style>\n",
       "<table border=\"1\" class=\"dataframe\">\n",
       "  <thead>\n",
       "    <tr style=\"text-align: right;\">\n",
       "      <th></th>\n",
       "      <th>label</th>\n",
       "      <th>resultKnown</th>\n",
       "      <th>timeDelta</th>\n",
       "      <th>last_inter_to_june</th>\n",
       "      <th>first_inter_to_june</th>\n",
       "      <th>interactions</th>\n",
       "    </tr>\n",
       "    <tr>\n",
       "      <th>person</th>\n",
       "      <th></th>\n",
       "      <th></th>\n",
       "      <th></th>\n",
       "      <th></th>\n",
       "      <th></th>\n",
       "      <th></th>\n",
       "    </tr>\n",
       "  </thead>\n",
       "  <tbody>\n",
       "    <tr>\n",
       "      <th>0566e9c1</th>\n",
       "      <td>0</td>\n",
       "      <td>1</td>\n",
       "      <td>772618.0</td>\n",
       "      <td>26916.0</td>\n",
       "      <td>799534.0</td>\n",
       "      <td>68</td>\n",
       "    </tr>\n",
       "    <tr>\n",
       "      <th>6ec7ee77</th>\n",
       "      <td>0</td>\n",
       "      <td>1</td>\n",
       "      <td>0.0</td>\n",
       "      <td>336876.0</td>\n",
       "      <td>336876.0</td>\n",
       "      <td>2</td>\n",
       "    </tr>\n",
       "    <tr>\n",
       "      <th>abe7a2fb</th>\n",
       "      <td>0</td>\n",
       "      <td>1</td>\n",
       "      <td>9335392.0</td>\n",
       "      <td>174046.0</td>\n",
       "      <td>9509438.0</td>\n",
       "      <td>96</td>\n",
       "    </tr>\n",
       "    <tr>\n",
       "      <th>34728364</th>\n",
       "      <td>0</td>\n",
       "      <td>1</td>\n",
       "      <td>742549.0</td>\n",
       "      <td>388950.0</td>\n",
       "      <td>1131499.0</td>\n",
       "      <td>37</td>\n",
       "    </tr>\n",
       "    <tr>\n",
       "      <th>87ed62de</th>\n",
       "      <td>0</td>\n",
       "      <td>1</td>\n",
       "      <td>1409.0</td>\n",
       "      <td>1123199.0</td>\n",
       "      <td>1124608.0</td>\n",
       "      <td>17</td>\n",
       "    </tr>\n",
       "  </tbody>\n",
       "</table>\n",
       "</div>"
      ],
      "text/plain": [
       "          label  resultKnown  timeDelta  last_inter_to_june  \\\n",
       "person                                                        \n",
       "0566e9c1      0            1   772618.0             26916.0   \n",
       "6ec7ee77      0            1        0.0            336876.0   \n",
       "abe7a2fb      0            1  9335392.0            174046.0   \n",
       "34728364      0            1   742549.0            388950.0   \n",
       "87ed62de      0            1     1409.0           1123199.0   \n",
       "\n",
       "          first_inter_to_june  interactions  \n",
       "person                                       \n",
       "0566e9c1             799534.0            68  \n",
       "6ec7ee77             336876.0             2  \n",
       "abe7a2fb            9509438.0            96  \n",
       "34728364            1131499.0            37  \n",
       "87ed62de            1124608.0            17  "
      ]
     },
     "execution_count": 83,
     "metadata": {},
     "output_type": "execute_result"
    }
   ],
   "source": [
    "new_vector_features.head() # Features hasta ahora"
   ]
  },
  {
   "cell_type": "code",
   "execution_count": 84,
   "metadata": {
    "_uuid": "06338ec70a2ecf0731e327f67c01d16ed46b69a8",
    "collapsed": true,
    "scrolled": true
   },
   "outputs": [],
   "source": [
    "#one_hot_weekday['isWeekend'] = one_hot_weekday[True]"
   ]
  },
  {
   "cell_type": "code",
   "execution_count": 85,
   "metadata": {
    "collapsed": true
   },
   "outputs": [],
   "source": [
    "#one_hot_weekday['isNotWeekend'] = one_hot_weekday[False]"
   ]
  },
  {
   "cell_type": "code",
   "execution_count": 86,
   "metadata": {
    "collapsed": true
   },
   "outputs": [],
   "source": [
    "#one_hot_weekday = one_hot_weekday.drop[True]\n"
   ]
  },
  {
   "cell_type": "code",
   "execution_count": 87,
   "metadata": {
    "collapsed": true
   },
   "outputs": [],
   "source": [
    "# Básico: Creo un histograma de eventos\n",
    "count_weekday = pd.get_dummies(input_train['isweekEnd'], dummy_na=False) # Convierto a One Hot encoding, el último evita NaN\n",
    "count_weekday['person'] = input_train['person'] # Agrego una columna\n",
    "count_weekday = count_weekday.set_index('person')\n",
    "#count_events.groupby('person').hist(bins = 3)\n",
    "count_weekday = count_weekday.groupby('person') \n",
    "\n",
    "count_weekday = count_weekday.apply(lambda x: x.sum())\n",
    "\n",
    "count_weekday['isNotWeekend'] = count_weekday[False]\n",
    "count_weekday['isWeekend'] = count_weekday[True]\n",
    "count_weekday = count_weekday.drop(columns = [False, True])\n",
    "\n",
    "#count_weekday['weekDay' = count_weekday[False]\n",
    "#Por las dudas, si quiero seleccionar la columna NaN, tengo que poner count_events[np.nan]\n",
    "\n",
    "# Agregar al vector de features los que crea necesarios\n",
    "new_vector_features = new_vector_features.join(count_weekday, on = 'person', how = 'left')"
   ]
  },
  {
   "cell_type": "code",
   "execution_count": 88,
   "metadata": {},
   "outputs": [
    {
     "data": {
      "text/html": [
       "<div>\n",
       "<style scoped>\n",
       "    .dataframe tbody tr th:only-of-type {\n",
       "        vertical-align: middle;\n",
       "    }\n",
       "\n",
       "    .dataframe tbody tr th {\n",
       "        vertical-align: top;\n",
       "    }\n",
       "\n",
       "    .dataframe thead th {\n",
       "        text-align: right;\n",
       "    }\n",
       "</style>\n",
       "<table border=\"1\" class=\"dataframe\">\n",
       "  <thead>\n",
       "    <tr style=\"text-align: right;\">\n",
       "      <th></th>\n",
       "      <th>label</th>\n",
       "      <th>resultKnown</th>\n",
       "      <th>timeDelta</th>\n",
       "      <th>last_inter_to_june</th>\n",
       "      <th>first_inter_to_june</th>\n",
       "      <th>interactions</th>\n",
       "      <th>isNotWeekend</th>\n",
       "      <th>isWeekend</th>\n",
       "    </tr>\n",
       "    <tr>\n",
       "      <th>person</th>\n",
       "      <th></th>\n",
       "      <th></th>\n",
       "      <th></th>\n",
       "      <th></th>\n",
       "      <th></th>\n",
       "      <th></th>\n",
       "      <th></th>\n",
       "      <th></th>\n",
       "    </tr>\n",
       "  </thead>\n",
       "  <tbody>\n",
       "    <tr>\n",
       "      <th>0566e9c1</th>\n",
       "      <td>0</td>\n",
       "      <td>1</td>\n",
       "      <td>772618.0</td>\n",
       "      <td>26916.0</td>\n",
       "      <td>799534.0</td>\n",
       "      <td>68</td>\n",
       "      <td>5</td>\n",
       "      <td>63</td>\n",
       "    </tr>\n",
       "    <tr>\n",
       "      <th>6ec7ee77</th>\n",
       "      <td>0</td>\n",
       "      <td>1</td>\n",
       "      <td>0.0</td>\n",
       "      <td>336876.0</td>\n",
       "      <td>336876.0</td>\n",
       "      <td>2</td>\n",
       "      <td>0</td>\n",
       "      <td>2</td>\n",
       "    </tr>\n",
       "    <tr>\n",
       "      <th>abe7a2fb</th>\n",
       "      <td>0</td>\n",
       "      <td>1</td>\n",
       "      <td>9335392.0</td>\n",
       "      <td>174046.0</td>\n",
       "      <td>9509438.0</td>\n",
       "      <td>96</td>\n",
       "      <td>32</td>\n",
       "      <td>64</td>\n",
       "    </tr>\n",
       "    <tr>\n",
       "      <th>34728364</th>\n",
       "      <td>0</td>\n",
       "      <td>1</td>\n",
       "      <td>742549.0</td>\n",
       "      <td>388950.0</td>\n",
       "      <td>1131499.0</td>\n",
       "      <td>37</td>\n",
       "      <td>4</td>\n",
       "      <td>33</td>\n",
       "    </tr>\n",
       "    <tr>\n",
       "      <th>87ed62de</th>\n",
       "      <td>0</td>\n",
       "      <td>1</td>\n",
       "      <td>1409.0</td>\n",
       "      <td>1123199.0</td>\n",
       "      <td>1124608.0</td>\n",
       "      <td>17</td>\n",
       "      <td>1</td>\n",
       "      <td>16</td>\n",
       "    </tr>\n",
       "  </tbody>\n",
       "</table>\n",
       "</div>"
      ],
      "text/plain": [
       "          label  resultKnown  timeDelta  last_inter_to_june  \\\n",
       "person                                                        \n",
       "0566e9c1      0            1   772618.0             26916.0   \n",
       "6ec7ee77      0            1        0.0            336876.0   \n",
       "abe7a2fb      0            1  9335392.0            174046.0   \n",
       "34728364      0            1   742549.0            388950.0   \n",
       "87ed62de      0            1     1409.0           1123199.0   \n",
       "\n",
       "          first_inter_to_june  interactions  isNotWeekend  isWeekend  \n",
       "person                                                                \n",
       "0566e9c1             799534.0            68             5         63  \n",
       "6ec7ee77             336876.0             2             0          2  \n",
       "abe7a2fb            9509438.0            96            32         64  \n",
       "34728364            1131499.0            37             4         33  \n",
       "87ed62de            1124608.0            17             1         16  "
      ]
     },
     "execution_count": 88,
     "metadata": {},
     "output_type": "execute_result"
    }
   ],
   "source": [
    "new_vector_features.head()"
   ]
  },
  {
   "cell_type": "code",
   "execution_count": 89,
   "metadata": {
    "collapsed": true
   },
   "outputs": [],
   "source": [
    "# Básico: Creo un histograma de eventos\n",
    "count_fortnite = pd.get_dummies(input_train['isFortnite'], dummy_na=False) # Convierto a One Hot encoding, el último evita NaN\n",
    "count_fortnite['person'] = input_train['person'] # Agrego una columna\n",
    "count_fortnite = count_fortnite.set_index('person')\n",
    "#count_events.groupby('person').hist(bins = 3)\n",
    "count_fortnite = count_fortnite.groupby('person') \n",
    "\n",
    "count_fortnite = count_fortnite.apply(lambda x: x.sum())\n",
    "\n",
    "count_fortnite['isFortnite'] = count_fortnite[False]\n",
    "count_fortnite['isNotFortnite'] = count_fortnite[True]\n",
    "count_fortnite = count_fortnite.drop(columns = [False, True])\n",
    "\n",
    "# Agregar al vector de features los que crea necesarios\n",
    "new_vector_features = new_vector_features.join(count_fortnite, on = 'person', how = 'left')"
   ]
  },
  {
   "cell_type": "code",
   "execution_count": 90,
   "metadata": {
    "collapsed": true,
    "scrolled": true
   },
   "outputs": [],
   "source": [
    "# Básico: Creo un histograma de eventos\n",
    "count_month = pd.get_dummies(input_train['month'], dummy_na=False) # Convierto a One Hot encoding, el último evita NaN\n",
    "count_month['person'] = input_train['person'] # Agrego una columna\n",
    "count_month = count_month.set_index('person')\n",
    "#count_events.groupby('person').hist(bins = 3)\n",
    "count_month = count_month.groupby('person') \n",
    "\n",
    "count_month = count_month.apply(lambda x: x.sum())\n",
    "\n",
    "count_month = count_month.rename(columns={1: 'month1', 2: 'month2', 3: 'month3', 4: 'month4', 5:'month5'}) \n",
    "\n",
    "#count_weekday['isNotWeekend'] = count_weekday[False]\n",
    "#count_weekday['isWeekend'] = count_weekday[True]\n",
    "#count_weekday = count_weekday.drop(columns = [False, True])\n",
    "\n",
    "#count_weekday['weekDay' = count_weekday[False]\n",
    "#Por las dudas, si quiero seleccionar la columna NaN, tengo que poner count_events[np.nan]\n",
    "\n",
    "# Agregar al vector de features los que crea necesarios\n",
    "new_vector_features = new_vector_features.join(count_month, on = 'person', how = 'left')"
   ]
  },
  {
   "cell_type": "code",
   "execution_count": 91,
   "metadata": {
    "scrolled": true
   },
   "outputs": [
    {
     "data": {
      "text/html": [
       "<div>\n",
       "<style scoped>\n",
       "    .dataframe tbody tr th:only-of-type {\n",
       "        vertical-align: middle;\n",
       "    }\n",
       "\n",
       "    .dataframe tbody tr th {\n",
       "        vertical-align: top;\n",
       "    }\n",
       "\n",
       "    .dataframe thead th {\n",
       "        text-align: right;\n",
       "    }\n",
       "</style>\n",
       "<table border=\"1\" class=\"dataframe\">\n",
       "  <thead>\n",
       "    <tr style=\"text-align: right;\">\n",
       "      <th></th>\n",
       "      <th>label</th>\n",
       "      <th>resultKnown</th>\n",
       "      <th>timeDelta</th>\n",
       "      <th>last_inter_to_june</th>\n",
       "      <th>first_inter_to_june</th>\n",
       "      <th>interactions</th>\n",
       "      <th>isNotWeekend</th>\n",
       "      <th>isWeekend</th>\n",
       "      <th>isFortnite</th>\n",
       "      <th>isNotFortnite</th>\n",
       "      <th>month1</th>\n",
       "      <th>month2</th>\n",
       "      <th>month3</th>\n",
       "      <th>month4</th>\n",
       "      <th>month5</th>\n",
       "    </tr>\n",
       "    <tr>\n",
       "      <th>person</th>\n",
       "      <th></th>\n",
       "      <th></th>\n",
       "      <th></th>\n",
       "      <th></th>\n",
       "      <th></th>\n",
       "      <th></th>\n",
       "      <th></th>\n",
       "      <th></th>\n",
       "      <th></th>\n",
       "      <th></th>\n",
       "      <th></th>\n",
       "      <th></th>\n",
       "      <th></th>\n",
       "      <th></th>\n",
       "      <th></th>\n",
       "    </tr>\n",
       "  </thead>\n",
       "  <tbody>\n",
       "    <tr>\n",
       "      <th>0566e9c1</th>\n",
       "      <td>0</td>\n",
       "      <td>1</td>\n",
       "      <td>772618.0</td>\n",
       "      <td>26916.0</td>\n",
       "      <td>799534.0</td>\n",
       "      <td>68</td>\n",
       "      <td>5</td>\n",
       "      <td>63</td>\n",
       "      <td>68</td>\n",
       "      <td>0</td>\n",
       "      <td>0</td>\n",
       "      <td>0</td>\n",
       "      <td>0</td>\n",
       "      <td>0</td>\n",
       "      <td>68</td>\n",
       "    </tr>\n",
       "    <tr>\n",
       "      <th>6ec7ee77</th>\n",
       "      <td>0</td>\n",
       "      <td>1</td>\n",
       "      <td>0.0</td>\n",
       "      <td>336876.0</td>\n",
       "      <td>336876.0</td>\n",
       "      <td>2</td>\n",
       "      <td>0</td>\n",
       "      <td>2</td>\n",
       "      <td>2</td>\n",
       "      <td>0</td>\n",
       "      <td>0</td>\n",
       "      <td>0</td>\n",
       "      <td>0</td>\n",
       "      <td>0</td>\n",
       "      <td>2</td>\n",
       "    </tr>\n",
       "    <tr>\n",
       "      <th>abe7a2fb</th>\n",
       "      <td>0</td>\n",
       "      <td>1</td>\n",
       "      <td>9335392.0</td>\n",
       "      <td>174046.0</td>\n",
       "      <td>9509438.0</td>\n",
       "      <td>96</td>\n",
       "      <td>32</td>\n",
       "      <td>64</td>\n",
       "      <td>32</td>\n",
       "      <td>64</td>\n",
       "      <td>0</td>\n",
       "      <td>12</td>\n",
       "      <td>16</td>\n",
       "      <td>38</td>\n",
       "      <td>30</td>\n",
       "    </tr>\n",
       "    <tr>\n",
       "      <th>34728364</th>\n",
       "      <td>0</td>\n",
       "      <td>1</td>\n",
       "      <td>742549.0</td>\n",
       "      <td>388950.0</td>\n",
       "      <td>1131499.0</td>\n",
       "      <td>37</td>\n",
       "      <td>4</td>\n",
       "      <td>33</td>\n",
       "      <td>37</td>\n",
       "      <td>0</td>\n",
       "      <td>0</td>\n",
       "      <td>0</td>\n",
       "      <td>0</td>\n",
       "      <td>0</td>\n",
       "      <td>37</td>\n",
       "    </tr>\n",
       "    <tr>\n",
       "      <th>87ed62de</th>\n",
       "      <td>0</td>\n",
       "      <td>1</td>\n",
       "      <td>1409.0</td>\n",
       "      <td>1123199.0</td>\n",
       "      <td>1124608.0</td>\n",
       "      <td>17</td>\n",
       "      <td>1</td>\n",
       "      <td>16</td>\n",
       "      <td>17</td>\n",
       "      <td>0</td>\n",
       "      <td>0</td>\n",
       "      <td>0</td>\n",
       "      <td>0</td>\n",
       "      <td>0</td>\n",
       "      <td>17</td>\n",
       "    </tr>\n",
       "  </tbody>\n",
       "</table>\n",
       "</div>"
      ],
      "text/plain": [
       "          label  resultKnown  timeDelta  last_inter_to_june  \\\n",
       "person                                                        \n",
       "0566e9c1      0            1   772618.0             26916.0   \n",
       "6ec7ee77      0            1        0.0            336876.0   \n",
       "abe7a2fb      0            1  9335392.0            174046.0   \n",
       "34728364      0            1   742549.0            388950.0   \n",
       "87ed62de      0            1     1409.0           1123199.0   \n",
       "\n",
       "          first_inter_to_june  interactions  isNotWeekend  isWeekend  \\\n",
       "person                                                                 \n",
       "0566e9c1             799534.0            68             5         63   \n",
       "6ec7ee77             336876.0             2             0          2   \n",
       "abe7a2fb            9509438.0            96            32         64   \n",
       "34728364            1131499.0            37             4         33   \n",
       "87ed62de            1124608.0            17             1         16   \n",
       "\n",
       "          isFortnite  isNotFortnite  month1  month2  month3  month4  month5  \n",
       "person                                                                       \n",
       "0566e9c1          68              0       0       0       0       0      68  \n",
       "6ec7ee77           2              0       0       0       0       0       2  \n",
       "abe7a2fb          32             64       0      12      16      38      30  \n",
       "34728364          37              0       0       0       0       0      37  \n",
       "87ed62de          17              0       0       0       0       0      17  "
      ]
     },
     "execution_count": 91,
     "metadata": {},
     "output_type": "execute_result"
    }
   ],
   "source": [
    "new_vector_features.head()"
   ]
  },
  {
   "cell_type": "code",
   "execution_count": 92,
   "metadata": {
    "_uuid": "743f22a13ee4e8a7378e2b11294f763b240d0d7b",
    "collapsed": true
   },
   "outputs": [],
   "source": [
    "# Ver si le agrego info del día, y tiempo al próximo feriado, al último o cosas así\n",
    "# Ideas: Por mes? Por día? Cantidad de eventos en fines de semana? Cantidad de eventos en días de semana?\n",
    "# Cuenta de algún evento particular?\n",
    "# Histograma de eventos de días de semana vs fines de semana?\n",
    "# media y varianza de acuerdo al día del mes?\n",
    "# Algo relacionado a la hora?"
   ]
  },
  {
   "cell_type": "markdown",
   "metadata": {
    "_uuid": "af23261f6910a52acc96c229db5a72381bc172d3"
   },
   "source": [
    "> ## b) Features de events"
   ]
  },
  {
   "cell_type": "code",
   "execution_count": 93,
   "metadata": {
    "_uuid": "6349a540ed983d4f4348393078b3875c8a2fbf9d"
   },
   "outputs": [
    {
     "data": {
      "text/plain": [
       "array(['checkout', 'visited site', 'generic listing', 'ad campaign hit',\n",
       "       'viewed product', 'brand listing', 'search engine hit',\n",
       "       'conversion', 'searched products', 'staticpage', 'lead'], dtype=object)"
      ]
     },
     "execution_count": 93,
     "metadata": {},
     "output_type": "execute_result"
    }
   ],
   "source": [
    "# Diferentes eventos\n",
    "input_train['event'].unique()"
   ]
  },
  {
   "cell_type": "code",
   "execution_count": null,
   "metadata": {
    "_uuid": "48cd9dd4ee4f79d4ba34a23688908f45c4d725e7",
    "collapsed": true
   },
   "outputs": [],
   "source": []
  },
  {
   "cell_type": "code",
   "execution_count": 94,
   "metadata": {
    "_uuid": "276d5136aabe6d2806ec61306aeca2f05ed2b9d2",
    "collapsed": true
   },
   "outputs": [],
   "source": [
    "# Básico: Creo un histograma de eventos\n",
    "count_events = pd.get_dummies(input_train['event'], dummy_na=False) # Convierto a One Hot encoding, el último evita NaN\n",
    "count_events['person'] = input_train['person'] # Agrego una columna\n",
    "count_events = count_events.set_index('person')\n",
    "#count_events.groupby('person').hist(bins = 3)\n",
    "count_events = count_events.groupby('person') \n",
    "\n",
    "count_events = count_events.apply(lambda x: x.sum())\n",
    "#Por las dudas, si quiero seleccionar la columna NaN, tengo que poner count_events[np.nan]\n",
    "\n",
    "# Agregar al vector de features los que crea necesarios\n",
    "new_vector_features = new_vector_features.join(count_events, on = 'person', how = 'left')"
   ]
  },
  {
   "cell_type": "code",
   "execution_count": 95,
   "metadata": {},
   "outputs": [
    {
     "data": {
      "text/html": [
       "<div>\n",
       "<style scoped>\n",
       "    .dataframe tbody tr th:only-of-type {\n",
       "        vertical-align: middle;\n",
       "    }\n",
       "\n",
       "    .dataframe tbody tr th {\n",
       "        vertical-align: top;\n",
       "    }\n",
       "\n",
       "    .dataframe thead th {\n",
       "        text-align: right;\n",
       "    }\n",
       "</style>\n",
       "<table border=\"1\" class=\"dataframe\">\n",
       "  <thead>\n",
       "    <tr style=\"text-align: right;\">\n",
       "      <th></th>\n",
       "      <th>ad campaign hit</th>\n",
       "      <th>brand listing</th>\n",
       "      <th>checkout</th>\n",
       "      <th>conversion</th>\n",
       "      <th>generic listing</th>\n",
       "      <th>lead</th>\n",
       "      <th>search engine hit</th>\n",
       "      <th>searched products</th>\n",
       "      <th>staticpage</th>\n",
       "      <th>viewed product</th>\n",
       "      <th>visited site</th>\n",
       "    </tr>\n",
       "    <tr>\n",
       "      <th>person</th>\n",
       "      <th></th>\n",
       "      <th></th>\n",
       "      <th></th>\n",
       "      <th></th>\n",
       "      <th></th>\n",
       "      <th></th>\n",
       "      <th></th>\n",
       "      <th></th>\n",
       "      <th></th>\n",
       "      <th></th>\n",
       "      <th></th>\n",
       "    </tr>\n",
       "  </thead>\n",
       "  <tbody>\n",
       "    <tr>\n",
       "      <th>0008ed71</th>\n",
       "      <td>0</td>\n",
       "      <td>0</td>\n",
       "      <td>3</td>\n",
       "      <td>0</td>\n",
       "      <td>1</td>\n",
       "      <td>0</td>\n",
       "      <td>0</td>\n",
       "      <td>0</td>\n",
       "      <td>0</td>\n",
       "      <td>0</td>\n",
       "      <td>2</td>\n",
       "    </tr>\n",
       "    <tr>\n",
       "      <th>00091926</th>\n",
       "      <td>15</td>\n",
       "      <td>25</td>\n",
       "      <td>2</td>\n",
       "      <td>0</td>\n",
       "      <td>0</td>\n",
       "      <td>0</td>\n",
       "      <td>0</td>\n",
       "      <td>0</td>\n",
       "      <td>0</td>\n",
       "      <td>372</td>\n",
       "      <td>34</td>\n",
       "    </tr>\n",
       "    <tr>\n",
       "      <th>00091a7a</th>\n",
       "      <td>1</td>\n",
       "      <td>5</td>\n",
       "      <td>0</td>\n",
       "      <td>0</td>\n",
       "      <td>0</td>\n",
       "      <td>0</td>\n",
       "      <td>0</td>\n",
       "      <td>0</td>\n",
       "      <td>0</td>\n",
       "      <td>3</td>\n",
       "      <td>1</td>\n",
       "    </tr>\n",
       "    <tr>\n",
       "      <th>000ba417</th>\n",
       "      <td>1</td>\n",
       "      <td>24</td>\n",
       "      <td>6</td>\n",
       "      <td>1</td>\n",
       "      <td>14</td>\n",
       "      <td>0</td>\n",
       "      <td>1</td>\n",
       "      <td>0</td>\n",
       "      <td>0</td>\n",
       "      <td>153</td>\n",
       "      <td>6</td>\n",
       "    </tr>\n",
       "    <tr>\n",
       "      <th>000c79fe</th>\n",
       "      <td>1</td>\n",
       "      <td>0</td>\n",
       "      <td>1</td>\n",
       "      <td>0</td>\n",
       "      <td>1</td>\n",
       "      <td>0</td>\n",
       "      <td>1</td>\n",
       "      <td>9</td>\n",
       "      <td>0</td>\n",
       "      <td>3</td>\n",
       "      <td>1</td>\n",
       "    </tr>\n",
       "  </tbody>\n",
       "</table>\n",
       "</div>"
      ],
      "text/plain": [
       "          ad campaign hit  brand listing  checkout  conversion  \\\n",
       "person                                                           \n",
       "0008ed71                0              0         3           0   \n",
       "00091926               15             25         2           0   \n",
       "00091a7a                1              5         0           0   \n",
       "000ba417                1             24         6           1   \n",
       "000c79fe                1              0         1           0   \n",
       "\n",
       "          generic listing  lead  search engine hit  searched products  \\\n",
       "person                                                                  \n",
       "0008ed71                1     0                  0                  0   \n",
       "00091926                0     0                  0                  0   \n",
       "00091a7a                0     0                  0                  0   \n",
       "000ba417               14     0                  1                  0   \n",
       "000c79fe                1     0                  1                  9   \n",
       "\n",
       "          staticpage  viewed product  visited site  \n",
       "person                                              \n",
       "0008ed71           0               0             2  \n",
       "00091926           0             372            34  \n",
       "00091a7a           0               3             1  \n",
       "000ba417           0             153             6  \n",
       "000c79fe           0               3             1  "
      ]
     },
     "execution_count": 95,
     "metadata": {},
     "output_type": "execute_result"
    }
   ],
   "source": [
    "count_events.head()"
   ]
  },
  {
   "cell_type": "code",
   "execution_count": 96,
   "metadata": {
    "collapsed": true
   },
   "outputs": [],
   "source": [
    "addTimeToEvent = True"
   ]
  },
  {
   "cell_type": "code",
   "execution_count": 97,
   "metadata": {
    "scrolled": true
   },
   "outputs": [
    {
     "name": "stdout",
     "output_type": "stream",
     "text": [
      "time_to_checkout\n",
      "time_to_visited site\n",
      "time_to_generic listing\n",
      "time_to_ad campaign hit\n",
      "time_to_viewed product\n",
      "time_to_brand listing\n",
      "time_to_search engine hit\n",
      "time_to_conversion\n",
      "time_to_searched products\n",
      "time_to_staticpage\n",
      "time_to_lead\n"
     ]
    },
    {
     "name": "stderr",
     "output_type": "stream",
     "text": [
      "/home/diego/.local/anaconda3/envs/tfdeeplearning/lib/python3.5/site-packages/ipykernel_launcher.py:14: SettingWithCopyWarning: \n",
      "A value is trying to be set on a copy of a slice from a DataFrame.\n",
      "Try using .loc[row_indexer,col_indexer] = value instead\n",
      "\n",
      "See the caveats in the documentation: http://pandas.pydata.org/pandas-docs/stable/indexing.html#indexing-view-versus-copy\n",
      "  \n"
     ]
    }
   ],
   "source": [
    "if addTimeToEvent == True:\n",
    "    ev = input_train[['person', 'event', 'timestamp']]\n",
    "\n",
    "    different_events = ev['event'].unique()\n",
    "    for i in different_events:\n",
    "        #print (i)\n",
    "        b = 'time_to_' + i\n",
    "        print(b)\n",
    "\n",
    "    #eev = ev.groupby('person')\n",
    "    last_date = (pd.to_datetime('06/01/2018'))# - grouped_input_train['timestamp'].max()).rename('last_inter_to_june').dt.total_seconds())\n",
    "\n",
    "    ev = input_train[['person', 'event', 'timestamp']]\n",
    "    ev['timestamp'] = ev['timestamp']\n",
    "    ev = (last_date - ev.groupby(['person', 'event'])['timestamp'].max()).dt.total_seconds().to_frame(name='dist').unstack().reset_index()\n",
    "    ev.columns = ['person'] + [ 'june_to_last_' + x[1] for x in ev.columns][1:]\n",
    "    ev = ev.fillna(0).set_index('person')\n",
    "\n",
    "    new_vector_features = new_vector_features.join(ev, on = 'person', how = 'left')"
   ]
  },
  {
   "cell_type": "code",
   "execution_count": 98,
   "metadata": {
    "_uuid": "6795c10a5d3d194970c789f54957e2982537c316",
    "collapsed": true
   },
   "outputs": [],
   "source": [
    "# Recordar agregar url, cuando aparece es porque tiene ad_campain_hit\n",
    "# Algo relacionado a profundidad del hit?\n",
    "# Algo relacionado a la varianza del hit?"
   ]
  },
  {
   "cell_type": "markdown",
   "metadata": {
    "_uuid": "833419cdf53dc85d56906304a7ebcbce20e4a3b0"
   },
   "source": [
    "> ## c) Features de Condition"
   ]
  },
  {
   "cell_type": "code",
   "execution_count": 99,
   "metadata": {
    "_uuid": "783aa393ae04af6958f8228f0f2ef86bec889401",
    "scrolled": true
   },
   "outputs": [
    {
     "data": {
      "text/plain": [
       "array(['Muito Bom', nan, 'Bom', 'Excelente', 'Novo', 'Bom - Sem Touch ID'], dtype=object)"
      ]
     },
     "execution_count": 99,
     "metadata": {},
     "output_type": "execute_result"
    }
   ],
   "source": [
    "input_train['condition'].unique() # Sem touch ID es sin lector de huellas, normalmente los IPhone|"
   ]
  },
  {
   "cell_type": "code",
   "execution_count": 100,
   "metadata": {
    "_uuid": "363537dae6b209168907a5473d33e02f0db32a9b"
   },
   "outputs": [
    {
     "data": {
      "text/plain": [
       "2"
      ]
     },
     "execution_count": 100,
     "metadata": {},
     "output_type": "execute_result"
    }
   ],
   "source": [
    "# Función que retorna un valor de acuerdo a la calidad del celular:\n",
    "# nan, 'Muito Bom', 'Bom', 'Excelente', 'Bom - Sem Touch ID', 'Novo'\n",
    "def getCondition(str):\n",
    "    if not str:\n",
    "        return 0\n",
    "    elif str == 'Bom - Sem Touch ID': # Ojo que en la lista del TP1 no aparecen pero acá si\n",
    "        return 1\n",
    "    elif str == 'Bom':\n",
    "        return 2\n",
    "    elif str == 'Muito Bom':\n",
    "        return 3\n",
    "    elif str == 'Excelente':\n",
    "        return 4\n",
    "    elif str == 'Novo':\n",
    "        return 5\n",
    "    else:\n",
    "        assert('Entrada desconocida')\n",
    "\n",
    "getCondition('Bom') # Test"
   ]
  },
  {
   "cell_type": "code",
   "execution_count": 101,
   "metadata": {
    "_uuid": "249dac8a020bc6eb4d3fb1bf586e100ac53ed9b4",
    "collapsed": true
   },
   "outputs": [],
   "source": [
    "# Ojo con los que no son condition...\n",
    "cond_temp = input_train['condition'].apply(lambda x: getCondition(x))\n",
    "one_hot_condition = pd.get_dummies(cond_temp, dummy_na=False) # Si pongo true me genera una columna más con los nan\n",
    "one_hot_condition['person'] = input_train['person'] # Agrego una columna\n",
    "one_hot_condition = one_hot_condition.set_index('person')\n",
    "one_hot_condition = one_hot_condition.groupby('person') \n",
    "one_hot_condition = one_hot_condition.apply(lambda x: x.sum())\n",
    "new_vector_features = new_vector_features.join(one_hot_condition, on = 'person', how = 'left')\n",
    "\n",
    "# Normalizar?\n",
    "# Varianza y valor medio?"
   ]
  },
  {
   "cell_type": "code",
   "execution_count": 102,
   "metadata": {
    "collapsed": true
   },
   "outputs": [],
   "source": [
    "#aa = pd.DataFrame([[2,3],[2,np.nan],[3,3]])\n",
    "#aa[1].mean() #Para ver que pasa si hay un nan, está bien, no lo tiene en cuenta"
   ]
  },
  {
   "cell_type": "code",
   "execution_count": 103,
   "metadata": {
    "collapsed": true
   },
   "outputs": [],
   "source": [
    "del cond_temp\n",
    "del one_hot_condition"
   ]
  },
  {
   "cell_type": "code",
   "execution_count": 104,
   "metadata": {
    "collapsed": true
   },
   "outputs": [],
   "source": [
    "cond_temp = input_train['condition'].apply(lambda x: getCondition(x))\n",
    "cond_temp_mean = pd.DataFrame(cond_temp.rename('cond_mean'))\n",
    "cond_temp_mean['person'] = input_train['person']\n",
    "cond_temp_mean = cond_temp_mean.set_index('person')\n",
    "cond_temp_mean = cond_temp_mean.groupby('person')\n",
    "cond_temp_mean = cond_temp_mean.apply(lambda x:x.mean())\n",
    "new_vector_features = new_vector_features.join(cond_temp_mean, on = 'person', how = 'left')\n",
    "new_vector_features['cond_mean'].fillna(6, inplace=True) # Si son todos nan pone un 6"
   ]
  },
  {
   "cell_type": "code",
   "execution_count": 105,
   "metadata": {
    "collapsed": true
   },
   "outputs": [],
   "source": [
    "del cond_temp\n",
    "del cond_temp_mean"
   ]
  },
  {
   "cell_type": "code",
   "execution_count": 106,
   "metadata": {
    "collapsed": true
   },
   "outputs": [],
   "source": [
    "cond_temp = input_train['condition'].apply(lambda x: getCondition(x))\n",
    "cond_temp_var = pd.DataFrame(cond_temp.rename('cond_var'))\n",
    "cond_temp_var['person'] = input_train['person']\n",
    "cond_temp_var = cond_temp_var.set_index('person')\n",
    "cond_temp_var = cond_temp_var.groupby('person')\n",
    "cond_temp_var = cond_temp_var.apply(lambda x:x.var())\n",
    "new_vector_features = new_vector_features.join(cond_temp_var, on = 'person', how = 'left')\n",
    "new_vector_features['cond_var'].fillna(6, inplace=True) # Si son todos nan pone un 6"
   ]
  },
  {
   "cell_type": "code",
   "execution_count": 107,
   "metadata": {
    "collapsed": true
   },
   "outputs": [],
   "source": [
    "del cond_temp\n",
    "del cond_temp_var"
   ]
  },
  {
   "cell_type": "markdown",
   "metadata": {
    "_uuid": "0703c884d8aba91d848f21e87bb945a100dbdad6"
   },
   "source": [
    "> ## Feature de ..."
   ]
  },
  {
   "cell_type": "code",
   "execution_count": 108,
   "metadata": {
    "_uuid": "2dafc208599869843f1b8d14e64b1d22df2d87cb"
   },
   "outputs": [
    {
     "data": {
      "text/plain": [
       "'Asus'"
      ]
     },
     "execution_count": 108,
     "metadata": {},
     "output_type": "execute_result"
    }
   ],
   "source": [
    "# Ver que hacer con model: marca, modelo, rango de precios estimado?\n",
    "# Marca del sistema operativo\n",
    "def getBrand(str):\n",
    "    return str.partition(' ')[0]\n",
    "getBrand('Asus zenpad')"
   ]
  },
  {
   "cell_type": "markdown",
   "metadata": {},
   "source": [
    "## Feature de Capacidad "
   ]
  },
  {
   "cell_type": "code",
   "execution_count": 110,
   "metadata": {
    "_uuid": "da904e4aad8af58b222946d92d6796b4ae255f10"
   },
   "outputs": [
    {
     "data": {
      "text/plain": [
       "5"
      ]
     },
     "execution_count": 110,
     "metadata": {},
     "output_type": "execute_result"
    }
   ],
   "source": [
    "# Storage\n",
    "# TODO: Ver si conviene ir logarítmicamente, o cómo. Que hago con el 512? Hay que probar de las dos formas\n",
    "# La otra es asignarle un número entero\n",
    "# No debería tener un 0?\n",
    "def getCapacity(str):\n",
    "    my_list = [ '32GB', '64GB', '128GB', '256GB', '8GB', '16GB', '4GB', '512MB']\n",
    "    to_replace = [  32,     64,     128,     256,     8,     16,     4,     0.512 ]\n",
    "    if str in my_list:\n",
    "        return to_replace[my_list.index(str)]\n",
    "    else:\n",
    "        return 0\n",
    "getCapacity('32GB') # Test\n",
    "def getCapacityCat(str):\n",
    "    my_list = [ '32GB', '64GB', '128GB', '256GB', '8GB', '16GB', '4GB', '512MB']\n",
    "    to_replace = [  5,     6,     7,     8,     3,     4,     2,     1 ]\n",
    "    if str in my_list:\n",
    "        return to_replace[my_list.index(str)]\n",
    "    else:\n",
    "        return 0\n",
    "getCapacity('32GB') # Test\n",
    "getCapacityCat('32GB') # Test"
   ]
  },
  {
   "cell_type": "code",
   "execution_count": 111,
   "metadata": {
    "collapsed": true
   },
   "outputs": [],
   "source": [
    "addStorage = True"
   ]
  },
  {
   "cell_type": "code",
   "execution_count": 145,
   "metadata": {},
   "outputs": [
    {
     "name": "stdout",
     "output_type": "stream",
     "text": [
      "<class 'pandas.core.frame.DataFrame'>\n",
      "Index: 19414 entries, 0566e9c1 to 824fa9e3\n",
      "Data columns (total 2 columns):\n",
      "label          19414 non-null int64\n",
      "resultKnown    19414 non-null int64\n",
      "dtypes: int64(2)\n",
      "memory usage: 455.0+ KB\n"
     ]
    }
   ],
   "source": [
    "knownLabels.info()"
   ]
  },
  {
   "cell_type": "code",
   "execution_count": 112,
   "metadata": {
    "collapsed": true
   },
   "outputs": [],
   "source": [
    "if addStorage == True:\n",
    "    # Ojo con los que no son condition...\n",
    "    storage_temp = input_train['storage'].apply(lambda x: getCapacity(x))\n",
    "    storage_count = pd.get_dummies(storage_temp, dummy_na=False, prefix='storage_count') # Si pongo true me genera una columna más con los nan\n",
    "    storage_count['person'] = input_train['person'] # Agrego una columna\n",
    "    storage_count = storage_count.set_index('person')\n",
    "    storage_count = storage_count.groupby('person') \n",
    "    storage_count = storage_count.apply(lambda x: x.sum())\n",
    "    new_vector_features = new_vector_features.join(storage_count, on = 'person', how = 'left').drop( 'storage_count_0.0', axis = 1) # El 0 es interacciones sin storage\n",
    "\n",
    "    # Normalizar?\n",
    "    # Varianza y valor medio?"
   ]
  },
  {
   "cell_type": "code",
   "execution_count": 113,
   "metadata": {
    "collapsed": true
   },
   "outputs": [],
   "source": [
    "if addStorage == True:\n",
    "    storage_temp = input_train['storage'].apply(lambda x: getCapacityCat(x))\n",
    "    storage_temp_mean = pd.DataFrame(storage_temp.rename('storage_mean'))\n",
    "    storage_temp_mean['person'] = input_train['person']\n",
    "    storage_temp_mean = storage_temp_mean.set_index('person')\n",
    "    storage_temp_mean = storage_temp_mean.groupby('person')\n",
    "    storage_temp_mean = storage_temp_mean.apply(lambda x:x.mean())\n",
    "    new_vector_features = new_vector_features.join(storage_temp_mean, on = 'person', how = 'left')\n",
    "    new_vector_features['storage_mean'].fillna(0, inplace=True) # Si son todos nan pone un 6"
   ]
  },
  {
   "cell_type": "code",
   "execution_count": 114,
   "metadata": {
    "collapsed": true
   },
   "outputs": [],
   "source": [
    "if addStorage == True:\n",
    "    storage_temp = input_train['storage'].apply(lambda x: getCapacityCat(x))\n",
    "    storage_temp_var = pd.DataFrame(storage_temp.rename('storage_var'))\n",
    "    storage_temp_var['person'] = input_train['person']\n",
    "    storage_temp_var = storage_temp_var.set_index('person')\n",
    "    storage_temp_var = storage_temp_var.groupby('person')\n",
    "    storage_temp_var = storage_temp_var.apply(lambda x:x.var())\n",
    "    new_vector_features = new_vector_features.join(storage_temp_var, on = 'person', how = 'left')\n",
    "    new_vector_features['storage_var'].fillna(0, inplace=True) # Si son todos nan pone un 6"
   ]
  },
  {
   "cell_type": "code",
   "execution_count": null,
   "metadata": {
    "collapsed": true
   },
   "outputs": [],
   "source": []
  },
  {
   "cell_type": "code",
   "execution_count": 115,
   "metadata": {
    "_uuid": "746d574101757ba1bf43588db00bf44175c9e726",
    "collapsed": true
   },
   "outputs": [],
   "source": [
    "# Qué hacer con color?"
   ]
  },
  {
   "cell_type": "code",
   "execution_count": 116,
   "metadata": {
    "_uuid": "c635db8b3c88c3ea8e668dee1393ffcc63254e98",
    "collapsed": true
   },
   "outputs": [],
   "source": [
    "# Qué hacer con respecto a la campaña:\n",
    "# Qué hacer con search_term, staticpage, campaign_source, search_engine\n",
    "# Channel"
   ]
  },
  {
   "cell_type": "markdown",
   "metadata": {},
   "source": [
    "## Feature de Channel "
   ]
  },
  {
   "cell_type": "code",
   "execution_count": 117,
   "metadata": {},
   "outputs": [
    {
     "name": "stdout",
     "output_type": "stream",
     "text": [
      "[nan 'Referral' 'Direct' 'Paid' 'Organic' 'Social' 'Email' 'Unknown']\n"
     ]
    }
   ],
   "source": [
    "print(input_train['channel'].unique())"
   ]
  },
  {
   "cell_type": "code",
   "execution_count": 120,
   "metadata": {},
   "outputs": [],
   "source": [
    "# Básico: Creo un histograma de eventos\n",
    "count_channel = pd.get_dummies(input_train['channel'], dummy_na=False, prefix = 'channel') # Convierto a One Hot encoding, el último evita NaN\n",
    "count_channel['person'] = input_train['person'] # Agrego una columna\n",
    "count_channel = count_channel.set_index('person')\n",
    "#count_events.groupby('person').hist(bins = 3)\n",
    "count_channel = count_channel.groupby('person') \n",
    "\n",
    "count_channel = count_channel.apply(lambda x: x.sum())\n",
    "#Por las dudas, si quiero seleccionar la columna NaN, tengo que poner count_events[np.nan]\n",
    "\n",
    "# Agregar al vector de features los que crea necesarios\n",
    "new_vector_features = new_vector_features.join(count_channel, on = 'person', how = 'left')"
   ]
  },
  {
   "cell_type": "code",
   "execution_count": 121,
   "metadata": {
    "_uuid": "d59a8bc2aeafe6e09d6df801a52a9208957c54f1",
    "collapsed": true
   },
   "outputs": [],
   "source": [
    "# New vs Returning\n",
    "# No hay un New por cada persona, pero anda por ahí (19414 vs 19126) y puede haber varios returning\n",
    "#input_train[input_train['new_vs_returning'] =='Returning']['person'].value_counts()\n",
    "#input_train[input_train['event'] =='visited site']['person'].value_counts()"
   ]
  },
  {
   "cell_type": "code",
   "execution_count": 122,
   "metadata": {
    "_uuid": "b8c10cc78409b6a2eb6b1b370a634c83c3972425",
    "collapsed": true
   },
   "outputs": [],
   "source": [
    "# Relativo a la ubicación: \n",
    "#   Qué hacer con city, region, country"
   ]
  },
  {
   "cell_type": "code",
   "execution_count": 123,
   "metadata": {
    "_uuid": "5479978221b4b3670efad7b1552a23b1e7586491",
    "collapsed": true
   },
   "outputs": [],
   "source": [
    "# Relativo al sistema operativo:\n",
    "#   Qué hacer con device_type, screen_resolution, operative_system_version, browser_version"
   ]
  },
  {
   "cell_type": "markdown",
   "metadata": {},
   "source": [
    "## Feature de device type"
   ]
  },
  {
   "cell_type": "code",
   "execution_count": 124,
   "metadata": {
    "collapsed": true
   },
   "outputs": [],
   "source": [
    "addDeviceType = True"
   ]
  },
  {
   "cell_type": "code",
   "execution_count": 125,
   "metadata": {
    "collapsed": true
   },
   "outputs": [],
   "source": [
    "if addDeviceType == True:\n",
    "    # Básico: Creo un histograma de eventos\n",
    "    count_device_type = pd.get_dummies(input_train['device_type'], dummy_na=False, prefix='device_type') # Convierto a One Hot encoding, el último evita NaN\n",
    "    count_device_type['person'] = input_train['person'] # Agrego una columna\n",
    "    count_device_type = count_device_type.set_index('person')\n",
    "    #one_hot_events.groupby('person').hist(bins = 3)\n",
    "    count_device_type = count_device_type.groupby('person') \n",
    "\n",
    "    count_device_type = count_device_type.apply(lambda x: x.sum())\n",
    "\n",
    "    #count_device_type['count_device_type'] = one_hot_weekday[False]\n",
    "    #count_device_type['count_device_type'] = one_hot_weekday[True]\n",
    "    #count_device_type = count_device_type.drop(columns = [False, True])\n",
    "\n",
    "    #one_hot_weekday['weekDay' = one_hot_weekday[False]\n",
    "    #Por las dudas, si quiero seleccionar la columna NaN, tengo que poner one_hot_events[np.nan]\n",
    "\n",
    "\n",
    "    # Agregar al vector de features los que crea necesarios\n",
    "    new_vector_features = new_vector_features.join(count_device_type, on = 'person', how = 'left')"
   ]
  },
  {
   "cell_type": "code",
   "execution_count": 127,
   "metadata": {
    "scrolled": false
   },
   "outputs": [],
   "source": [
    "if addDeviceType == True:\n",
    "    # Agrego los valores anteriores porcentualmente\n",
    "    count_device_type_total = count_device_type.sum(axis = 1)\n",
    "    count_device_type_perc = count_device_type.copy()[[]] # Creo dataframe vacío con los mismos índices\n",
    "    count_device_type_perc['perc_computer'] = pd.DataFrame(count_device_type.device_type_Computer/count_device_type_total)\n",
    "    count_device_type_perc['perc_tablet'] = count_device_type.device_type_Tablet/count_device_type_total\n",
    "    count_device_type_perc['perc_smartphone'] = count_device_type.device_type_Smartphone/count_device_type_total\n",
    "    count_device_type_perc['perc_unknown'] = count_device_type.device_type_Unknown/count_device_type_total\n",
    "\n",
    "    new_vector_features = new_vector_features.join(count_device_type_perc, on = 'person', how = 'left')\n",
    "    new_vector_features = new_vector_features.fillna(0)"
   ]
  },
  {
   "cell_type": "markdown",
   "metadata": {},
   "source": [
    "## Feature "
   ]
  },
  {
   "cell_type": "code",
   "execution_count": null,
   "metadata": {
    "collapsed": true
   },
   "outputs": [],
   "source": []
  },
  {
   "cell_type": "code",
   "execution_count": 128,
   "metadata": {
    "collapsed": true
   },
   "outputs": [],
   "source": [
    "#count_device_type[(count_device_type.Computer>0) * (count_device_type.Smartphone>0)]"
   ]
  },
  {
   "cell_type": "code",
   "execution_count": 129,
   "metadata": {
    "collapsed": true,
    "scrolled": true
   },
   "outputs": [],
   "source": [
    "#count_device_type_total[(count_device_type.Computer>0) * (count_device_type.Smartphone>0)].head()"
   ]
  },
  {
   "cell_type": "code",
   "execution_count": 130,
   "metadata": {
    "_uuid": "9742d7b6d10ce9fad184ee26fbdd55afc98d195d"
   },
   "outputs": [
    {
     "data": {
      "text/html": [
       "<div>\n",
       "<style scoped>\n",
       "    .dataframe tbody tr th:only-of-type {\n",
       "        vertical-align: middle;\n",
       "    }\n",
       "\n",
       "    .dataframe tbody tr th {\n",
       "        vertical-align: top;\n",
       "    }\n",
       "\n",
       "    .dataframe thead th {\n",
       "        text-align: right;\n",
       "    }\n",
       "</style>\n",
       "<table border=\"1\" class=\"dataframe\">\n",
       "  <thead>\n",
       "    <tr style=\"text-align: right;\">\n",
       "      <th></th>\n",
       "      <th>label</th>\n",
       "      <th>resultKnown</th>\n",
       "      <th>timeDelta</th>\n",
       "      <th>last_inter_to_june</th>\n",
       "      <th>first_inter_to_june</th>\n",
       "      <th>interactions</th>\n",
       "      <th>isNotWeekend</th>\n",
       "      <th>isWeekend</th>\n",
       "      <th>isFortnite</th>\n",
       "      <th>isNotFortnite</th>\n",
       "      <th>...</th>\n",
       "      <th>channel_Social</th>\n",
       "      <th>channel_Unknown</th>\n",
       "      <th>device_type_Computer</th>\n",
       "      <th>device_type_Smartphone</th>\n",
       "      <th>device_type_Tablet</th>\n",
       "      <th>device_type_Unknown</th>\n",
       "      <th>perc_computer</th>\n",
       "      <th>perc_tablet</th>\n",
       "      <th>perc_smartphone</th>\n",
       "      <th>perc_unknown</th>\n",
       "    </tr>\n",
       "    <tr>\n",
       "      <th>person</th>\n",
       "      <th></th>\n",
       "      <th></th>\n",
       "      <th></th>\n",
       "      <th></th>\n",
       "      <th></th>\n",
       "      <th></th>\n",
       "      <th></th>\n",
       "      <th></th>\n",
       "      <th></th>\n",
       "      <th></th>\n",
       "      <th></th>\n",
       "      <th></th>\n",
       "      <th></th>\n",
       "      <th></th>\n",
       "      <th></th>\n",
       "      <th></th>\n",
       "      <th></th>\n",
       "      <th></th>\n",
       "      <th></th>\n",
       "      <th></th>\n",
       "      <th></th>\n",
       "    </tr>\n",
       "  </thead>\n",
       "  <tbody>\n",
       "    <tr>\n",
       "      <th>0566e9c1</th>\n",
       "      <td>0</td>\n",
       "      <td>1</td>\n",
       "      <td>772618.0</td>\n",
       "      <td>26916.0</td>\n",
       "      <td>799534.0</td>\n",
       "      <td>68</td>\n",
       "      <td>5</td>\n",
       "      <td>63</td>\n",
       "      <td>68</td>\n",
       "      <td>0</td>\n",
       "      <td>...</td>\n",
       "      <td>0</td>\n",
       "      <td>0</td>\n",
       "      <td>0</td>\n",
       "      <td>17</td>\n",
       "      <td>0</td>\n",
       "      <td>0</td>\n",
       "      <td>0.0</td>\n",
       "      <td>0.0</td>\n",
       "      <td>1.0</td>\n",
       "      <td>0.0</td>\n",
       "    </tr>\n",
       "    <tr>\n",
       "      <th>6ec7ee77</th>\n",
       "      <td>0</td>\n",
       "      <td>1</td>\n",
       "      <td>0.0</td>\n",
       "      <td>336876.0</td>\n",
       "      <td>336876.0</td>\n",
       "      <td>2</td>\n",
       "      <td>0</td>\n",
       "      <td>2</td>\n",
       "      <td>2</td>\n",
       "      <td>0</td>\n",
       "      <td>...</td>\n",
       "      <td>0</td>\n",
       "      <td>0</td>\n",
       "      <td>0</td>\n",
       "      <td>1</td>\n",
       "      <td>0</td>\n",
       "      <td>0</td>\n",
       "      <td>0.0</td>\n",
       "      <td>0.0</td>\n",
       "      <td>1.0</td>\n",
       "      <td>0.0</td>\n",
       "    </tr>\n",
       "    <tr>\n",
       "      <th>abe7a2fb</th>\n",
       "      <td>0</td>\n",
       "      <td>1</td>\n",
       "      <td>9335392.0</td>\n",
       "      <td>174046.0</td>\n",
       "      <td>9509438.0</td>\n",
       "      <td>96</td>\n",
       "      <td>32</td>\n",
       "      <td>64</td>\n",
       "      <td>32</td>\n",
       "      <td>64</td>\n",
       "      <td>...</td>\n",
       "      <td>2</td>\n",
       "      <td>0</td>\n",
       "      <td>0</td>\n",
       "      <td>22</td>\n",
       "      <td>0</td>\n",
       "      <td>0</td>\n",
       "      <td>0.0</td>\n",
       "      <td>0.0</td>\n",
       "      <td>1.0</td>\n",
       "      <td>0.0</td>\n",
       "    </tr>\n",
       "    <tr>\n",
       "      <th>34728364</th>\n",
       "      <td>0</td>\n",
       "      <td>1</td>\n",
       "      <td>742549.0</td>\n",
       "      <td>388950.0</td>\n",
       "      <td>1131499.0</td>\n",
       "      <td>37</td>\n",
       "      <td>4</td>\n",
       "      <td>33</td>\n",
       "      <td>37</td>\n",
       "      <td>0</td>\n",
       "      <td>...</td>\n",
       "      <td>0</td>\n",
       "      <td>0</td>\n",
       "      <td>0</td>\n",
       "      <td>4</td>\n",
       "      <td>0</td>\n",
       "      <td>0</td>\n",
       "      <td>0.0</td>\n",
       "      <td>0.0</td>\n",
       "      <td>1.0</td>\n",
       "      <td>0.0</td>\n",
       "    </tr>\n",
       "    <tr>\n",
       "      <th>87ed62de</th>\n",
       "      <td>0</td>\n",
       "      <td>1</td>\n",
       "      <td>1409.0</td>\n",
       "      <td>1123199.0</td>\n",
       "      <td>1124608.0</td>\n",
       "      <td>17</td>\n",
       "      <td>1</td>\n",
       "      <td>16</td>\n",
       "      <td>17</td>\n",
       "      <td>0</td>\n",
       "      <td>...</td>\n",
       "      <td>0</td>\n",
       "      <td>0</td>\n",
       "      <td>1</td>\n",
       "      <td>0</td>\n",
       "      <td>0</td>\n",
       "      <td>0</td>\n",
       "      <td>1.0</td>\n",
       "      <td>0.0</td>\n",
       "      <td>0.0</td>\n",
       "      <td>0.0</td>\n",
       "    </tr>\n",
       "  </tbody>\n",
       "</table>\n",
       "<p>5 rows × 69 columns</p>\n",
       "</div>"
      ],
      "text/plain": [
       "          label  resultKnown  timeDelta  last_inter_to_june  \\\n",
       "person                                                        \n",
       "0566e9c1      0            1   772618.0             26916.0   \n",
       "6ec7ee77      0            1        0.0            336876.0   \n",
       "abe7a2fb      0            1  9335392.0            174046.0   \n",
       "34728364      0            1   742549.0            388950.0   \n",
       "87ed62de      0            1     1409.0           1123199.0   \n",
       "\n",
       "          first_inter_to_june  interactions  isNotWeekend  isWeekend  \\\n",
       "person                                                                 \n",
       "0566e9c1             799534.0            68             5         63   \n",
       "6ec7ee77             336876.0             2             0          2   \n",
       "abe7a2fb            9509438.0            96            32         64   \n",
       "34728364            1131499.0            37             4         33   \n",
       "87ed62de            1124608.0            17             1         16   \n",
       "\n",
       "          isFortnite  isNotFortnite      ...       channel_Social  \\\n",
       "person                                   ...                        \n",
       "0566e9c1          68              0      ...                    0   \n",
       "6ec7ee77           2              0      ...                    0   \n",
       "abe7a2fb          32             64      ...                    2   \n",
       "34728364          37              0      ...                    0   \n",
       "87ed62de          17              0      ...                    0   \n",
       "\n",
       "          channel_Unknown  device_type_Computer  device_type_Smartphone  \\\n",
       "person                                                                    \n",
       "0566e9c1                0                     0                      17   \n",
       "6ec7ee77                0                     0                       1   \n",
       "abe7a2fb                0                     0                      22   \n",
       "34728364                0                     0                       4   \n",
       "87ed62de                0                     1                       0   \n",
       "\n",
       "          device_type_Tablet  device_type_Unknown  perc_computer  perc_tablet  \\\n",
       "person                                                                          \n",
       "0566e9c1                   0                    0            0.0          0.0   \n",
       "6ec7ee77                   0                    0            0.0          0.0   \n",
       "abe7a2fb                   0                    0            0.0          0.0   \n",
       "34728364                   0                    0            0.0          0.0   \n",
       "87ed62de                   0                    0            1.0          0.0   \n",
       "\n",
       "          perc_smartphone  perc_unknown  \n",
       "person                                   \n",
       "0566e9c1              1.0           0.0  \n",
       "6ec7ee77              1.0           0.0  \n",
       "abe7a2fb              1.0           0.0  \n",
       "34728364              1.0           0.0  \n",
       "87ed62de              0.0           0.0  \n",
       "\n",
       "[5 rows x 69 columns]"
      ]
     },
     "execution_count": 130,
     "metadata": {},
     "output_type": "execute_result"
    }
   ],
   "source": [
    "new_vector_features.head()"
   ]
  },
  {
   "cell_type": "code",
   "execution_count": 131,
   "metadata": {
    "_uuid": "b216949fcd4416c23c9d5d624233bb02ac88a8ea"
   },
   "outputs": [
    {
     "data": {
      "text/html": [
       "<div>\n",
       "<style scoped>\n",
       "    .dataframe tbody tr th:only-of-type {\n",
       "        vertical-align: middle;\n",
       "    }\n",
       "\n",
       "    .dataframe tbody tr th {\n",
       "        vertical-align: top;\n",
       "    }\n",
       "\n",
       "    .dataframe thead th {\n",
       "        text-align: right;\n",
       "    }\n",
       "</style>\n",
       "<table border=\"1\" class=\"dataframe\">\n",
       "  <thead>\n",
       "    <tr style=\"text-align: right;\">\n",
       "      <th></th>\n",
       "      <th>timestamp</th>\n",
       "      <th>event</th>\n",
       "    </tr>\n",
       "  </thead>\n",
       "  <tbody>\n",
       "    <tr>\n",
       "      <th>1507286</th>\n",
       "      <td>2018-05-17 12:27:47</td>\n",
       "      <td>checkout</td>\n",
       "    </tr>\n",
       "    <tr>\n",
       "      <th>2336761</th>\n",
       "      <td>2018-05-17 16:21:54</td>\n",
       "      <td>visited site</td>\n",
       "    </tr>\n",
       "    <tr>\n",
       "      <th>2122051</th>\n",
       "      <td>2018-05-17 16:22:06</td>\n",
       "      <td>generic listing</td>\n",
       "    </tr>\n",
       "    <tr>\n",
       "      <th>1505383</th>\n",
       "      <td>2018-05-17 16:28:37</td>\n",
       "      <td>checkout</td>\n",
       "    </tr>\n",
       "    <tr>\n",
       "      <th>2336760</th>\n",
       "      <td>2018-05-17 13:44:59</td>\n",
       "      <td>visited site</td>\n",
       "    </tr>\n",
       "  </tbody>\n",
       "</table>\n",
       "</div>"
      ],
      "text/plain": [
       "                  timestamp            event\n",
       "1507286 2018-05-17 12:27:47         checkout\n",
       "2336761 2018-05-17 16:21:54     visited site\n",
       "2122051 2018-05-17 16:22:06  generic listing\n",
       "1505383 2018-05-17 16:28:37         checkout\n",
       "2336760 2018-05-17 13:44:59     visited site"
      ]
     },
     "execution_count": 131,
     "metadata": {},
     "output_type": "execute_result"
    }
   ],
   "source": [
    "input_train.iloc[:,0:2].head()"
   ]
  },
  {
   "cell_type": "code",
   "execution_count": 132,
   "metadata": {
    "_uuid": "b907e36ae80ac7cee4f21e7ec74b5b32de59186f"
   },
   "outputs": [
    {
     "data": {
      "text/html": [
       "<div>\n",
       "<style scoped>\n",
       "    .dataframe tbody tr th:only-of-type {\n",
       "        vertical-align: middle;\n",
       "    }\n",
       "\n",
       "    .dataframe tbody tr th {\n",
       "        vertical-align: top;\n",
       "    }\n",
       "\n",
       "    .dataframe thead th {\n",
       "        text-align: right;\n",
       "    }\n",
       "</style>\n",
       "<table border=\"1\" class=\"dataframe\">\n",
       "  <thead>\n",
       "    <tr style=\"text-align: right;\">\n",
       "      <th></th>\n",
       "      <th>event</th>\n",
       "      <th>url</th>\n",
       "      <th>timestamp</th>\n",
       "    </tr>\n",
       "  </thead>\n",
       "  <tbody>\n",
       "    <tr>\n",
       "      <th>227610</th>\n",
       "      <td>ad campaign hit</td>\n",
       "      <td>/comprar/iphone/6s</td>\n",
       "      <td>2018-05-23 01:09:18</td>\n",
       "    </tr>\n",
       "    <tr>\n",
       "      <th>100351</th>\n",
       "      <td>ad campaign hit</td>\n",
       "      <td>/comprar/samsung/galaxy-s6-edge-plus</td>\n",
       "      <td>2018-05-08 23:30:44</td>\n",
       "    </tr>\n",
       "    <tr>\n",
       "      <th>172395</th>\n",
       "      <td>ad campaign hit</td>\n",
       "      <td>/comprar/iphone</td>\n",
       "      <td>2018-05-31 19:51:49</td>\n",
       "    </tr>\n",
       "    <tr>\n",
       "      <th>62056</th>\n",
       "      <td>ad campaign hit</td>\n",
       "      <td>/comprar/iphone</td>\n",
       "      <td>2018-05-29 01:58:14</td>\n",
       "    </tr>\n",
       "    <tr>\n",
       "      <th>208388</th>\n",
       "      <td>ad campaign hit</td>\n",
       "      <td>/comprar/iphone/7-plus</td>\n",
       "      <td>2018-05-20 01:10:39</td>\n",
       "    </tr>\n",
       "    <tr>\n",
       "      <th>182822</th>\n",
       "      <td>ad campaign hit</td>\n",
       "      <td>/comprar/iphone/6-plus</td>\n",
       "      <td>2018-05-23 01:09:25</td>\n",
       "    </tr>\n",
       "    <tr>\n",
       "      <th>208774</th>\n",
       "      <td>ad campaign hit</td>\n",
       "      <td>/comprar/iphone/iphone-6s-plus</td>\n",
       "      <td>2018-05-20 01:01:27</td>\n",
       "    </tr>\n",
       "    <tr>\n",
       "      <th>114267</th>\n",
       "      <td>ad campaign hit</td>\n",
       "      <td>/comprar/samsung/galaxy-s7-edge</td>\n",
       "      <td>2018-05-09 00:25:05</td>\n",
       "    </tr>\n",
       "    <tr>\n",
       "      <th>210999</th>\n",
       "      <td>ad campaign hit</td>\n",
       "      <td>/comprar/samsung/galaxy-s6-edge-plus</td>\n",
       "      <td>2018-05-22 00:55:28</td>\n",
       "    </tr>\n",
       "    <tr>\n",
       "      <th>67536</th>\n",
       "      <td>ad campaign hit</td>\n",
       "      <td>/comprar/samsung/galaxy-s6-flat</td>\n",
       "      <td>2018-05-11 02:23:38</td>\n",
       "    </tr>\n",
       "  </tbody>\n",
       "</table>\n",
       "</div>"
      ],
      "text/plain": [
       "                  event                                   url  \\\n",
       "227610  ad campaign hit                    /comprar/iphone/6s   \n",
       "100351  ad campaign hit  /comprar/samsung/galaxy-s6-edge-plus   \n",
       "172395  ad campaign hit                       /comprar/iphone   \n",
       "62056   ad campaign hit                       /comprar/iphone   \n",
       "208388  ad campaign hit                /comprar/iphone/7-plus   \n",
       "182822  ad campaign hit                /comprar/iphone/6-plus   \n",
       "208774  ad campaign hit        /comprar/iphone/iphone-6s-plus   \n",
       "114267  ad campaign hit       /comprar/samsung/galaxy-s7-edge   \n",
       "210999  ad campaign hit  /comprar/samsung/galaxy-s6-edge-plus   \n",
       "67536   ad campaign hit       /comprar/samsung/galaxy-s6-flat   \n",
       "\n",
       "                 timestamp  \n",
       "227610 2018-05-23 01:09:18  \n",
       "100351 2018-05-08 23:30:44  \n",
       "172395 2018-05-31 19:51:49  \n",
       "62056  2018-05-29 01:58:14  \n",
       "208388 2018-05-20 01:10:39  \n",
       "182822 2018-05-23 01:09:25  \n",
       "208774 2018-05-20 01:01:27  \n",
       "114267 2018-05-09 00:25:05  \n",
       "210999 2018-05-22 00:55:28  \n",
       "67536  2018-05-11 02:23:38  "
      ]
     },
     "execution_count": 132,
     "metadata": {},
     "output_type": "execute_result"
    }
   ],
   "source": [
    "input_train[['event', 'url', 'timestamp']][~input_train.url.isnull()].head(10)"
   ]
  },
  {
   "cell_type": "code",
   "execution_count": 133,
   "metadata": {
    "_uuid": "35079b1c77d2d9d3f5d0d5f36e7644224a75a12a"
   },
   "outputs": [
    {
     "data": {
      "text/plain": [
       "array(['ad campaign hit'], dtype=object)"
      ]
     },
     "execution_count": 133,
     "metadata": {},
     "output_type": "execute_result"
    }
   ],
   "source": [
    "input_train['event'][~input_train.url.isnull()].unique()"
   ]
  },
  {
   "cell_type": "code",
   "execution_count": 134,
   "metadata": {
    "_uuid": "af4231b09fef8bd2b2c2b52025813b521ab99f23"
   },
   "outputs": [
    {
     "data": {
      "text/plain": [
       "array(['/comprar/iphone/6s', '/comprar/samsung/galaxy-s6-edge-plus',\n",
       "       '/comprar/iphone', '/comprar/iphone/7-plus',\n",
       "       '/comprar/iphone/6-plus', '/comprar/iphone/iphone-6s-plus',\n",
       "       '/comprar/samsung/galaxy-s7-edge',\n",
       "       '/comprar/samsung/galaxy-s6-flat', '/comprar/samsung',\n",
       "       '/comprar/samsung/galaxy-s8-plus', '/comprar/samsung/galaxy-s8',\n",
       "       '/comprar/iphone/', '/comprar/samsung/a3-duos', '/',\n",
       "       '/comprar/samsung/galaxy-s5', '/comprar/lg/g3-d855',\n",
       "       '/comprar/iphone/iphone-se',\n",
       "       '/comprar/samsung/samsung-gran-prime-duos-tv',\n",
       "       '/comprar/samsung/galaxy-s7', '/comprar/samsung/galaxy-win-duos',\n",
       "       '/comprar/motorola/moto-g-2a-geracao', '/comprar/iphone/iphone-5c',\n",
       "       '/comprar/samsung/galaxy-j1-mini',\n",
       "       '/comprar/samsung/galaxy-s4-mini-duos', '/comprar/motorola',\n",
       "       '/comprar/samsung/galaxy-s5-duos', '/comprar/motorola/',\n",
       "       '/comprar/samsung/galaxy-j7-prime', '/comprar/iphone/6',\n",
       "       '/comprar/iphone/iphone-5s',\n",
       "       '/comprar/motorola/moto-x-play-4g-dual', '/vender/',\n",
       "       '/comprar/samsung/a5', '/comprar/samsung/galaxy-core-plus-duos-tv',\n",
       "       '/comprar/samsung/samsung-galaxy-j2-4g-duos-tv',\n",
       "       '/comprar/sony/xperia-z3-tv', '/comprar/iphone/iphone-5',\n",
       "       '/comprar/samsung/galaxy-j7', '/comprar/asus/zenfone-2',\n",
       "       '/comprar/samsung/gear-s2', '/comprar/samsung/galaxy-core-2-duos',\n",
       "       '/comprar/samsung/galaxy-s6-edge', '/comprar/samsung/galaxy-j5',\n",
       "       '/comprar/samsung/samsung-galaxy-j3',\n",
       "       '/comprar/samsung/galaxy-e5-4g-duos',\n",
       "       '/comprar/samsung/galaxy-s5-new-edition-duos',\n",
       "       '/comprar/samsung/galaxy-j2-prime-tv',\n",
       "       '/comprar/samsung/galaxy-a7-2017', '/comprar/samsung/galaxy-note-5',\n",
       "       '/comprar/samsung/galaxy-j5-pro', '/comprar/apple/iphone-7-plus',\n",
       "       '/comprar/iphone/7', '/comprar/lg/k10-novo',\n",
       "       '/comprar/samsung/galaxy-note8', '/comprar/motorola/razr-i',\n",
       "       '/comprar/lg/g3-stylus', '/comprar/motorola/moto-x-1a-geracao',\n",
       "       '/comprar/motorola/moto-g5-plus', '/comprar/samsung/galaxy-a5-2017',\n",
       "       '/comprar/samsung/galaxy-j7-2016-metal',\n",
       "       '/comprar/samsung/galaxy-j5-prime',\n",
       "       '/comprar/motorola/motorola-moto-g-3a-geracao',\n",
       "       '/comprar/motorola/moto-g4-play-dtv',\n",
       "       '/comprar/motorola/moto-g4-plus', '/comprar/ipad/ipad-mini-4-wifi',\n",
       "       '/comprar/ipad/ipad-mini-wi-fi-4g',\n",
       "       '/comprar/samsung/galaxy-note-4', '/comprar/lg/lg-g5-se',\n",
       "       '/comprar/lg/lg-x-screen', '/comprar/iphone/iphone-4g',\n",
       "       '/comprar/samsung/galaxy-j5-2016-metal',\n",
       "       '/comprar/samsung/galaxy-a7-2016', '/comprar/iphone/iphone-4s',\n",
       "       '/comprar/sony/xperia-z2', '/comprar/sony/sony-z3-compact',\n",
       "       '/comprar/lg/g4-beat-h736', '/comprar/sony/xperia-z3-plus',\n",
       "       '/comprar/sony/xperia-m4-aqua-dual', '/comprar/samsung/a7',\n",
       "       '/comprar/samsung/', '/comprar/lenovo/vibe-k5',\n",
       "       '/comprar/motorola/motorola-moto-g-2a-geracao-4g-dual',\n",
       "       '/comprar/samsung/galaxy-grand-duos-i9082',\n",
       "       '/comprar/samsung/galaxy-s4-i9505',\n",
       "       '/comprar/samsung/galaxy-s4-mini', '/comprar/motorola/moto-g5',\n",
       "       '/comprar/lg/g4-h818p', '/comprar/quantum/go-4g',\n",
       "       '/comprar/samsung/galaxy-s3-i9300',\n",
       "       '/comprar/samsung/galaxy-s4-i9500',\n",
       "       '/comprar/motorola/moto-x-2a-geracao', '/comprar/asus/zenfone-5',\n",
       "       '/comprar/samsung/galaxy-s4-i9515',\n",
       "       '/comprar/samsung/galaxy-s3-mini', '/comprar/asus/zenfone-6',\n",
       "       '/comprar/samsung/galaxy-gran-neo-duos',\n",
       "       '/comprar/samsung/galaxy-win-2-duos-tv',\n",
       "       '/comprar/motorola/moto-z2-play', '/comprar/motorola/moto-x-force',\n",
       "       '/comprar/lg/lg-k10', '/comprar/lg/l-prime-d337',\n",
       "       '/comprar/samsung/galaxy-j1-2016', '/comprar/motorola/moto-z',\n",
       "       '/comprar/samsung/galaxy-s5-mini-duos',\n",
       "       '/comprar/motorola/moto-maxx-2a-geracao',\n",
       "       '/comprar/samsung/galaxy-note-4-edge',\n",
       "       '/comprar/motorola/moto-x-style',\n",
       "       '/comprar/samsung/galaxy-gran-prime-3g-duos',\n",
       "       '/comprar/lg/prime-plus-h522', '/comprar/iphone/iphone-x',\n",
       "       '/comprar/samsung/galaxy-a5-2016', '/comprar/lg/g3-beat-d724',\n",
       "       '/comprar/samsung/galaxy-note-3', '/comprar/motorola/moto-g4-dtv',\n",
       "       '/comprar/quantum/you', '/comprar/lg/lg-k8',\n",
       "       '/comprar/motorola/moto-g4-play',\n",
       "       '/comprar/motorola/moto-e-2a-geracao-4g-dual',\n",
       "       '/comprar/samsung/samsung-galaxy-j2-4g-duos',\n",
       "       '/comprar/samsung/galaxy-gan-2-duos-tv',\n",
       "       '/comprar/samsung/galaxy-a9-pro-2016',\n",
       "       '/comprar/sony/xperia-z3-dual', '/comprar/motorola/moto-z-play',\n",
       "       '/comprar/sony/xperia-z-ultra/', '/comprar/samsung/galaxy-a3-2016',\n",
       "       '/comprar/samsung/galaxy-on-7', '/comprar/motorola/moto-x',\n",
       "       '/comprar/samsung/galaxy-s3-slim-duos',\n",
       "       '/comprar/asus/zenfone-3-max-16gb',\n",
       "       '/comprar/samsung/galaxy-grand-duos-i9082/',\n",
       "       '/comprar/motorola/moto-e-2a-geracao-3g-dual',\n",
       "       '/comprar/samsung/galaxy-note-ii-n7100',\n",
       "       '/comprar/samsung/galaxy-y-duos', '/comprar/ipad/ipad-air-wi-fi',\n",
       "       '/comprar/motorola/moto-g5s-plus',\n",
       "       '/comprar/samsung/galaxy-s3-duos',\n",
       "       '/comprar/motorola/moto-z-power-edition',\n",
       "       '/comprar/sony/xperia-m4-aqua', '/comprar/lg/lg-g4-stylus-h630',\n",
       "       '/comprar/samsung/galaxy-s5/',\n",
       "       '/comprar/lenovo/vibe-a7010-dual-chip',\n",
       "       '/comprar/ofertas/pre-venda-galaxy-s8',\n",
       "       '/comprar/motorola/motorola-moto-g-3a-geracao-hdtv',\n",
       "       '/comprar/motorola/moto-g5s',\n",
       "       '/comprar/samsung/samsung-galaxy-note-3-neo-duos',\n",
       "       '/comprar/motorola/moto-g1a-geracao',\n",
       "       '/comprar/samsung/gran-prime-duos',\n",
       "       '/comprar/samsung/galaxy-s5-new-edition',\n",
       "       '/comprar/samsung/galaxy-gran-neo-plus-duos', '/comprar/samsung/e7',\n",
       "       '/comprar/samsung/galaxy-note-4/', '/comprar/samsung/galaxy-j7-pro',\n",
       "       '/vender/motorola/moto-g5-plus', '/comprar/iphone/iphone-5s/',\n",
       "       '/vender/motorola/moto-z2-play', '/comprar/samsung/galaxy-mega/',\n",
       "       '/comprar/samsung/galaxy-note-3/', '/comprar/lg',\n",
       "       '/comprar/samsung/galaxy-tab-3-101-wifi-3g',\n",
       "       '/comprar/sony/xperia-z5-premium', '/comprar/lg/lg-k-10',\n",
       "       '/comprar/samsung/galaxy-s3-mini/', '/comprar/ipad/air-2-wifi',\n",
       "       '/comprar/ipad/ipad-air-wi-fi-4g', '/comprar/iphone/iphone-8',\n",
       "       '/vender/samsung/galaxy-s5', '/comprar/lg/g4-h815p',\n",
       "       '/comprar/ipad/4-wi-fi', '/comprar/sony',\n",
       "       '/comprar/asus/zenfone-2-deluxe',\n",
       "       '/comprar/samsung/galaxy-tab-e-96-wifi',\n",
       "       '/comprar/quantum/quantum-muv',\n",
       "       '/comprar/samsung/galaxy-tab-a-com-spen-8-wifi-4g',\n",
       "       '/comprar/quantum/quantum-muv-pro', '/comprar/sony/xperia-z3',\n",
       "       '/comprar/ipad/ipad-air-2-4g', '/comprar/lg/lg-k4',\n",
       "       '/comprar/samsung/galaxy-s7-neo', '/comprar/lenovo',\n",
       "       '/comprar/list', '/comprar/samsung/galaxy-tab-s2-8-wifi-4g',\n",
       "       '/comprar/samsung/galaxy-note-ii-n7100/',\n",
       "       '/comprar/apple/iphone-6s-plus',\n",
       "       '/comprar/samsung/galaxy-tab-s2-97-wifi-4g',\n",
       "       '/comprar/asus/zenfone-3-max-32gb', '/comprar/lg/lg-x-power',\n",
       "       '/comprar/ipad/ipad-mini-3-wi-fi-4g',\n",
       "       '/comprar/lg/lg-g4-stylus-hdtv-h540t',\n",
       "       '/vender/motorola/moto-g5s-plus', '/comprar/sony/xperia-z5',\n",
       "       '/comprar/lg/lg-g2-mini-d618', '/comprar/samsung/galaxy-s5-mini',\n",
       "       '/termos-e-condicoes', '/comprar/iphone/iphone-4s/',\n",
       "       '/comprar/ipad/3-wi-fi', '/comprar/lg/lg-nexus-5-d821',\n",
       "       '/comprar/lg/', '/comprar/ipad/ipad-mini-3-wi-fi',\n",
       "       '/comprar/iphone/iphone-8-plus', '/comprar/ipad',\n",
       "       '/comprar/samsung/galaxy-tab-e-7-wifi-3g',\n",
       "       '/comprar/lg/lg-l90-dual-d410', '/comprar/sony/',\n",
       "       '/comprar/lg/lg-l80-dual', '/politica-de-privacidade',\n",
       "       '/comprar/ipad/ipad-mini-2-wi-fi',\n",
       "       '/vender/motorola/motorola-moto-g-2a-geracao-4g-dual',\n",
       "       '/comprar/lg/lg-l70-triple', '/vender/motorola/moto-x-play-4g-dual',\n",
       "       '/vender/samsung/galaxy-s8', '/comprar/lg/lg-g-pro-lite-dual-d685',\n",
       "       '/comprar/ipad/2-wi-fi-3g', '/comprar/samsung/galaxy-s4-mini-duos/',\n",
       "       '/comprar/lg/g2', '/comprar/nokia',\n",
       "       '/comprar/samsung/tablet-galaxy-tab-4-101-wifi-3g',\n",
       "       '/comprar/lg/lg-g2-mini-d618-dual',\n",
       "       '/comprar/samsung/galaxy-tab-e-7-wifi',\n",
       "       '/comprar/motorola/motorola-moto-g-1a-geracao-4g',\n",
       "       '/vender/motorola/moto-e-2a-geracao-4g-dual',\n",
       "       '/comprar/samsung/galaxy-young-2-duos-tv',\n",
       "       '/comprar/asus/zenfone-selfie',\n",
       "       '/comprar/samsung/samsung-galaxy-s-3-neo-duos-i9300i',\n",
       "       '/comprar/asus/zenfone-2-laser', '/comprar/asus/zenfone-go',\n",
       "       '/comprar/samsung/galaxy-mega-duos', '/comprar/ipad/3-wi-fi-4g',\n",
       "       '/vender/lg/g3-d855', '/comprar/quantum/muv-up',\n",
       "       '/comprar/motorola/razr-d3', '/comprar/samsung/gear-fit-2-small',\n",
       "       '/comprar/samsung/gear-fit-2-large', '/comprar/iphone/iphone-5/',\n",
       "       '/vender/motorola/moto-maxx-2a-geracao',\n",
       "       '/comprar/motorola/razr-hd', '/comprar/ipad/ipad-mini-wi-fi',\n",
       "       '/comprar/motorola/razr-hd/', '/comprar/samsung/gear-s3-frontier',\n",
       "       '/vender', '/comprar/lg/nexus-4', '/comprar/asus/asus-live',\n",
       "       '/comprar/apple/iphone-7', '/comprar/motorola/moto-e-1a-geracao',\n",
       "       '/comprar/samsung/galaxy-win-duos/', '/vender/lg/lg-l80-dual',\n",
       "       '/comprar/ipad/ipad-mini-2-wi-fi-4g',\n",
       "       '/comprar/samsung/galaxy-note-n7000', '/vender/lg/optimus-l7-ii'], dtype=object)"
      ]
     },
     "execution_count": 134,
     "metadata": {},
     "output_type": "execute_result"
    }
   ],
   "source": [
    "input_train['url'][~input_train.url.isnull()].unique()"
   ]
  },
  {
   "cell_type": "markdown",
   "metadata": {
    "_uuid": "f60f0448686f241f18bf30141d14880ccf15bc3b"
   },
   "source": [
    "# https://blog.datadive.net/selecting-good-features-part-iii-random-forests/"
   ]
  },
  {
   "cell_type": "markdown",
   "metadata": {
    "_uuid": "02729bf3fb6001ecf39dde9dd7fbb3df133c5f56"
   },
   "source": [
    "# Uso de varias técnicas: https://www.kaggle.com/niklasdonges/end-to-end-project-with-python"
   ]
  },
  {
   "cell_type": "markdown",
   "metadata": {
    "_uuid": "6186e0122bc85a92bc26bfb9f52701569a651249"
   },
   "source": [
    "# Lo usa mal! OJO"
   ]
  },
  {
   "cell_type": "code",
   "execution_count": 135,
   "metadata": {},
   "outputs": [
    {
     "data": {
      "text/html": [
       "<div>\n",
       "<style scoped>\n",
       "    .dataframe tbody tr th:only-of-type {\n",
       "        vertical-align: middle;\n",
       "    }\n",
       "\n",
       "    .dataframe tbody tr th {\n",
       "        vertical-align: top;\n",
       "    }\n",
       "\n",
       "    .dataframe thead th {\n",
       "        text-align: right;\n",
       "    }\n",
       "</style>\n",
       "<table border=\"1\" class=\"dataframe\">\n",
       "  <thead>\n",
       "    <tr style=\"text-align: right;\">\n",
       "      <th></th>\n",
       "      <th>condition</th>\n",
       "      <th>event</th>\n",
       "    </tr>\n",
       "  </thead>\n",
       "  <tbody>\n",
       "    <tr>\n",
       "      <th>1507286</th>\n",
       "      <td>Muito Bom</td>\n",
       "      <td>checkout</td>\n",
       "    </tr>\n",
       "    <tr>\n",
       "      <th>1505383</th>\n",
       "      <td>Bom</td>\n",
       "      <td>checkout</td>\n",
       "    </tr>\n",
       "    <tr>\n",
       "      <th>1507716</th>\n",
       "      <td>Bom</td>\n",
       "      <td>checkout</td>\n",
       "    </tr>\n",
       "    <tr>\n",
       "      <th>208585</th>\n",
       "      <td>Excelente</td>\n",
       "      <td>checkout</td>\n",
       "    </tr>\n",
       "    <tr>\n",
       "      <th>213543</th>\n",
       "      <td>Muito Bom</td>\n",
       "      <td>checkout</td>\n",
       "    </tr>\n",
       "    <tr>\n",
       "      <th>244902</th>\n",
       "      <td>Bom</td>\n",
       "      <td>checkout</td>\n",
       "    </tr>\n",
       "    <tr>\n",
       "      <th>912538</th>\n",
       "      <td>Muito Bom</td>\n",
       "      <td>checkout</td>\n",
       "    </tr>\n",
       "    <tr>\n",
       "      <th>912515</th>\n",
       "      <td>Muito Bom</td>\n",
       "      <td>checkout</td>\n",
       "    </tr>\n",
       "    <tr>\n",
       "      <th>848525</th>\n",
       "      <td>Bom</td>\n",
       "      <td>checkout</td>\n",
       "    </tr>\n",
       "    <tr>\n",
       "      <th>924550</th>\n",
       "      <td>Bom</td>\n",
       "      <td>checkout</td>\n",
       "    </tr>\n",
       "    <tr>\n",
       "      <th>947732</th>\n",
       "      <td>Bom</td>\n",
       "      <td>checkout</td>\n",
       "    </tr>\n",
       "    <tr>\n",
       "      <th>62961</th>\n",
       "      <td>Bom</td>\n",
       "      <td>checkout</td>\n",
       "    </tr>\n",
       "    <tr>\n",
       "      <th>85369</th>\n",
       "      <td>Muito Bom</td>\n",
       "      <td>checkout</td>\n",
       "    </tr>\n",
       "    <tr>\n",
       "      <th>803951</th>\n",
       "      <td>Bom</td>\n",
       "      <td>checkout</td>\n",
       "    </tr>\n",
       "    <tr>\n",
       "      <th>602473</th>\n",
       "      <td>Muito Bom</td>\n",
       "      <td>checkout</td>\n",
       "    </tr>\n",
       "    <tr>\n",
       "      <th>86061</th>\n",
       "      <td>Muito Bom</td>\n",
       "      <td>checkout</td>\n",
       "    </tr>\n",
       "    <tr>\n",
       "      <th>602562</th>\n",
       "      <td>Muito Bom</td>\n",
       "      <td>checkout</td>\n",
       "    </tr>\n",
       "    <tr>\n",
       "      <th>730420</th>\n",
       "      <td>Bom</td>\n",
       "      <td>checkout</td>\n",
       "    </tr>\n",
       "    <tr>\n",
       "      <th>1565277</th>\n",
       "      <td>Bom</td>\n",
       "      <td>checkout</td>\n",
       "    </tr>\n",
       "    <tr>\n",
       "      <th>147839</th>\n",
       "      <td>Bom</td>\n",
       "      <td>checkout</td>\n",
       "    </tr>\n",
       "    <tr>\n",
       "      <th>78841</th>\n",
       "      <td>Muito Bom</td>\n",
       "      <td>checkout</td>\n",
       "    </tr>\n",
       "    <tr>\n",
       "      <th>253667</th>\n",
       "      <td>Bom</td>\n",
       "      <td>checkout</td>\n",
       "    </tr>\n",
       "    <tr>\n",
       "      <th>386148</th>\n",
       "      <td>Muito Bom</td>\n",
       "      <td>checkout</td>\n",
       "    </tr>\n",
       "    <tr>\n",
       "      <th>655990</th>\n",
       "      <td>Bom</td>\n",
       "      <td>checkout</td>\n",
       "    </tr>\n",
       "    <tr>\n",
       "      <th>387949</th>\n",
       "      <td>Bom</td>\n",
       "      <td>checkout</td>\n",
       "    </tr>\n",
       "    <tr>\n",
       "      <th>624905</th>\n",
       "      <td>Muito Bom</td>\n",
       "      <td>checkout</td>\n",
       "    </tr>\n",
       "    <tr>\n",
       "      <th>386992</th>\n",
       "      <td>Muito Bom</td>\n",
       "      <td>checkout</td>\n",
       "    </tr>\n",
       "    <tr>\n",
       "      <th>709063</th>\n",
       "      <td>Bom</td>\n",
       "      <td>checkout</td>\n",
       "    </tr>\n",
       "    <tr>\n",
       "      <th>709062</th>\n",
       "      <td>Bom</td>\n",
       "      <td>checkout</td>\n",
       "    </tr>\n",
       "    <tr>\n",
       "      <th>709061</th>\n",
       "      <td>Bom</td>\n",
       "      <td>checkout</td>\n",
       "    </tr>\n",
       "    <tr>\n",
       "      <th>...</th>\n",
       "      <td>...</td>\n",
       "      <td>...</td>\n",
       "    </tr>\n",
       "    <tr>\n",
       "      <th>91625</th>\n",
       "      <td>Muito Bom</td>\n",
       "      <td>checkout</td>\n",
       "    </tr>\n",
       "    <tr>\n",
       "      <th>349971</th>\n",
       "      <td>Bom</td>\n",
       "      <td>checkout</td>\n",
       "    </tr>\n",
       "    <tr>\n",
       "      <th>228173</th>\n",
       "      <td>Bom</td>\n",
       "      <td>checkout</td>\n",
       "    </tr>\n",
       "    <tr>\n",
       "      <th>242119</th>\n",
       "      <td>Excelente</td>\n",
       "      <td>checkout</td>\n",
       "    </tr>\n",
       "    <tr>\n",
       "      <th>974169</th>\n",
       "      <td>Muito Bom</td>\n",
       "      <td>checkout</td>\n",
       "    </tr>\n",
       "    <tr>\n",
       "      <th>975245</th>\n",
       "      <td>Muito Bom</td>\n",
       "      <td>checkout</td>\n",
       "    </tr>\n",
       "    <tr>\n",
       "      <th>977242</th>\n",
       "      <td>Muito Bom</td>\n",
       "      <td>checkout</td>\n",
       "    </tr>\n",
       "    <tr>\n",
       "      <th>1350583</th>\n",
       "      <td>Excelente</td>\n",
       "      <td>checkout</td>\n",
       "    </tr>\n",
       "    <tr>\n",
       "      <th>624057</th>\n",
       "      <td>Muito Bom</td>\n",
       "      <td>checkout</td>\n",
       "    </tr>\n",
       "    <tr>\n",
       "      <th>624452</th>\n",
       "      <td>Muito Bom</td>\n",
       "      <td>checkout</td>\n",
       "    </tr>\n",
       "    <tr>\n",
       "      <th>624426</th>\n",
       "      <td>Muito Bom</td>\n",
       "      <td>checkout</td>\n",
       "    </tr>\n",
       "    <tr>\n",
       "      <th>624123</th>\n",
       "      <td>Muito Bom</td>\n",
       "      <td>checkout</td>\n",
       "    </tr>\n",
       "    <tr>\n",
       "      <th>748006</th>\n",
       "      <td>Excelente</td>\n",
       "      <td>checkout</td>\n",
       "    </tr>\n",
       "    <tr>\n",
       "      <th>1328696</th>\n",
       "      <td>Muito Bom</td>\n",
       "      <td>checkout</td>\n",
       "    </tr>\n",
       "    <tr>\n",
       "      <th>746698</th>\n",
       "      <td>Bom</td>\n",
       "      <td>checkout</td>\n",
       "    </tr>\n",
       "    <tr>\n",
       "      <th>648245</th>\n",
       "      <td>Excelente</td>\n",
       "      <td>checkout</td>\n",
       "    </tr>\n",
       "    <tr>\n",
       "      <th>723034</th>\n",
       "      <td>Excelente</td>\n",
       "      <td>checkout</td>\n",
       "    </tr>\n",
       "    <tr>\n",
       "      <th>1611039</th>\n",
       "      <td>Excelente</td>\n",
       "      <td>checkout</td>\n",
       "    </tr>\n",
       "    <tr>\n",
       "      <th>456464</th>\n",
       "      <td>Bom</td>\n",
       "      <td>checkout</td>\n",
       "    </tr>\n",
       "    <tr>\n",
       "      <th>456925</th>\n",
       "      <td>Bom</td>\n",
       "      <td>checkout</td>\n",
       "    </tr>\n",
       "    <tr>\n",
       "      <th>434250</th>\n",
       "      <td>Bom</td>\n",
       "      <td>checkout</td>\n",
       "    </tr>\n",
       "    <tr>\n",
       "      <th>1455815</th>\n",
       "      <td>Muito Bom</td>\n",
       "      <td>checkout</td>\n",
       "    </tr>\n",
       "    <tr>\n",
       "      <th>748037</th>\n",
       "      <td>Bom</td>\n",
       "      <td>checkout</td>\n",
       "    </tr>\n",
       "    <tr>\n",
       "      <th>581551</th>\n",
       "      <td>Excelente</td>\n",
       "      <td>checkout</td>\n",
       "    </tr>\n",
       "    <tr>\n",
       "      <th>581678</th>\n",
       "      <td>Excelente</td>\n",
       "      <td>checkout</td>\n",
       "    </tr>\n",
       "    <tr>\n",
       "      <th>517189</th>\n",
       "      <td>Muito Bom</td>\n",
       "      <td>checkout</td>\n",
       "    </tr>\n",
       "    <tr>\n",
       "      <th>1607253</th>\n",
       "      <td>Excelente</td>\n",
       "      <td>checkout</td>\n",
       "    </tr>\n",
       "    <tr>\n",
       "      <th>1259780</th>\n",
       "      <td>Muito Bom</td>\n",
       "      <td>checkout</td>\n",
       "    </tr>\n",
       "    <tr>\n",
       "      <th>96349</th>\n",
       "      <td>Muito Bom</td>\n",
       "      <td>checkout</td>\n",
       "    </tr>\n",
       "    <tr>\n",
       "      <th>1504503</th>\n",
       "      <td>Bom - Sem Touch ID</td>\n",
       "      <td>checkout</td>\n",
       "    </tr>\n",
       "  </tbody>\n",
       "</table>\n",
       "<p>65315 rows × 2 columns</p>\n",
       "</div>"
      ],
      "text/plain": [
       "                  condition     event\n",
       "1507286           Muito Bom  checkout\n",
       "1505383                 Bom  checkout\n",
       "1507716                 Bom  checkout\n",
       "208585            Excelente  checkout\n",
       "213543            Muito Bom  checkout\n",
       "244902                  Bom  checkout\n",
       "912538            Muito Bom  checkout\n",
       "912515            Muito Bom  checkout\n",
       "848525                  Bom  checkout\n",
       "924550                  Bom  checkout\n",
       "947732                  Bom  checkout\n",
       "62961                   Bom  checkout\n",
       "85369             Muito Bom  checkout\n",
       "803951                  Bom  checkout\n",
       "602473            Muito Bom  checkout\n",
       "86061             Muito Bom  checkout\n",
       "602562            Muito Bom  checkout\n",
       "730420                  Bom  checkout\n",
       "1565277                 Bom  checkout\n",
       "147839                  Bom  checkout\n",
       "78841             Muito Bom  checkout\n",
       "253667                  Bom  checkout\n",
       "386148            Muito Bom  checkout\n",
       "655990                  Bom  checkout\n",
       "387949                  Bom  checkout\n",
       "624905            Muito Bom  checkout\n",
       "386992            Muito Bom  checkout\n",
       "709063                  Bom  checkout\n",
       "709062                  Bom  checkout\n",
       "709061                  Bom  checkout\n",
       "...                     ...       ...\n",
       "91625             Muito Bom  checkout\n",
       "349971                  Bom  checkout\n",
       "228173                  Bom  checkout\n",
       "242119            Excelente  checkout\n",
       "974169            Muito Bom  checkout\n",
       "975245            Muito Bom  checkout\n",
       "977242            Muito Bom  checkout\n",
       "1350583           Excelente  checkout\n",
       "624057            Muito Bom  checkout\n",
       "624452            Muito Bom  checkout\n",
       "624426            Muito Bom  checkout\n",
       "624123            Muito Bom  checkout\n",
       "748006            Excelente  checkout\n",
       "1328696           Muito Bom  checkout\n",
       "746698                  Bom  checkout\n",
       "648245            Excelente  checkout\n",
       "723034            Excelente  checkout\n",
       "1611039           Excelente  checkout\n",
       "456464                  Bom  checkout\n",
       "456925                  Bom  checkout\n",
       "434250                  Bom  checkout\n",
       "1455815           Muito Bom  checkout\n",
       "748037                  Bom  checkout\n",
       "581551            Excelente  checkout\n",
       "581678            Excelente  checkout\n",
       "517189            Muito Bom  checkout\n",
       "1607253           Excelente  checkout\n",
       "1259780           Muito Bom  checkout\n",
       "96349             Muito Bom  checkout\n",
       "1504503  Bom - Sem Touch ID  checkout\n",
       "\n",
       "[65315 rows x 2 columns]"
      ]
     },
     "execution_count": 135,
     "metadata": {},
     "output_type": "execute_result"
    }
   ],
   "source": [
    "#input_train[input_train['new_vs_returning'] =='Returning']\n",
    "input_train[input_train['event'] == 'checkout'][['condition','event']]"
   ]
  },
  {
   "cell_type": "code",
   "execution_count": 137,
   "metadata": {},
   "outputs": [
    {
     "data": {
      "text/plain": [
       "(19415, 68)"
      ]
     },
     "execution_count": 137,
     "metadata": {},
     "output_type": "execute_result"
    }
   ],
   "source": [
    "new_vector_features_to_predict = new_vector_features.drop('resultKnown', axis = 1)[new_vector_features['resultKnown']==0] # Datos para predecir\n",
    "new_vector_features_to_predict.shape"
   ]
  },
  {
   "cell_type": "code",
   "execution_count": 138,
   "metadata": {},
   "outputs": [
    {
     "data": {
      "text/plain": [
       "(19414, 68)"
      ]
     },
     "execution_count": 138,
     "metadata": {},
     "output_type": "execute_result"
    }
   ],
   "source": [
    "new_vector_features_known = new_vector_features.drop('resultKnown', axis = 1)[new_vector_features['resultKnown']==1] # Datos para predecir\n",
    "new_vector_features_known.shape"
   ]
  },
  {
   "cell_type": "code",
   "execution_count": 139,
   "metadata": {
    "collapsed": true
   },
   "outputs": [],
   "source": [
    "to_submit = pd.read_csv(_PATH_DATASET + 'trocafone_kaggle_submit_sample_all_0.csv')\n",
    "new_vector_features_to_predict = new_vector_features_to_predict.reindex(to_submit.person)"
   ]
  },
  {
   "cell_type": "code",
   "execution_count": 140,
   "metadata": {
    "collapsed": true
   },
   "outputs": [],
   "source": [
    "new_vector_features_known.to_csv(_PATH_DATASET + 'out_features_processed_train.csv', sep=',', encoding='utf-8')\n",
    "new_vector_features_to_predict.to_csv(_PATH_DATASET + 'out_features_processed_to_predict.csv', sep=',', encoding='utf-8')"
   ]
  },
  {
   "cell_type": "code",
   "execution_count": 141,
   "metadata": {},
   "outputs": [
    {
     "data": {
      "text/html": [
       "<div>\n",
       "<style scoped>\n",
       "    .dataframe tbody tr th:only-of-type {\n",
       "        vertical-align: middle;\n",
       "    }\n",
       "\n",
       "    .dataframe tbody tr th {\n",
       "        vertical-align: top;\n",
       "    }\n",
       "\n",
       "    .dataframe thead th {\n",
       "        text-align: right;\n",
       "    }\n",
       "</style>\n",
       "<table border=\"1\" class=\"dataframe\">\n",
       "  <thead>\n",
       "    <tr style=\"text-align: right;\">\n",
       "      <th></th>\n",
       "      <th>label</th>\n",
       "      <th>resultKnown</th>\n",
       "      <th>timeDelta</th>\n",
       "      <th>last_inter_to_june</th>\n",
       "      <th>first_inter_to_june</th>\n",
       "      <th>interactions</th>\n",
       "      <th>isNotWeekend</th>\n",
       "      <th>isWeekend</th>\n",
       "      <th>isFortnite</th>\n",
       "      <th>isNotFortnite</th>\n",
       "      <th>...</th>\n",
       "      <th>channel_Social</th>\n",
       "      <th>channel_Unknown</th>\n",
       "      <th>device_type_Computer</th>\n",
       "      <th>device_type_Smartphone</th>\n",
       "      <th>device_type_Tablet</th>\n",
       "      <th>device_type_Unknown</th>\n",
       "      <th>perc_computer</th>\n",
       "      <th>perc_tablet</th>\n",
       "      <th>perc_smartphone</th>\n",
       "      <th>perc_unknown</th>\n",
       "    </tr>\n",
       "    <tr>\n",
       "      <th>person</th>\n",
       "      <th></th>\n",
       "      <th></th>\n",
       "      <th></th>\n",
       "      <th></th>\n",
       "      <th></th>\n",
       "      <th></th>\n",
       "      <th></th>\n",
       "      <th></th>\n",
       "      <th></th>\n",
       "      <th></th>\n",
       "      <th></th>\n",
       "      <th></th>\n",
       "      <th></th>\n",
       "      <th></th>\n",
       "      <th></th>\n",
       "      <th></th>\n",
       "      <th></th>\n",
       "      <th></th>\n",
       "      <th></th>\n",
       "      <th></th>\n",
       "      <th></th>\n",
       "    </tr>\n",
       "  </thead>\n",
       "  <tbody>\n",
       "    <tr>\n",
       "      <th>0566e9c1</th>\n",
       "      <td>0</td>\n",
       "      <td>1</td>\n",
       "      <td>772618.0</td>\n",
       "      <td>26916.0</td>\n",
       "      <td>799534.0</td>\n",
       "      <td>68</td>\n",
       "      <td>5</td>\n",
       "      <td>63</td>\n",
       "      <td>68</td>\n",
       "      <td>0</td>\n",
       "      <td>...</td>\n",
       "      <td>0</td>\n",
       "      <td>0</td>\n",
       "      <td>0</td>\n",
       "      <td>17</td>\n",
       "      <td>0</td>\n",
       "      <td>0</td>\n",
       "      <td>0.0</td>\n",
       "      <td>0.0</td>\n",
       "      <td>1.0</td>\n",
       "      <td>0.0</td>\n",
       "    </tr>\n",
       "    <tr>\n",
       "      <th>6ec7ee77</th>\n",
       "      <td>0</td>\n",
       "      <td>1</td>\n",
       "      <td>0.0</td>\n",
       "      <td>336876.0</td>\n",
       "      <td>336876.0</td>\n",
       "      <td>2</td>\n",
       "      <td>0</td>\n",
       "      <td>2</td>\n",
       "      <td>2</td>\n",
       "      <td>0</td>\n",
       "      <td>...</td>\n",
       "      <td>0</td>\n",
       "      <td>0</td>\n",
       "      <td>0</td>\n",
       "      <td>1</td>\n",
       "      <td>0</td>\n",
       "      <td>0</td>\n",
       "      <td>0.0</td>\n",
       "      <td>0.0</td>\n",
       "      <td>1.0</td>\n",
       "      <td>0.0</td>\n",
       "    </tr>\n",
       "    <tr>\n",
       "      <th>abe7a2fb</th>\n",
       "      <td>0</td>\n",
       "      <td>1</td>\n",
       "      <td>9335392.0</td>\n",
       "      <td>174046.0</td>\n",
       "      <td>9509438.0</td>\n",
       "      <td>96</td>\n",
       "      <td>32</td>\n",
       "      <td>64</td>\n",
       "      <td>32</td>\n",
       "      <td>64</td>\n",
       "      <td>...</td>\n",
       "      <td>2</td>\n",
       "      <td>0</td>\n",
       "      <td>0</td>\n",
       "      <td>22</td>\n",
       "      <td>0</td>\n",
       "      <td>0</td>\n",
       "      <td>0.0</td>\n",
       "      <td>0.0</td>\n",
       "      <td>1.0</td>\n",
       "      <td>0.0</td>\n",
       "    </tr>\n",
       "    <tr>\n",
       "      <th>34728364</th>\n",
       "      <td>0</td>\n",
       "      <td>1</td>\n",
       "      <td>742549.0</td>\n",
       "      <td>388950.0</td>\n",
       "      <td>1131499.0</td>\n",
       "      <td>37</td>\n",
       "      <td>4</td>\n",
       "      <td>33</td>\n",
       "      <td>37</td>\n",
       "      <td>0</td>\n",
       "      <td>...</td>\n",
       "      <td>0</td>\n",
       "      <td>0</td>\n",
       "      <td>0</td>\n",
       "      <td>4</td>\n",
       "      <td>0</td>\n",
       "      <td>0</td>\n",
       "      <td>0.0</td>\n",
       "      <td>0.0</td>\n",
       "      <td>1.0</td>\n",
       "      <td>0.0</td>\n",
       "    </tr>\n",
       "    <tr>\n",
       "      <th>87ed62de</th>\n",
       "      <td>0</td>\n",
       "      <td>1</td>\n",
       "      <td>1409.0</td>\n",
       "      <td>1123199.0</td>\n",
       "      <td>1124608.0</td>\n",
       "      <td>17</td>\n",
       "      <td>1</td>\n",
       "      <td>16</td>\n",
       "      <td>17</td>\n",
       "      <td>0</td>\n",
       "      <td>...</td>\n",
       "      <td>0</td>\n",
       "      <td>0</td>\n",
       "      <td>1</td>\n",
       "      <td>0</td>\n",
       "      <td>0</td>\n",
       "      <td>0</td>\n",
       "      <td>1.0</td>\n",
       "      <td>0.0</td>\n",
       "      <td>0.0</td>\n",
       "      <td>0.0</td>\n",
       "    </tr>\n",
       "  </tbody>\n",
       "</table>\n",
       "<p>5 rows × 69 columns</p>\n",
       "</div>"
      ],
      "text/plain": [
       "          label  resultKnown  timeDelta  last_inter_to_june  \\\n",
       "person                                                        \n",
       "0566e9c1      0            1   772618.0             26916.0   \n",
       "6ec7ee77      0            1        0.0            336876.0   \n",
       "abe7a2fb      0            1  9335392.0            174046.0   \n",
       "34728364      0            1   742549.0            388950.0   \n",
       "87ed62de      0            1     1409.0           1123199.0   \n",
       "\n",
       "          first_inter_to_june  interactions  isNotWeekend  isWeekend  \\\n",
       "person                                                                 \n",
       "0566e9c1             799534.0            68             5         63   \n",
       "6ec7ee77             336876.0             2             0          2   \n",
       "abe7a2fb            9509438.0            96            32         64   \n",
       "34728364            1131499.0            37             4         33   \n",
       "87ed62de            1124608.0            17             1         16   \n",
       "\n",
       "          isFortnite  isNotFortnite      ...       channel_Social  \\\n",
       "person                                   ...                        \n",
       "0566e9c1          68              0      ...                    0   \n",
       "6ec7ee77           2              0      ...                    0   \n",
       "abe7a2fb          32             64      ...                    2   \n",
       "34728364          37              0      ...                    0   \n",
       "87ed62de          17              0      ...                    0   \n",
       "\n",
       "          channel_Unknown  device_type_Computer  device_type_Smartphone  \\\n",
       "person                                                                    \n",
       "0566e9c1                0                     0                      17   \n",
       "6ec7ee77                0                     0                       1   \n",
       "abe7a2fb                0                     0                      22   \n",
       "34728364                0                     0                       4   \n",
       "87ed62de                0                     1                       0   \n",
       "\n",
       "          device_type_Tablet  device_type_Unknown  perc_computer  perc_tablet  \\\n",
       "person                                                                          \n",
       "0566e9c1                   0                    0            0.0          0.0   \n",
       "6ec7ee77                   0                    0            0.0          0.0   \n",
       "abe7a2fb                   0                    0            0.0          0.0   \n",
       "34728364                   0                    0            0.0          0.0   \n",
       "87ed62de                   0                    0            1.0          0.0   \n",
       "\n",
       "          perc_smartphone  perc_unknown  \n",
       "person                                   \n",
       "0566e9c1              1.0           0.0  \n",
       "6ec7ee77              1.0           0.0  \n",
       "abe7a2fb              1.0           0.0  \n",
       "34728364              1.0           0.0  \n",
       "87ed62de              0.0           0.0  \n",
       "\n",
       "[5 rows x 69 columns]"
      ]
     },
     "execution_count": 141,
     "metadata": {},
     "output_type": "execute_result"
    }
   ],
   "source": [
    "new_vector_features.head()"
   ]
  },
  {
   "cell_type": "code",
   "execution_count": 133,
   "metadata": {
    "_uuid": "78a546b64923ac4a3e0f0919b8797bc3ee053a99"
   },
   "outputs": [
    {
     "ename": "SyntaxError",
     "evalue": "invalid syntax (<ipython-input-133-26245e3454a6>, line 4)",
     "output_type": "error",
     "traceback": [
      "\u001b[0;36m  File \u001b[0;32m\"<ipython-input-133-26245e3454a6>\"\u001b[0;36m, line \u001b[0;32m4\u001b[0m\n\u001b[0;31m    dasdfs desde acá me fuí a la otra notebook, fuerzo error. sirve para tener referencias\u001b[0m\n\u001b[0m               ^\u001b[0m\n\u001b[0;31mSyntaxError\u001b[0m\u001b[0;31m:\u001b[0m invalid syntax\n"
     ]
    }
   ],
   "source": [
    "#X_train = new_vector_features.drop(\"label\", axis=1)\n",
    "#Y_train = new_vector_features[\"label\"]\n",
    "#X_test  = test_df.drop(\"PassengerId\", axis=1).copy()\n",
    "dasdfs desde acá me fuí a la otra notebook, fuerzo error. sirve para tener referencias"
   ]
  },
  {
   "cell_type": "code",
   "execution_count": null,
   "metadata": {},
   "outputs": [],
   "source": [
    "new_vector_features.reset_index()[new_vector_features.reset_index()['person']=='0566e9c1']"
   ]
  },
  {
   "cell_type": "code",
   "execution_count": null,
   "metadata": {},
   "outputs": [],
   "source": [
    "new_vector_features.head()"
   ]
  },
  {
   "cell_type": "code",
   "execution_count": null,
   "metadata": {
    "_uuid": "a7ecbad9dc076f6e79288b1f240ed9814b2b29b1",
    "collapsed": true
   },
   "outputs": [],
   "source": [
    "# Algorithms\n",
    "from sklearn import linear_model\n",
    "from sklearn.linear_model import LogisticRegression\n",
    "from sklearn.ensemble import RandomForestClassifier\n",
    "from sklearn.linear_model import Perceptron\n",
    "from sklearn.linear_model import SGDClassifier\n",
    "from sklearn.tree import DecisionTreeClassifier\n",
    "from sklearn.neighbors import KNeighborsClassifier\n",
    "from sklearn.svm import SVC, LinearSVC\n",
    "from sklearn.naive_bayes import GaussianNB"
   ]
  },
  {
   "cell_type": "code",
   "execution_count": null,
   "metadata": {
    "collapsed": true
   },
   "outputs": [],
   "source": [
    "'''\n",
    "This estimator implements regularized linear models with stochastic\n",
    "gradient descent (SGD) learning: the gradient of the loss is estimated\n",
    "each sample at a time and the model is updated along the way with a\n",
    "decreasing strength schedule (aka learning rate). SGD allows minibatch\n",
    "(online/out-of-core) learning, see the partial_fit method.\n",
    "For best results using the default learning rate schedule, the data should\n",
    "have zero mean and unit variance.\n",
    "'''\n",
    "sgd = linear_model.SGDClassifier(max_iter=5, tol=None)"
   ]
  },
  {
   "cell_type": "code",
   "execution_count": null,
   "metadata": {
    "collapsed": true
   },
   "outputs": [],
   "source": [
    "'''\n",
    "Ajustar el clasificador\n",
    "Fit linear model with Stochastic Gradient Descent.\n",
    "'''\n",
    "sgd.fit(X_train, y_train)"
   ]
  },
  {
   "cell_type": "code",
   "execution_count": null,
   "metadata": {
    "_uuid": "527d6d90744856e5840ec69eeb1d0f22865b47e2",
    "collapsed": true
   },
   "outputs": [],
   "source": [
    "'''\n",
    "Predict class labels for samples in X.\n",
    "'''\n",
    "Y_pred = sgd.predict(X_test)\n",
    "sgd.score(X_train, y_train)\n",
    "\n"
   ]
  },
  {
   "cell_type": "code",
   "execution_count": null,
   "metadata": {
    "collapsed": true
   },
   "outputs": [],
   "source": [
    "'''\n",
    "Returns the mean accuracy on the given test data and labels.\n",
    "'''\n",
    "acc_sgd = round(sgd.score(X_test, y_test) * 100, 2)\n",
    "\n",
    "acc_sgdPred = round(sgd.score(X_test, Y_pred) * 100, 2)\n",
    "\n",
    "print(round(acc_sgd,2,), \"%\")\n",
    "print(round(acc_sgdPred,2,), \"%\")"
   ]
  },
  {
   "cell_type": "code",
   "execution_count": null,
   "metadata": {
    "_uuid": "3c7069d66b120e6760e4879d0607c86d01d30e8f",
    "collapsed": true
   },
   "outputs": [],
   "source": [
    "# Random Forest\n",
    "random_forest = RandomForestClassifier(n_estimators=100)\n",
    "random_forest.fit(X_train, y_train)\n",
    "\n",
    "Y_prediction = random_forest.predict(X_test)\n",
    "\n",
    "random_forest.score(X_test, y_test)\n",
    "acc_random_forest = round(random_forest.score(X_test, y_test) * 100, 2)\n",
    "print(round(acc_random_forest,2,), \"%\")"
   ]
  },
  {
   "cell_type": "code",
   "execution_count": null,
   "metadata": {
    "_uuid": "d6ace5f9a47fbf41a1ea3aaae835451174fc6243",
    "collapsed": true
   },
   "outputs": [],
   "source": [
    "# Logistic Regression\n",
    "logreg = LogisticRegression()\n",
    "logreg.fit(X_train, y_train)\n",
    "\n",
    "Y_pred = logreg.predict(X_test)\n",
    "\n",
    "acc_log = round(logreg.score(X_test, y_test) * 100, 2)\n",
    "print(round(acc_log,2,), \"%\")\n",
    "\n"
   ]
  },
  {
   "cell_type": "code",
   "execution_count": null,
   "metadata": {
    "_uuid": "4b3fd189ab7413ba1840281f54a46237fe3027d6",
    "collapsed": true
   },
   "outputs": [],
   "source": [
    "# KNN\n",
    "knn = KNeighborsClassifier(n_neighbors = 3)\n",
    "knn.fit(X_train, y_train)\n",
    "\n",
    "Y_pred = knn.predict(X_test)\n",
    "\n",
    "acc_knn = round(knn.score(X_train, y_train) * 100, 2)\n",
    "print(round(acc_knn,2,), \"%\")"
   ]
  },
  {
   "cell_type": "code",
   "execution_count": null,
   "metadata": {
    "_uuid": "da87085cb2b543fcb119ed56c6832eead5b29953",
    "collapsed": true
   },
   "outputs": [],
   "source": [
    "# Gaussian Naive Bayes\n",
    "gaussian = GaussianNB()\n",
    "gaussian.fit(X_train, y_train)\n",
    "\n",
    "Y_pred = gaussian.predict(X_test)\n",
    "\n",
    "acc_gaussian = round(gaussian.score(X_train, y_train) * 100, 2)\n",
    "print(round(acc_gaussian,2,), \"%\")"
   ]
  },
  {
   "cell_type": "code",
   "execution_count": null,
   "metadata": {
    "_uuid": "bf901307ed184fdb9d2c7fbefdb4f99b5ae9717f",
    "collapsed": true
   },
   "outputs": [],
   "source": [
    "\n",
    "\n",
    "# Perceptron\n",
    "perceptron = Perceptron(max_iter=5)\n",
    "perceptron.fit(X_train, y_train)\n",
    "\n",
    "Y_pred = perceptron.predict(X_test)\n",
    "\n",
    "acc_perceptron = round(perceptron.score(X_train, y_train) * 100, 2)\n",
    "print(round(acc_perceptron,2,), \"%\")\n",
    "\n"
   ]
  },
  {
   "cell_type": "code",
   "execution_count": null,
   "metadata": {
    "_uuid": "0c227a210680b1e380a36093e143af14fffd4127",
    "collapsed": true
   },
   "outputs": [],
   "source": [
    "# Linear SVC\n",
    "linear_svc = LinearSVC()\n",
    "linear_svc.fit(X_train, y_train)\n",
    "\n",
    "Y_pred = linear_svc.predict(X_test)\n",
    "\n",
    "acc_linear_svc = round(linear_svc.score(X_train, y_train) * 100, 2)\n",
    "print(round(acc_linear_svc,2,), \"%\")"
   ]
  },
  {
   "cell_type": "code",
   "execution_count": null,
   "metadata": {
    "_uuid": "127268a374992c0ab291d886b58f0ca4bddac2f3",
    "collapsed": true
   },
   "outputs": [],
   "source": [
    "\n",
    "\n",
    "# Decision Tree\n",
    "decision_tree = DecisionTreeClassifier()\n",
    "decision_tree.fit(X_train, y_train)\n",
    "\n",
    "Y_pred = decision_tree.predict(X_test)\n",
    "\n",
    "acc_decision_tree = round(decision_tree.score(X_train, y_train) * 100, 2)\n",
    "print(round(acc_decision_tree,2,), \"%\")\n",
    "\n"
   ]
  },
  {
   "cell_type": "code",
   "execution_count": null,
   "metadata": {
    "_uuid": "ad104881f06e4b2ff8ecfcd03f76e991196e891d",
    "collapsed": true
   },
   "outputs": [],
   "source": [
    "results = pd.DataFrame({\n",
    "    'Model': ['Support Vector Machines', 'KNN', 'Logistic Regression', \n",
    "              'Random Forest', 'Naive Bayes', 'Perceptron', \n",
    "              'Stochastic Gradient Decent', \n",
    "              'Decision Tree'],\n",
    "    'Score': [acc_linear_svc, acc_knn, acc_log, \n",
    "              acc_random_forest, acc_gaussian, acc_perceptron, \n",
    "              acc_sgd, acc_decision_tree]})\n",
    "result_df = results.sort_values(by='Score', ascending=False)\n",
    "result_df = result_df.set_index('Score')\n",
    "result_df.head(9)"
   ]
  },
  {
   "cell_type": "code",
   "execution_count": null,
   "metadata": {
    "_uuid": "08f12c58a09b5b9c4889b3db6e4c27e34bd6bbc6",
    "collapsed": true
   },
   "outputs": [],
   "source": [
    "y_test.values"
   ]
  },
  {
   "cell_type": "code",
   "execution_count": null,
   "metadata": {
    "_uuid": "631e8ba277261f379f2f9b746b788ce7b2cc7ac5",
    "collapsed": true
   },
   "outputs": [],
   "source": [
    "sum(abs(Y_pred - y_test))"
   ]
  },
  {
   "cell_type": "code",
   "execution_count": null,
   "metadata": {
    "_uuid": "6661e4f31dee4fc63c092e013a5746f4762fa73a",
    "collapsed": true
   },
   "outputs": [],
   "source": [
    "Y_pred.shape"
   ]
  },
  {
   "cell_type": "code",
   "execution_count": null,
   "metadata": {
    "_uuid": "18cb0cde29f500d900ae017c14b14c6109162a81",
    "collapsed": true
   },
   "outputs": [],
   "source": [
    "296/5835"
   ]
  },
  {
   "cell_type": "code",
   "execution_count": null,
   "metadata": {
    "_uuid": "ba7578ff17f8c37776c609149ab3eb485c9e7160",
    "collapsed": true
   },
   "outputs": [],
   "source": [
    "\n",
    "\n",
    "from sklearn.model_selection import cross_val_score\n",
    "rf = RandomForestClassifier(n_estimators=100)\n",
    "scores = cross_val_score(rf, X_train, y_train, cv=10, scoring = \"accuracy\")\n",
    "\n"
   ]
  },
  {
   "cell_type": "code",
   "execution_count": null,
   "metadata": {
    "_uuid": "7278b092e494462053fcfc37b15eaef1db7d093e",
    "collapsed": true
   },
   "outputs": [],
   "source": [
    "print(\"Scores:\", scores)\n",
    "print(\"Mean:\", scores.mean())\n",
    "print(\"Standard Deviation:\", scores.std())"
   ]
  },
  {
   "cell_type": "markdown",
   "metadata": {
    "_uuid": "65c66bf4e6b49c57a6190970ab747e7b079c1d09"
   },
   "source": [
    "# Feature importance"
   ]
  },
  {
   "cell_type": "code",
   "execution_count": null,
   "metadata": {
    "_uuid": "248fa05b4290bb7a78fce65f5bc69c69e222bd02",
    "collapsed": true
   },
   "outputs": [],
   "source": [
    "importances = pd.DataFrame({'feature':X_train.columns,'importance':np.round(random_forest.feature_importances_,3)})\n",
    "importances = importances.sort_values('importance',ascending=False).set_index('feature')"
   ]
  },
  {
   "cell_type": "code",
   "execution_count": null,
   "metadata": {
    "_uuid": "dec284be37dfbbe006d85aef4d66b39424a2ec7a",
    "collapsed": true
   },
   "outputs": [],
   "source": [
    "importances.head(20)"
   ]
  },
  {
   "cell_type": "code",
   "execution_count": null,
   "metadata": {
    "_uuid": "5460b455365b41101a3f6d4163df876674937ee9",
    "collapsed": true
   },
   "outputs": [],
   "source": [
    "importances.plot.bar()"
   ]
  },
  {
   "cell_type": "code",
   "execution_count": null,
   "metadata": {
    "_uuid": "7f06eaf49f466483594507b28c3f05f79c362c07",
    "collapsed": true
   },
   "outputs": [],
   "source": [
    "from sklearn.model_selection import cross_val_predict\n",
    "from sklearn.metrics import confusion_matrix\n",
    "predictions = cross_val_predict(random_forest, X_train, y_train, cv=3)\n",
    "confusion_matrix(y_train, predictions)"
   ]
  },
  {
   "cell_type": "code",
   "execution_count": null,
   "metadata": {
    "_uuid": "fe8d3f9410dd9dbd687010a10788198a32ac254a",
    "collapsed": true
   },
   "outputs": [],
   "source": [
    "from sklearn.metrics import precision_recall_curve\n",
    "\n",
    "# getting the probabilities of our predictions\n",
    "y_scores = random_forest.predict_proba(X_test)\n",
    "y_scores = y_scores[:,1]\n",
    "\n",
    "precision, recall, threshold = precision_recall_curve(y_test, y_scores)"
   ]
  },
  {
   "cell_type": "code",
   "execution_count": null,
   "metadata": {
    "_uuid": "0cb320514573315cdcda8c78357f19e1666056df",
    "collapsed": true
   },
   "outputs": [],
   "source": [
    "import matplotlib.pyplot as plt\n",
    "def plot_precision_and_recall(precision, recall, threshold):\n",
    "    plt.plot(threshold, precision[:-1], \"r-\", label=\"precision\", linewidth=5)\n",
    "    plt.plot(threshold, recall[:-1], \"b\", label=\"recall\", linewidth=5)\n",
    "    plt.xlabel(\"threshold\", fontsize=19)\n",
    "    plt.legend(loc=\"upper right\", fontsize=19)\n",
    "    plt.ylim([0, 1])\n",
    "\n",
    "plt.figure(figsize=(14, 7))\n",
    "plot_precision_and_recall(precision, recall, threshold)\n",
    "plt.show()"
   ]
  },
  {
   "cell_type": "code",
   "execution_count": null,
   "metadata": {
    "_uuid": "79847816b5c54e9eb9fab66c9a003e61baddce54",
    "collapsed": true
   },
   "outputs": [],
   "source": [
    "knownLabels.head()"
   ]
  },
  {
   "cell_type": "code",
   "execution_count": null,
   "metadata": {
    "collapsed": true
   },
   "outputs": [],
   "source": []
  }
 ],
 "metadata": {
  "kernelspec": {
   "display_name": "Python 3",
   "language": "python",
   "name": "python3"
  },
  "language_info": {
   "codemirror_mode": {
    "name": "ipython",
    "version": 3
   },
   "file_extension": ".py",
   "mimetype": "text/x-python",
   "name": "python",
   "nbconvert_exporter": "python",
   "pygments_lexer": "ipython3",
   "version": "3.5.4"
  }
 },
 "nbformat": 4,
 "nbformat_minor": 1
}
